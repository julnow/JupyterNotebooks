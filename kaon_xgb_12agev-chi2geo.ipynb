{
 "cells": [
  {
   "cell_type": "markdown",
   "metadata": {},
   "source": [
    "Variables of filenames"
   ]
  },
  {
   "cell_type": "markdown",
   "metadata": {},
   "source": [
    "Background comes from URQMD, signal from DCM, for test dataset for both bckgr and sign generated in urqmd"
   ]
  },
  {
   "cell_type": "markdown",
   "metadata": {},
   "source": [
    "4:1 background/signal ratio before cleaning, 5M sign, 15k bckgr, 30k ALL, nochi2geo"
   ]
  },
  {
   "cell_type": "code",
   "execution_count": 1,
   "metadata": {},
   "outputs": [],
   "source": [
    "#PLAINTREE FILES NAMES\n",
    "directory='/Users/julnow/gsi/cbm/ML/JupyterNotebooks/'\n",
    "signalFileName = directory + 'PlainTree_5MSign.root'\n",
    "allURQMD = directory + 'PlainTree_30kAll_URQMD.root'\n",
    "allDCM = directory + 'PlainTree_20kAll_DCM.root'"
   ]
  },
  {
   "cell_type": "code",
   "execution_count": 2,
   "metadata": {
    "id": "wXUjK-nyW4xt"
   },
   "outputs": [],
   "source": [
    "%%capture\n",
    "!git clone https://github.com/shahidzk1/CBM_ML_Lambda_Library.git\n",
    "%cd CBM_ML_Lambda_Library\n",
    "!git pull origin main\n",
    "!pip install -r requirements.txt\n",
    "!python setup.py install"
   ]
  },
  {
   "cell_type": "code",
   "execution_count": 3,
   "metadata": {
    "id": "UXNBDcG472oy",
    "tags": []
   },
   "outputs": [],
   "source": [
    "import numpy as np\n",
    "import pandas as pd\n",
    "import matplotlib.pyplot as plt\n",
    "from matplotlib.ticker import (MultipleLocator, AutoMinorLocator)\n",
    "#from hipe4ml.model_handler import ModelHandler\n",
    "#from hipe4ml.tree_handler import TreeHandler\n",
    "from matplotlib.patches import ConnectionPatch\n",
    "from matplotlib.backends.backend_pdf import PdfPages\n",
    "#from hipe4ml import plot_utils\n",
    "\n",
    "import xgboost as xgb\n",
    "from sklearn.model_selection import train_test_split\n",
    "\n",
    "from sklearn.metrics import confusion_matrix, roc_curve, roc_auc_score\n",
    "\n",
    "from sklearn.tree import plot_tree\n",
    "from sklearn.tree import export_graphviz\n",
    "\n",
    "from sklearn.model_selection import cross_val_score\n",
    "import scipy\n",
    "from scipy.stats import uniform\n",
    "\n",
    "from numpy import sqrt, log, argmax\n",
    "\n",
    "import weakref \n",
    "import itertools\n",
    "\n",
    "from CBM_ML import tree_importer,  KFPF_lambda_cuts, plot_tools\n",
    "from bayes_opt import BayesianOptimization\n",
    "from bayes_opt import SequentialDomainReductionTransformer\n",
    "\n",
    "import gc, os"
   ]
  },
  {
   "cell_type": "markdown",
   "metadata": {
    "id": "s4Ie_PTM72qH"
   },
   "source": [
    "# Selecting Background and Signal\n",
    "We generate PlainTrees from: 2.5M events (signal) and 30k evenents (background) with Au-Au @12A GeV/c, DCMQGSM-SMM generator passed through CBM setup in GEANT4, without any cuts\n",
    "\n",
    "To omit imbalance classification problem we resample the data. We're deleting instances from the over-represented class (in our case the background) - it's called under-sampling, one of the resampling methods. \n",
    "\n",
    "So for training and testing we will get signal candidates from the 5 sigma region and  background from outside this region (4 times signal size)."
   ]
  },
  {
   "cell_type": "code",
   "execution_count": 4,
   "metadata": {
    "tags": []
   },
   "outputs": [],
   "source": [
    "#CUTS FOR MASS SELECTION\n",
    "#5 sigma region for signal\n",
    "lower5SigmaCutSign = 0.43485\n",
    "upper5SigmaCutSign = 0.56135\n",
    "#mean invariant mass\n",
    "invMass = 0.4981\n",
    "# \"5sigma\" (not acutal 5 sigma) region for background\n",
    "lower5SigmaCutBckgr = 0.279\n",
    "upper5SigmaCutBckgr = 1"
   ]
  },
  {
   "cell_type": "code",
   "execution_count": 5,
   "metadata": {
    "id": "wKnmnX_TwAig"
   },
   "outputs": [
    {
     "data": {
      "text/plain": [
       "2506"
      ]
     },
     "execution_count": 5,
     "metadata": {},
     "output_type": "execute_result"
    }
   ],
   "source": [
    "# We import three root files into our jupyter notebook\n",
    "#sign - before cleaning but after 5sigma seletion, signal - cleaned\n",
    "#so that we dont have to reimport everything with each change\n",
    "sign = tree_importer.tree_importer(signalFileName,'PlainTree',7)\n",
    "\n",
    "# We only select lambda candidates in the 5 sigma region around the kaon mass peak\n",
    "#we preserve the cleaned dataframe with a changed name\n",
    "sign = sign[(sign['Candidates_generation']==1) & (sign['Candidates_mass']>lower5SigmaCutSign) & (sign['Candidates_mass']<upper5SigmaCutSign)]\n",
    "\n",
    "# Similarly for the background, we select background candidates which are not in the 5 sigma region of the kaon peak\n",
    "bckgr = tree_importer.tree_importer(allURQMD,'PlainTree',7)\n",
    "#we preserve the cleaned dataframe with a changed name\n",
    "bckgr = bckgr[(bckgr['Candidates_generation'] < 1)\n",
    "                 & ((bckgr['Candidates_mass'] > lower5SigmaCutBckgr)\n",
    "                 & (bckgr['Candidates_mass'] < lower5SigmaCutSign) | (bckgr['Candidates_mass']>upper5SigmaCutSign) \n",
    "                    & (bckgr['Candidates_mass'] < upper5SigmaCutBckgr))\n",
    "             ].sample(n=4*(sign.shape[0])) #we select bckgr so that we have 4*more entries that for signal (before cleaning)\n",
    "\n",
    "#Also call the garbage collector of python to collect unused items to free memory\n",
    "gc.collect()"
   ]
  },
  {
   "cell_type": "code",
   "execution_count": 6,
   "metadata": {
    "tags": []
   },
   "outputs": [
    {
     "data": {
      "text/html": [
       "<div>\n",
       "<style scoped>\n",
       "    .dataframe tbody tr th:only-of-type {\n",
       "        vertical-align: middle;\n",
       "    }\n",
       "\n",
       "    .dataframe tbody tr th {\n",
       "        vertical-align: top;\n",
       "    }\n",
       "\n",
       "    .dataframe thead th {\n",
       "        text-align: right;\n",
       "    }\n",
       "</style>\n",
       "<table border=\"1\" class=\"dataframe\">\n",
       "  <thead>\n",
       "    <tr style=\"text-align: right;\">\n",
       "      <th></th>\n",
       "      <th>chi2geo</th>\n",
       "      <th>chi2primfirst</th>\n",
       "      <th>chi2primsecond</th>\n",
       "      <th>chi2topo</th>\n",
       "      <th>cosinefirst</th>\n",
       "      <th>cosinesecond</th>\n",
       "      <th>cosinetopo</th>\n",
       "      <th>distance</th>\n",
       "      <th>eta</th>\n",
       "      <th>l</th>\n",
       "      <th>...</th>\n",
       "      <th>pT</th>\n",
       "      <th>phi</th>\n",
       "      <th>px</th>\n",
       "      <th>py</th>\n",
       "      <th>pz</th>\n",
       "      <th>rapidity</th>\n",
       "      <th>x</th>\n",
       "      <th>y</th>\n",
       "      <th>z</th>\n",
       "      <th>issignal</th>\n",
       "    </tr>\n",
       "  </thead>\n",
       "  <tbody>\n",
       "    <tr>\n",
       "      <th>0</th>\n",
       "      <td>1.055125</td>\n",
       "      <td>1.191851e+03</td>\n",
       "      <td>2.418227e+03</td>\n",
       "      <td>1.382537</td>\n",
       "      <td>0.992775</td>\n",
       "      <td>0.978738</td>\n",
       "      <td>0.999984</td>\n",
       "      <td>0.010199</td>\n",
       "      <td>1.767213</td>\n",
       "      <td>0.831264</td>\n",
       "      <td>...</td>\n",
       "      <td>0.858095</td>\n",
       "      <td>-1.419017</td>\n",
       "      <td>0.129742</td>\n",
       "      <td>-0.848230</td>\n",
       "      <td>2.438579</td>\n",
       "      <td>1.629621</td>\n",
       "      <td>-0.138814</td>\n",
       "      <td>-0.281002</td>\n",
       "      <td>0.784715</td>\n",
       "      <td>1.0</td>\n",
       "    </tr>\n",
       "    <tr>\n",
       "      <th>1</th>\n",
       "      <td>1.675698</td>\n",
       "      <td>1.191851e+03</td>\n",
       "      <td>2.562767e+00</td>\n",
       "      <td>1.478705</td>\n",
       "      <td>0.992461</td>\n",
       "      <td>0.979261</td>\n",
       "      <td>0.995678</td>\n",
       "      <td>0.176995</td>\n",
       "      <td>1.760604</td>\n",
       "      <td>0.462111</td>\n",
       "      <td>...</td>\n",
       "      <td>0.872880</td>\n",
       "      <td>-1.416307</td>\n",
       "      <td>0.134315</td>\n",
       "      <td>-0.862485</td>\n",
       "      <td>2.463272</td>\n",
       "      <td>1.624846</td>\n",
       "      <td>-0.118300</td>\n",
       "      <td>-0.178443</td>\n",
       "      <td>0.427863</td>\n",
       "      <td>1.0</td>\n",
       "    </tr>\n",
       "    <tr>\n",
       "      <th>2</th>\n",
       "      <td>0.884655</td>\n",
       "      <td>7.708000e+05</td>\n",
       "      <td>6.868500e+03</td>\n",
       "      <td>0.525167</td>\n",
       "      <td>0.986342</td>\n",
       "      <td>0.971431</td>\n",
       "      <td>0.999988</td>\n",
       "      <td>0.621583</td>\n",
       "      <td>3.087167</td>\n",
       "      <td>6.618644</td>\n",
       "      <td>...</td>\n",
       "      <td>0.189899</td>\n",
       "      <td>-2.975034</td>\n",
       "      <td>-0.187271</td>\n",
       "      <td>-0.031483</td>\n",
       "      <td>2.076483</td>\n",
       "      <td>2.065397</td>\n",
       "      <td>-0.803517</td>\n",
       "      <td>-0.114543</td>\n",
       "      <td>6.589974</td>\n",
       "      <td>1.0</td>\n",
       "    </tr>\n",
       "    <tr>\n",
       "      <th>3</th>\n",
       "      <td>0.005968</td>\n",
       "      <td>7.835867e+03</td>\n",
       "      <td>6.868500e+03</td>\n",
       "      <td>1.604101</td>\n",
       "      <td>0.986588</td>\n",
       "      <td>0.972632</td>\n",
       "      <td>0.999912</td>\n",
       "      <td>0.122127</td>\n",
       "      <td>3.098664</td>\n",
       "      <td>6.632589</td>\n",
       "      <td>...</td>\n",
       "      <td>0.185934</td>\n",
       "      <td>-2.957098</td>\n",
       "      <td>-0.182778</td>\n",
       "      <td>-0.034110</td>\n",
       "      <td>2.056715</td>\n",
       "      <td>2.062181</td>\n",
       "      <td>-0.830276</td>\n",
       "      <td>-0.054652</td>\n",
       "      <td>6.602469</td>\n",
       "      <td>1.0</td>\n",
       "    </tr>\n",
       "    <tr>\n",
       "      <th>4</th>\n",
       "      <td>0.048226</td>\n",
       "      <td>1.085611e+07</td>\n",
       "      <td>9.202689e+05</td>\n",
       "      <td>0.103476</td>\n",
       "      <td>0.928590</td>\n",
       "      <td>0.993457</td>\n",
       "      <td>1.000000</td>\n",
       "      <td>0.000261</td>\n",
       "      <td>2.737351</td>\n",
       "      <td>7.693739</td>\n",
       "      <td>...</td>\n",
       "      <td>0.224500</td>\n",
       "      <td>2.629986</td>\n",
       "      <td>-0.195755</td>\n",
       "      <td>0.109911</td>\n",
       "      <td>1.726547</td>\n",
       "      <td>1.875214</td>\n",
       "      <td>-1.039354</td>\n",
       "      <td>0.486576</td>\n",
       "      <td>7.631403</td>\n",
       "      <td>1.0</td>\n",
       "    </tr>\n",
       "    <tr>\n",
       "      <th>5</th>\n",
       "      <td>1.564517</td>\n",
       "      <td>1.755055e+06</td>\n",
       "      <td>3.325792e+06</td>\n",
       "      <td>3.620159</td>\n",
       "      <td>0.986431</td>\n",
       "      <td>0.917482</td>\n",
       "      <td>0.999995</td>\n",
       "      <td>0.005039</td>\n",
       "      <td>2.155051</td>\n",
       "      <td>6.028908</td>\n",
       "      <td>...</td>\n",
       "      <td>0.337338</td>\n",
       "      <td>0.300585</td>\n",
       "      <td>0.322212</td>\n",
       "      <td>0.099879</td>\n",
       "      <td>1.435782</td>\n",
       "      <td>1.604478</td>\n",
       "      <td>1.300065</td>\n",
       "      <td>0.455394</td>\n",
       "      <td>5.872846</td>\n",
       "      <td>1.0</td>\n",
       "    </tr>\n",
       "    <tr>\n",
       "      <th>6</th>\n",
       "      <td>0.265824</td>\n",
       "      <td>1.272178e+06</td>\n",
       "      <td>1.287558e+04</td>\n",
       "      <td>6.075241</td>\n",
       "      <td>0.995461</td>\n",
       "      <td>0.924863</td>\n",
       "      <td>0.999973</td>\n",
       "      <td>0.357877</td>\n",
       "      <td>2.018910</td>\n",
       "      <td>12.209123</td>\n",
       "      <td>...</td>\n",
       "      <td>0.487980</td>\n",
       "      <td>0.198032</td>\n",
       "      <td>0.478443</td>\n",
       "      <td>0.096005</td>\n",
       "      <td>1.804870</td>\n",
       "      <td>1.678201</td>\n",
       "      <td>3.072731</td>\n",
       "      <td>0.596965</td>\n",
       "      <td>11.803755</td>\n",
       "      <td>1.0</td>\n",
       "    </tr>\n",
       "    <tr>\n",
       "      <th>7</th>\n",
       "      <td>0.022228</td>\n",
       "      <td>1.088933e+05</td>\n",
       "      <td>6.886050e+06</td>\n",
       "      <td>0.706851</td>\n",
       "      <td>0.992894</td>\n",
       "      <td>0.945111</td>\n",
       "      <td>0.999997</td>\n",
       "      <td>0.002335</td>\n",
       "      <td>2.561906</td>\n",
       "      <td>4.082486</td>\n",
       "      <td>...</td>\n",
       "      <td>0.296266</td>\n",
       "      <td>0.904720</td>\n",
       "      <td>0.183064</td>\n",
       "      <td>0.232940</td>\n",
       "      <td>1.908443</td>\n",
       "      <td>1.902381</td>\n",
       "      <td>0.388764</td>\n",
       "      <td>0.523826</td>\n",
       "      <td>4.035477</td>\n",
       "      <td>1.0</td>\n",
       "    </tr>\n",
       "    <tr>\n",
       "      <th>8</th>\n",
       "      <td>0.339643</td>\n",
       "      <td>1.089560e+05</td>\n",
       "      <td>5.384653e+05</td>\n",
       "      <td>1.219999</td>\n",
       "      <td>0.984684</td>\n",
       "      <td>0.943475</td>\n",
       "      <td>0.999985</td>\n",
       "      <td>0.009880</td>\n",
       "      <td>2.285058</td>\n",
       "      <td>2.682313</td>\n",
       "      <td>...</td>\n",
       "      <td>0.328416</td>\n",
       "      <td>0.141954</td>\n",
       "      <td>0.325112</td>\n",
       "      <td>0.046463</td>\n",
       "      <td>1.596834</td>\n",
       "      <td>1.708246</td>\n",
       "      <td>0.522859</td>\n",
       "      <td>0.109796</td>\n",
       "      <td>2.630366</td>\n",
       "      <td>1.0</td>\n",
       "    </tr>\n",
       "    <tr>\n",
       "      <th>9</th>\n",
       "      <td>0.230005</td>\n",
       "      <td>2.651816e+03</td>\n",
       "      <td>5.384653e+05</td>\n",
       "      <td>0.681214</td>\n",
       "      <td>0.984095</td>\n",
       "      <td>0.943596</td>\n",
       "      <td>0.999702</td>\n",
       "      <td>0.039568</td>\n",
       "      <td>2.292220</td>\n",
       "      <td>2.849284</td>\n",
       "      <td>...</td>\n",
       "      <td>0.322286</td>\n",
       "      <td>0.141475</td>\n",
       "      <td>0.319066</td>\n",
       "      <td>0.045444</td>\n",
       "      <td>1.578531</td>\n",
       "      <td>1.704835</td>\n",
       "      <td>0.505560</td>\n",
       "      <td>0.086819</td>\n",
       "      <td>2.805001</td>\n",
       "      <td>1.0</td>\n",
       "    </tr>\n",
       "  </tbody>\n",
       "</table>\n",
       "<p>10 rows × 23 columns</p>\n",
       "</div>"
      ],
      "text/plain": [
       "    chi2geo  chi2primfirst  chi2primsecond  chi2topo  cosinefirst  \\\n",
       "0  1.055125   1.191851e+03    2.418227e+03  1.382537     0.992775   \n",
       "1  1.675698   1.191851e+03    2.562767e+00  1.478705     0.992461   \n",
       "2  0.884655   7.708000e+05    6.868500e+03  0.525167     0.986342   \n",
       "3  0.005968   7.835867e+03    6.868500e+03  1.604101     0.986588   \n",
       "4  0.048226   1.085611e+07    9.202689e+05  0.103476     0.928590   \n",
       "5  1.564517   1.755055e+06    3.325792e+06  3.620159     0.986431   \n",
       "6  0.265824   1.272178e+06    1.287558e+04  6.075241     0.995461   \n",
       "7  0.022228   1.088933e+05    6.886050e+06  0.706851     0.992894   \n",
       "8  0.339643   1.089560e+05    5.384653e+05  1.219999     0.984684   \n",
       "9  0.230005   2.651816e+03    5.384653e+05  0.681214     0.984095   \n",
       "\n",
       "   cosinesecond  cosinetopo  distance       eta          l  ...        pT  \\\n",
       "0      0.978738    0.999984  0.010199  1.767213   0.831264  ...  0.858095   \n",
       "1      0.979261    0.995678  0.176995  1.760604   0.462111  ...  0.872880   \n",
       "2      0.971431    0.999988  0.621583  3.087167   6.618644  ...  0.189899   \n",
       "3      0.972632    0.999912  0.122127  3.098664   6.632589  ...  0.185934   \n",
       "4      0.993457    1.000000  0.000261  2.737351   7.693739  ...  0.224500   \n",
       "5      0.917482    0.999995  0.005039  2.155051   6.028908  ...  0.337338   \n",
       "6      0.924863    0.999973  0.357877  2.018910  12.209123  ...  0.487980   \n",
       "7      0.945111    0.999997  0.002335  2.561906   4.082486  ...  0.296266   \n",
       "8      0.943475    0.999985  0.009880  2.285058   2.682313  ...  0.328416   \n",
       "9      0.943596    0.999702  0.039568  2.292220   2.849284  ...  0.322286   \n",
       "\n",
       "        phi        px        py        pz  rapidity         x         y  \\\n",
       "0 -1.419017  0.129742 -0.848230  2.438579  1.629621 -0.138814 -0.281002   \n",
       "1 -1.416307  0.134315 -0.862485  2.463272  1.624846 -0.118300 -0.178443   \n",
       "2 -2.975034 -0.187271 -0.031483  2.076483  2.065397 -0.803517 -0.114543   \n",
       "3 -2.957098 -0.182778 -0.034110  2.056715  2.062181 -0.830276 -0.054652   \n",
       "4  2.629986 -0.195755  0.109911  1.726547  1.875214 -1.039354  0.486576   \n",
       "5  0.300585  0.322212  0.099879  1.435782  1.604478  1.300065  0.455394   \n",
       "6  0.198032  0.478443  0.096005  1.804870  1.678201  3.072731  0.596965   \n",
       "7  0.904720  0.183064  0.232940  1.908443  1.902381  0.388764  0.523826   \n",
       "8  0.141954  0.325112  0.046463  1.596834  1.708246  0.522859  0.109796   \n",
       "9  0.141475  0.319066  0.045444  1.578531  1.704835  0.505560  0.086819   \n",
       "\n",
       "           z  issignal  \n",
       "0   0.784715       1.0  \n",
       "1   0.427863       1.0  \n",
       "2   6.589974       1.0  \n",
       "3   6.602469       1.0  \n",
       "4   7.631403       1.0  \n",
       "5   5.872846       1.0  \n",
       "6  11.803755       1.0  \n",
       "7   4.035477       1.0  \n",
       "8   2.630366       1.0  \n",
       "9   2.805001       1.0  \n",
       "\n",
       "[10 rows x 23 columns]"
      ]
     },
     "execution_count": 6,
     "metadata": {},
     "output_type": "execute_result"
    }
   ],
   "source": [
    "#we remove name prefixes 'Candidates' and do some renaming\n",
    "bckgr.columns = bckgr.columns.str.replace('Candidates_', '')\n",
    "bckgr.columns = bckgr.columns.str.replace('_', '')\n",
    "sign.columns = sign.columns.str.replace('Candidates_', '')\n",
    "sign.columns = sign.columns.str.replace('_', '')\n",
    "#we also get rid of coordinates errors\n",
    "sign = sign.drop(columns=['xerror', 'yerror', 'zerror', 'daughter1id', 'daughter2id', 'pid', 'pTerr', 'etaerr', 'masserr', 'phierr']).rename(columns={'generation' : 'issignal'})\n",
    "bckgr = bckgr.drop(columns=['xerror', 'yerror', 'zerror', 'daughter1id', 'daughter2id', 'pid', 'pTerr', 'etaerr', 'masserr', 'phierr']).rename(columns={'generation' : 'issignal'})\n",
    "#let's check the name prefixes \n",
    "sign.iloc[0:10,:]"
   ]
  },
  {
   "cell_type": "markdown",
   "metadata": {
    "id": "KSmy1dEU72pz"
   },
   "source": [
    "The label 'issignal' tells us if an entry comes from signal (1) or background (0)"
   ]
  },
  {
   "cell_type": "markdown",
   "metadata": {
    "id": "0WHuzi6GxB1L"
   },
   "source": [
    "# Data Cleaning\n",
    "Sometimes a data set contains entries which are outliers or does not make sense. For example, infinite values or NaN entries. We clean the data by removing these entries. \n",
    "\n",
    "Similarly, CBM is a fixed target experiment so there are certain conditions which the data has to satisfy before it is considered as reliable data.So we apply certain limits on the data sets.\n",
    "\n",
    "The values of these cuts are described: https://drive.google.com/file/d/1tb0FBRq4KgVu-VQZgpjA8ONbIGVCNOnE/view?usp=sharing https://github.com/julnow/JupyterNotebooks/blob/kaon/CBM%20K-short%20data%20cleaning.pdf"
   ]
  },
  {
   "cell_type": "code",
   "execution_count": 7,
   "metadata": {},
   "outputs": [],
   "source": [
    "#CUTS USED FOR DATA CLEANING\n",
    "#mass cuts for both bckgr and sign\n",
    "lowerMassCut = 0.279\n",
    "upperMassCut = 1\n",
    "#distance cuts\n",
    "#DCA\n",
    "lowerDcaCut = 0\n",
    "upperDcaCut = 100\n",
    "#l distance\n",
    "lowerLCut = -5\n",
    "upperLCut = 80\n",
    "#loverdl\n",
    "lowerLdlCut = -25\n",
    "upperLdlCut = 15000\n",
    "#coordinate cuts\n",
    "absXCut = 50\n",
    "absYCut = 50\n",
    "lowerZCut = -1\n",
    "upperZCut = 80\n",
    "#momentums cuts\n",
    "pzLowerCut = 0\n",
    "pUpperCut = 20\n",
    "ptUpperCut = 3\n",
    "#chi2\n",
    "#geo\n",
    "lowerChi2GeoCut = 0\n",
    "upperChi2GeoCut = 10000\n",
    "#topo\n",
    "lowerChi2TopoCut = 0\n",
    "upperChi2TopoCut = 100000\n",
    "#prim first\n",
    "lowerChi2PrimFirstCut = 0\n",
    "upperChi2PrimFirstCut = 3e7\n",
    "#prim second\n",
    "lowerChi2PrimSecondCut = 0\n",
    "upperChi2PrimSecondCut = 3e7\n",
    "#pseudorapidity cuts\n",
    "lowerEtaCut = 1.\n",
    "upperEtaCut = 6.5"
   ]
  },
  {
   "cell_type": "code",
   "execution_count": 8,
   "metadata": {
    "id": "LEmS1939xEDS",
    "tags": []
   },
   "outputs": [],
   "source": [
    "def clean_df(df):\n",
    "    # let's treat all the infinite, inf, values by nan and then we drop all the null entries\n",
    "    with pd.option_context('mode.use_inf_as_na', True):\n",
    "        df = df.dropna()\n",
    "    #Experimental constraints\n",
    "    is_good_mom = (df['pz'] > pzLowerCut) & (df['p']<pUpperCut) & (df['pT']<ptUpperCut)\n",
    "    is_good_coord = (abs(df['x']) < absXCut) & (abs(df['y']) < absYCut) & (df['z']>lowerZCut) & (df['z']<upperZCut)\n",
    "    is_good_params = (df['distance'] > lowerDcaCut) & (df['distance'] < upperDcaCut) & (df['chi2geo']>lowerChi2GeoCut) & (df['chi2geo'] < upperChi2GeoCut) & (df['chi2topo'] > lowerChi2TopoCut) & (df['chi2topo'] < upperChi2TopoCut) & (df['eta']>lowerEtaCut) & (df['eta']<upperEtaCut)& (df['l']>lowerLCut) & (df['l']<upperLCut) & (df['loverdl']>lowerLdlCut) & (df['loverdl']<upperLdlCut)\n",
    "    is_good_daughters = (df['chi2primfirst']>lowerChi2PrimFirstCut) & (df['chi2primfirst'] < upperChi2PrimSecondCut) & (df['chi2primsecond']>lowerChi2PrimSecondCut) & (df['chi2primsecond']<upperChi2PrimFirstCut)\n",
    "    is_good_mass = (df['mass']>lowerMassCut) & (df['mass']<upperMassCut)\n",
    "\n",
    "    is_good_df = (is_good_mom) & (is_good_coord) & (is_good_params) & (is_good_daughters) & (is_good_mass)\n",
    "\n",
    "    return df[is_good_df]"
   ]
  },
  {
   "cell_type": "code",
   "execution_count": 9,
   "metadata": {
    "id": "RpWTegAtxF9F"
   },
   "outputs": [
    {
     "name": "stdout",
     "output_type": "stream",
     "text": [
      "size of:\n",
      "signal: 4521056\n",
      "background: 16713115\n",
      "background to signal ratio: 3.7\n"
     ]
    }
   ],
   "source": [
    "background = clean_df(bckgr)\n",
    "signal = clean_df(sign)\n",
    "print('size of:\\nsignal: ' + str(len(signal)) + '\\nbackground: ' + str(len(background)) \n",
    "      + '\\nbackground to signal ratio: ' + str(round(len(background)/len(signal), 1)))\n",
    "del sign, bckgr"
   ]
  },
  {
   "cell_type": "markdown",
   "metadata": {},
   "source": [
    "We'll also import and clean dataset of 10k events for both background and signal (for testing our algorhitm)"
   ]
  },
  {
   "cell_type": "code",
   "execution_count": 10,
   "metadata": {
    "id": "OUTTkp2072qI"
   },
   "outputs": [
    {
     "data": {
      "text/plain": [
       "22"
      ]
     },
     "execution_count": 10,
     "metadata": {},
     "output_type": "execute_result"
    }
   ],
   "source": [
    "#Let's combine signal and background\n",
    "df_scaled = pd.concat([signal, background])\n",
    "del signal, background\n",
    "gc.collect()"
   ]
  },
  {
   "cell_type": "markdown",
   "metadata": {
    "id": "s4Ie_PTM72qH"
   },
   "source": [
    "# Selecting Background and Signal\n",
    "After cleaning, our training data set contains 450442 background candidates and 1638402 signal candidates (background to signal ratio $\\approx 3.6$). For testing, we'll use cleaned dataset containing 28740227 entries of signal and background (background to signal ratio $\\approx 1985.1$)\n",
    "\n",
    "Here, we use under-sampling to tackle the problem with the classification of underrepresented class (normally, the signal is only approx. 0.05% of real data)"
   ]
  },
  {
   "cell_type": "code",
   "execution_count": 11,
   "metadata": {},
   "outputs": [],
   "source": [
    "if not os.path.exists(directory+'img/xgb_12agev/chi2geo'):\n",
    "    os.makedirs(directory+'img/xgb_12agev/chi2geo')\n",
    "#lets draw sign to background ratio\n",
    "def plt_sig_back(df):\n",
    "    range1 = (lowerMassCut, upperMassCut)\n",
    "    fig, axs = plt.subplots(figsize=(20, 10))\n",
    "    #df_scaled['mass'].plot.hist(bins = 300, range=range1,grid=True,sharey=True)\n",
    "    (df[df['issignal']==0])['mass'].plot.hist(bins = 300, facecolor='yellow',grid=True,range=range1, label='Background')\n",
    "    (df[df['issignal']==1])['mass'].plot.hist(bins = 300, facecolor='magenta',grid=True, range=range1, label ='Signal')\n",
    "    #plt.vlines(x=1.108,ymin=-1,ymax=48000, color='black', linestyle='-')\n",
    "    #plt.vlines(x=1.1227,ymin=-1,ymax=48000, color='black', linestyle='-')\n",
    "    plt.ylabel(\"Counts (log scale)\", fontsize=15)\n",
    "    plt.xlabel(\"Mass in GeV/$c^2$\", fontsize= 15)\n",
    "    plt.xticks(fontsize=15)\n",
    "    plt.yticks(fontsize=15)\n",
    "    plt.title('Test and Train K-short Invariant Mass', fontsize = 15)\n",
    "    plt.legend( fontsize = 15)\n",
    "    axs.tick_params(axis='both', which='major', labelsize=18)\n",
    "    plt.yscale(\"log\")\n",
    "    fig.tight_layout()\n",
    "    fig.savefig(directory+'img/xgb_12agev/chi2geo/inv_mass_trainset.pdf')\n",
    "    fig.savefig(directory+'img/xgb_12agev/chi2geo/inv_mass_trainset.png')"
   ]
  },
  {
   "cell_type": "code",
   "execution_count": 12,
   "metadata": {
    "id": "AVQErryc72qc"
   },
   "outputs": [
    {
     "data": {
      "text/plain": [
       "0"
      ]
     },
     "execution_count": 12,
     "metadata": {},
     "output_type": "execute_result"
    },
    {
     "data": {
      "image/png": "[encoded data removed]",
      "text/plain": [
       "<Figure size 1440x720 with 1 Axes>"
      ]
     },
     "metadata": {
      "needs_background": "light"
     },
     "output_type": "display_data"
    }
   ],
   "source": [
    "#import matplotlib.font_manage\n",
    "#plt.get_cache_dir()\n",
    "plt_sig_back(df_scaled)\n",
    "gc.collect()"
   ]
  },
  {
   "cell_type": "markdown",
   "metadata": {
    "id": "KyveX9Lh72qk"
   },
   "source": [
    "# Creating Train and Test sets\n",
    "To make machine learning algorithms more efficient on unseen data we divide our data into two sets. One set is for training the algorithm and the other is for testing the algorithm. If we don't do this then the algorithm can overfit and we will not capture the general trends in the data. "
   ]
  },
  {
   "cell_type": "code",
   "execution_count": 13,
   "metadata": {
    "id": "VOEQTRhb72ql"
   },
   "outputs": [
    {
     "data": {
      "text/plain": [
       "44638"
      ]
     },
     "execution_count": 13,
     "metadata": {},
     "output_type": "execute_result"
    }
   ],
   "source": [
    "# The following columns will be used to predict whether a reconstructed candidate is a lambda particle or not\n",
    "cuts = [ 'loverdl', 'distance', 'chi2topo', 'chi2primfirst', 'chi2primsecond', 'chi2geo'] \n",
    "\n",
    "\n",
    "x = df_scaled[cuts].copy()\n",
    "\n",
    "# The MC information is saved in this y variable\n",
    "y =pd.DataFrame(df_scaled['issignal'], dtype='int')\n",
    "\n",
    "x_train, x_test, y_train, y_test = train_test_split(x, y, test_size=0.5, random_state=324)\n",
    "del df_scaled, x, y\n",
    "\n",
    "#DMatrix is a internal data structure that used by XGBoost which is optimized for both memory efficiency and training speed. \n",
    "dtrain = xgb.DMatrix(x_train, label = y_train)\n",
    "dtest1=xgb.DMatrix(x_test, label = y_test)\n",
    "del x_test\n",
    "gc.collect()"
   ]
  },
  {
   "cell_type": "markdown",
   "metadata": {
    "id": "1FihmBwJ72rE",
    "tags": []
   },
   "source": [
    "## Bayesian optimization\n",
    "In order to find the best parameters of XGB for our data we use Bayesian optimization. Grid search and and random search could also do the same job but bayesian is more time efficient. For further reading visit [the git page](https://github.com/fmfn/BayesianOptimization) of the bayesian optimization used here.\n",
    "\n",
    "### Hyper parameters\n",
    "Some of the following hyper parameters will be tuned for our algorithm:\n",
    "\n",
    "\n",
    "*subsample* [default=1]\n",
    "Subsample ratio of the training instances. Setting it to 0.5 means that XGBoost would randomly sample half of the training data prior to growing trees. and this will prevent overfitting. Subsampling will occur once in every boosting iteration.\n",
    "range: (0,1]\n",
    "\n",
    "*eta* [default=0.3, alias: learning_rate]\n",
    "Step size shrinkage used in update to prevents overfitting. After each boosting step, we can directly get the weights of new features, and eta shrinks the feature weights to make the boosting process more conservative.\n",
    "range: [0,1]\n",
    "\n",
    "\n",
    "*gamma* [default=0, alias: min_split_loss]\n",
    "Minimum loss reduction required to make a further partition on a leaf node of the tree. The larger gamma is, the more conservative the algorithm will be.\n",
    "range: [0,∞]\n",
    "\n",
    "\n",
    "*alpha* [default=0, alias: reg_alpha]\n",
    "L1 regularization term on weights. Increasing this value will make model more conservative.\n",
    "\n",
    "*Lasso Regression* (Least Absolute Shrinkage and Selection Operator) adds “absolute value of magnitude” of coefficient as penalty term to the loss function."
   ]
  },
  {
   "cell_type": "code",
   "execution_count": 14,
   "metadata": {
    "id": "wL9CUKGT72rc"
   },
   "outputs": [],
   "source": [
    "#Bayesian Optimization function for xgboost\n",
    "#specify the parameters you want to tune as keyword arguments\n",
    "def bo_tune_xgb(max_depth, gamma, alpha, n_estimators,learning_rate):\n",
    "    params = {'max_depth': int(max_depth),\n",
    "              'gamma': gamma,\n",
    "              'alpha':alpha,\n",
    "              'n_estimators':n_estimators,\n",
    "              'learning_rate':learning_rate,\n",
    "              'subsample': 0.8,\n",
    "              'eta': 0.1,\n",
    "              'eval_metric': 'auc', 'nthread' : 8}\n",
    "    cv_result = xgb.cv(params, dtrain, num_boost_round=10, nfold=5, verbose_eval=1)\n",
    "    return  cv_result['test-auc-mean'].iloc[-1]\n",
    "\n",
    "bounds_transformer = SequentialDomainReductionTransformer()"
   ]
  },
  {
   "cell_type": "code",
   "execution_count": 15,
   "metadata": {
    "id": "eN20_fJV72rg"
   },
   "outputs": [],
   "source": [
    "#Invoking the Bayesian Optimizer with the specified parameters to tune\n",
    "xgb_bo = BayesianOptimization(bo_tune_xgb, {'max_depth': (6, 16),\n",
    "                                             'gamma': (0, 1),\n",
    "                                            'alpha': (2,12),\n",
    "                                             'learning_rate':(0,.5),\n",
    "                                             'n_estimators':(300,1000)\n",
    "                                            },\n",
    "                             bounds_transformer=bounds_transformer)"
   ]
  },
  {
   "cell_type": "code",
   "execution_count": 16,
   "metadata": {
    "colab": {
     "base_uri": "https://localhost:8080/",
     "height": 1000
    },
    "collapsed": true,
    "id": "OW00bW2i72rn",
    "jupyter": {
     "outputs_hidden": true
    },
    "outputId": "7bc098cd-98e6-4e2a-a689-75b55a4dc004",
    "tags": []
   },
   "outputs": [
    {
     "name": "stdout",
     "output_type": "stream",
     "text": [
      "|   iter    |  target   |   alpha   |   gamma   | learni... | max_depth | n_esti... |\n",
      "-------------------------------------------------------------------------------------\n",
      "[13:45:33] WARNING: /Users/ktietz/demo/mc3/conda-bld/xgboost-split_1628682908089/work/src/learner.cc:541: \n",
      "Parameters: { n_estimators } might not be used.\n",
      "\n",
      "  This may not be accurate due to some parameters are only used in language bindings but\n",
      "  passed down to XGBoost core.  Or some parameters are not used but slip through this\n",
      "  verification. Please open an issue if you find above cases.\n",
      "\n",
      "\n",
      "[13:45:40] WARNING: /Users/ktietz/demo/mc3/conda-bld/xgboost-split_1628682908089/work/src/learner.cc:541: \n",
      "Parameters: { n_estimators } might not be used.\n",
      "\n",
      "  This may not be accurate due to some parameters are only used in language bindings but\n",
      "  passed down to XGBoost core.  Or some parameters are not used but slip through this\n",
      "  verification. Please open an issue if you find above cases.\n",
      "\n",
      "\n",
      "[13:45:47] WARNING: /Users/ktietz/demo/mc3/conda-bld/xgboost-split_1628682908089/work/src/learner.cc:541: \n",
      "Parameters: { n_estimators } might not be used.\n",
      "\n",
      "  This may not be accurate due to some parameters are only used in language bindings but\n",
      "  passed down to XGBoost core.  Or some parameters are not used but slip through this\n",
      "  verification. Please open an issue if you find above cases.\n",
      "\n",
      "\n",
      "[13:45:55] WARNING: /Users/ktietz/demo/mc3/conda-bld/xgboost-split_1628682908089/work/src/learner.cc:541: \n",
      "Parameters: { n_estimators } might not be used.\n",
      "\n",
      "  This may not be accurate due to some parameters are only used in language bindings but\n",
      "  passed down to XGBoost core.  Or some parameters are not used but slip through this\n",
      "  verification. Please open an issue if you find above cases.\n",
      "\n",
      "\n",
      "[13:46:07] WARNING: /Users/ktietz/demo/mc3/conda-bld/xgboost-split_1628682908089/work/src/learner.cc:541: \n",
      "Parameters: { n_estimators } might not be used.\n",
      "\n",
      "  This may not be accurate due to some parameters are only used in language bindings but\n",
      "  passed down to XGBoost core.  Or some parameters are not used but slip through this\n",
      "  verification. Please open an issue if you find above cases.\n",
      "\n",
      "\n",
      "| \u001b[0m 1       \u001b[0m | \u001b[0m 0.9973  \u001b[0m | \u001b[0m 2.205   \u001b[0m | \u001b[0m 0.6558  \u001b[0m | \u001b[0m 0.1045  \u001b[0m | \u001b[0m 12.99   \u001b[0m | \u001b[0m 434.8   \u001b[0m |\n",
      "[13:53:40] WARNING: /Users/ktietz/demo/mc3/conda-bld/xgboost-split_1628682908089/work/src/learner.cc:541: \n",
      "Parameters: { n_estimators } might not be used.\n",
      "\n",
      "  This may not be accurate due to some parameters are only used in language bindings but\n",
      "  passed down to XGBoost core.  Or some parameters are not used but slip through this\n",
      "  verification. Please open an issue if you find above cases.\n",
      "\n",
      "\n",
      "[13:53:51] WARNING: /Users/ktietz/demo/mc3/conda-bld/xgboost-split_1628682908089/work/src/learner.cc:541: \n",
      "Parameters: { n_estimators } might not be used.\n",
      "\n",
      "  This may not be accurate due to some parameters are only used in language bindings but\n",
      "  passed down to XGBoost core.  Or some parameters are not used but slip through this\n",
      "  verification. Please open an issue if you find above cases.\n",
      "\n",
      "\n",
      "[13:54:05] WARNING: /Users/ktietz/demo/mc3/conda-bld/xgboost-split_1628682908089/work/src/learner.cc:541: \n",
      "Parameters: { n_estimators } might not be used.\n",
      "\n",
      "  This may not be accurate due to some parameters are only used in language bindings but\n",
      "  passed down to XGBoost core.  Or some parameters are not used but slip through this\n",
      "  verification. Please open an issue if you find above cases.\n",
      "\n",
      "\n",
      "[13:54:15] WARNING: /Users/ktietz/demo/mc3/conda-bld/xgboost-split_1628682908089/work/src/learner.cc:541: \n",
      "Parameters: { n_estimators } might not be used.\n",
      "\n",
      "  This may not be accurate due to some parameters are only used in language bindings but\n",
      "  passed down to XGBoost core.  Or some parameters are not used but slip through this\n",
      "  verification. Please open an issue if you find above cases.\n",
      "\n",
      "\n",
      "[13:54:26] WARNING: /Users/ktietz/demo/mc3/conda-bld/xgboost-split_1628682908089/work/src/learner.cc:541: \n",
      "Parameters: { n_estimators } might not be used.\n",
      "\n",
      "  This may not be accurate due to some parameters are only used in language bindings but\n",
      "  passed down to XGBoost core.  Or some parameters are not used but slip through this\n",
      "  verification. Please open an issue if you find above cases.\n",
      "\n",
      "\n",
      "| \u001b[95m 2       \u001b[0m | \u001b[95m 0.9973  \u001b[0m | \u001b[95m 10.25   \u001b[0m | \u001b[95m 0.02407 \u001b[0m | \u001b[95m 0.2248  \u001b[0m | \u001b[95m 14.34   \u001b[0m | \u001b[95m 348.9   \u001b[0m |\n",
      "[14:03:29] WARNING: /Users/ktietz/demo/mc3/conda-bld/xgboost-split_1628682908089/work/src/learner.cc:541: \n",
      "Parameters: { n_estimators } might not be used.\n",
      "\n",
      "  This may not be accurate due to some parameters are only used in language bindings but\n",
      "  passed down to XGBoost core.  Or some parameters are not used but slip through this\n",
      "  verification. Please open an issue if you find above cases.\n",
      "\n",
      "\n",
      "[14:03:37] WARNING: /Users/ktietz/demo/mc3/conda-bld/xgboost-split_1628682908089/work/src/learner.cc:541: \n",
      "Parameters: { n_estimators } might not be used.\n",
      "\n",
      "  This may not be accurate due to some parameters are only used in language bindings but\n",
      "  passed down to XGBoost core.  Or some parameters are not used but slip through this\n",
      "  verification. Please open an issue if you find above cases.\n",
      "\n",
      "\n",
      "[14:03:46] WARNING: /Users/ktietz/demo/mc3/conda-bld/xgboost-split_1628682908089/work/src/learner.cc:541: \n",
      "Parameters: { n_estimators } might not be used.\n",
      "\n",
      "  This may not be accurate due to some parameters are only used in language bindings but\n",
      "  passed down to XGBoost core.  Or some parameters are not used but slip through this\n",
      "  verification. Please open an issue if you find above cases.\n",
      "\n",
      "\n",
      "[14:03:55] WARNING: /Users/ktietz/demo/mc3/conda-bld/xgboost-split_1628682908089/work/src/learner.cc:541: \n",
      "Parameters: { n_estimators } might not be used.\n",
      "\n",
      "  This may not be accurate due to some parameters are only used in language bindings but\n",
      "  passed down to XGBoost core.  Or some parameters are not used but slip through this\n",
      "  verification. Please open an issue if you find above cases.\n",
      "\n",
      "\n",
      "[14:04:04] WARNING: /Users/ktietz/demo/mc3/conda-bld/xgboost-split_1628682908089/work/src/learner.cc:541: \n",
      "Parameters: { n_estimators } might not be used.\n",
      "\n",
      "  This may not be accurate due to some parameters are only used in language bindings but\n",
      "  passed down to XGBoost core.  Or some parameters are not used but slip through this\n",
      "  verification. Please open an issue if you find above cases.\n",
      "\n",
      "\n"
     ]
    },
    {
     "ename": "KeyboardInterrupt",
     "evalue": "",
     "output_type": "error",
     "traceback": [
      "\u001b[0;31m---------------------------------------------------------------------------\u001b[0m",
      "\u001b[0;31mKeyError\u001b[0m                                  Traceback (most recent call last)",
      "\u001b[0;32m/opt/homebrew/Caskroom/miniforge/base/envs/cbm21/lib/python3.8/site-packages/bayes_opt/target_space.py\u001b[0m in \u001b[0;36mprobe\u001b[0;34m(self, params)\u001b[0m\n\u001b[1;32m    190\u001b[0m         \u001b[0;32mtry\u001b[0m\u001b[0;34m:\u001b[0m\u001b[0;34m\u001b[0m\u001b[0;34m\u001b[0m\u001b[0m\n\u001b[0;32m--> 191\u001b[0;31m             \u001b[0mtarget\u001b[0m \u001b[0;34m=\u001b[0m \u001b[0mself\u001b[0m\u001b[0;34m.\u001b[0m\u001b[0m_cache\u001b[0m\u001b[0;34m[\u001b[0m\u001b[0m_hashable\u001b[0m\u001b[0;34m(\u001b[0m\u001b[0mx\u001b[0m\u001b[0;34m)\u001b[0m\u001b[0;34m]\u001b[0m\u001b[0;34m\u001b[0m\u001b[0;34m\u001b[0m\u001b[0m\n\u001b[0m\u001b[1;32m    192\u001b[0m         \u001b[0;32mexcept\u001b[0m \u001b[0mKeyError\u001b[0m\u001b[0;34m:\u001b[0m\u001b[0;34m\u001b[0m\u001b[0;34m\u001b[0m\u001b[0m\n",
      "\u001b[0;31mKeyError\u001b[0m: (11.42977796780961, 0.5452770704696452, 0.18117008348286107, 10.602966265790727, 701.5556624004377)",
      "\nDuring handling of the above exception, another exception occurred:\n",
      "\u001b[0;31mKeyboardInterrupt\u001b[0m                         Traceback (most recent call last)",
      "\u001b[0;32m/var/folders/_8/1pnnpyz111s3q4bf02xypbgc0000gn/T/ipykernel_24452/3210735658.py\u001b[0m in \u001b[0;36m<module>\u001b[0;34m\u001b[0m\n\u001b[1;32m      1\u001b[0m \u001b[0;31m#performing Bayesian optimization for 5 iterations with 8 steps of random exploration with an #acquisition function of expected improvement\u001b[0m\u001b[0;34m\u001b[0m\u001b[0;34m\u001b[0m\u001b[0;34m\u001b[0m\u001b[0m\n\u001b[0;32m----> 2\u001b[0;31m \u001b[0mxgb_bo\u001b[0m\u001b[0;34m.\u001b[0m\u001b[0mmaximize\u001b[0m\u001b[0;34m(\u001b[0m\u001b[0mn_iter\u001b[0m\u001b[0;34m=\u001b[0m\u001b[0;36m5\u001b[0m\u001b[0;34m,\u001b[0m \u001b[0minit_points\u001b[0m\u001b[0;34m=\u001b[0m\u001b[0;36m5\u001b[0m\u001b[0;34m)\u001b[0m\u001b[0;34m\u001b[0m\u001b[0;34m\u001b[0m\u001b[0m\n\u001b[0m",
      "\u001b[0;32m/opt/homebrew/Caskroom/miniforge/base/envs/cbm21/lib/python3.8/site-packages/bayes_opt/bayesian_optimization.py\u001b[0m in \u001b[0;36mmaximize\u001b[0;34m(self, init_points, n_iter, acq, kappa, kappa_decay, kappa_decay_delay, xi, **gp_params)\u001b[0m\n\u001b[1;32m    183\u001b[0m                 \u001b[0miteration\u001b[0m \u001b[0;34m+=\u001b[0m \u001b[0;36m1\u001b[0m\u001b[0;34m\u001b[0m\u001b[0;34m\u001b[0m\u001b[0m\n\u001b[1;32m    184\u001b[0m \u001b[0;34m\u001b[0m\u001b[0m\n\u001b[0;32m--> 185\u001b[0;31m             \u001b[0mself\u001b[0m\u001b[0;34m.\u001b[0m\u001b[0mprobe\u001b[0m\u001b[0;34m(\u001b[0m\u001b[0mx_probe\u001b[0m\u001b[0;34m,\u001b[0m \u001b[0mlazy\u001b[0m\u001b[0;34m=\u001b[0m\u001b[0;32mFalse\u001b[0m\u001b[0;34m)\u001b[0m\u001b[0;34m\u001b[0m\u001b[0;34m\u001b[0m\u001b[0m\n\u001b[0m\u001b[1;32m    186\u001b[0m \u001b[0;34m\u001b[0m\u001b[0m\n\u001b[1;32m    187\u001b[0m             \u001b[0;32mif\u001b[0m \u001b[0mself\u001b[0m\u001b[0;34m.\u001b[0m\u001b[0m_bounds_transformer\u001b[0m\u001b[0;34m:\u001b[0m\u001b[0;34m\u001b[0m\u001b[0;34m\u001b[0m\u001b[0m\n",
      "\u001b[0;32m/opt/homebrew/Caskroom/miniforge/base/envs/cbm21/lib/python3.8/site-packages/bayes_opt/bayesian_optimization.py\u001b[0m in \u001b[0;36mprobe\u001b[0;34m(self, params, lazy)\u001b[0m\n\u001b[1;32m    114\u001b[0m             \u001b[0mself\u001b[0m\u001b[0;34m.\u001b[0m\u001b[0m_queue\u001b[0m\u001b[0;34m.\u001b[0m\u001b[0madd\u001b[0m\u001b[0;34m(\u001b[0m\u001b[0mparams\u001b[0m\u001b[0;34m)\u001b[0m\u001b[0;34m\u001b[0m\u001b[0;34m\u001b[0m\u001b[0m\n\u001b[1;32m    115\u001b[0m         \u001b[0;32melse\u001b[0m\u001b[0;34m:\u001b[0m\u001b[0;34m\u001b[0m\u001b[0;34m\u001b[0m\u001b[0m\n\u001b[0;32m--> 116\u001b[0;31m             \u001b[0mself\u001b[0m\u001b[0;34m.\u001b[0m\u001b[0m_space\u001b[0m\u001b[0;34m.\u001b[0m\u001b[0mprobe\u001b[0m\u001b[0;34m(\u001b[0m\u001b[0mparams\u001b[0m\u001b[0;34m)\u001b[0m\u001b[0;34m\u001b[0m\u001b[0;34m\u001b[0m\u001b[0m\n\u001b[0m\u001b[1;32m    117\u001b[0m             \u001b[0mself\u001b[0m\u001b[0;34m.\u001b[0m\u001b[0mdispatch\u001b[0m\u001b[0;34m(\u001b[0m\u001b[0mEvents\u001b[0m\u001b[0;34m.\u001b[0m\u001b[0mOPTIMIZATION_STEP\u001b[0m\u001b[0;34m)\u001b[0m\u001b[0;34m\u001b[0m\u001b[0;34m\u001b[0m\u001b[0m\n\u001b[1;32m    118\u001b[0m \u001b[0;34m\u001b[0m\u001b[0m\n",
      "\u001b[0;32m/opt/homebrew/Caskroom/miniforge/base/envs/cbm21/lib/python3.8/site-packages/bayes_opt/target_space.py\u001b[0m in \u001b[0;36mprobe\u001b[0;34m(self, params)\u001b[0m\n\u001b[1;32m    192\u001b[0m         \u001b[0;32mexcept\u001b[0m \u001b[0mKeyError\u001b[0m\u001b[0;34m:\u001b[0m\u001b[0;34m\u001b[0m\u001b[0;34m\u001b[0m\u001b[0m\n\u001b[1;32m    193\u001b[0m             \u001b[0mparams\u001b[0m \u001b[0;34m=\u001b[0m \u001b[0mdict\u001b[0m\u001b[0;34m(\u001b[0m\u001b[0mzip\u001b[0m\u001b[0;34m(\u001b[0m\u001b[0mself\u001b[0m\u001b[0;34m.\u001b[0m\u001b[0m_keys\u001b[0m\u001b[0;34m,\u001b[0m \u001b[0mx\u001b[0m\u001b[0;34m)\u001b[0m\u001b[0;34m)\u001b[0m\u001b[0;34m\u001b[0m\u001b[0;34m\u001b[0m\u001b[0m\n\u001b[0;32m--> 194\u001b[0;31m             \u001b[0mtarget\u001b[0m \u001b[0;34m=\u001b[0m \u001b[0mself\u001b[0m\u001b[0;34m.\u001b[0m\u001b[0mtarget_func\u001b[0m\u001b[0;34m(\u001b[0m\u001b[0;34m**\u001b[0m\u001b[0mparams\u001b[0m\u001b[0;34m)\u001b[0m\u001b[0;34m\u001b[0m\u001b[0;34m\u001b[0m\u001b[0m\n\u001b[0m\u001b[1;32m    195\u001b[0m             \u001b[0mself\u001b[0m\u001b[0;34m.\u001b[0m\u001b[0mregister\u001b[0m\u001b[0;34m(\u001b[0m\u001b[0mx\u001b[0m\u001b[0;34m,\u001b[0m \u001b[0mtarget\u001b[0m\u001b[0;34m)\u001b[0m\u001b[0;34m\u001b[0m\u001b[0;34m\u001b[0m\u001b[0m\n\u001b[1;32m    196\u001b[0m         \u001b[0;32mreturn\u001b[0m \u001b[0mtarget\u001b[0m\u001b[0;34m\u001b[0m\u001b[0;34m\u001b[0m\u001b[0m\n",
      "\u001b[0;32m/var/folders/_8/1pnnpyz111s3q4bf02xypbgc0000gn/T/ipykernel_24452/754874139.py\u001b[0m in \u001b[0;36mbo_tune_xgb\u001b[0;34m(max_depth, gamma, alpha, n_estimators, learning_rate)\u001b[0m\n\u001b[1;32m     10\u001b[0m               \u001b[0;34m'eta'\u001b[0m\u001b[0;34m:\u001b[0m \u001b[0;36m0.1\u001b[0m\u001b[0;34m,\u001b[0m\u001b[0;34m\u001b[0m\u001b[0;34m\u001b[0m\u001b[0m\n\u001b[1;32m     11\u001b[0m               'eval_metric': 'auc', 'nthread' : 8}\n\u001b[0;32m---> 12\u001b[0;31m     \u001b[0mcv_result\u001b[0m \u001b[0;34m=\u001b[0m \u001b[0mxgb\u001b[0m\u001b[0;34m.\u001b[0m\u001b[0mcv\u001b[0m\u001b[0;34m(\u001b[0m\u001b[0mparams\u001b[0m\u001b[0;34m,\u001b[0m \u001b[0mdtrain\u001b[0m\u001b[0;34m,\u001b[0m \u001b[0mnum_boost_round\u001b[0m\u001b[0;34m=\u001b[0m\u001b[0;36m10\u001b[0m\u001b[0;34m,\u001b[0m \u001b[0mnfold\u001b[0m\u001b[0;34m=\u001b[0m\u001b[0;36m5\u001b[0m\u001b[0;34m,\u001b[0m \u001b[0mverbose_eval\u001b[0m\u001b[0;34m=\u001b[0m\u001b[0;36m1\u001b[0m\u001b[0;34m)\u001b[0m\u001b[0;34m\u001b[0m\u001b[0;34m\u001b[0m\u001b[0m\n\u001b[0m\u001b[1;32m     13\u001b[0m     \u001b[0;32mreturn\u001b[0m  \u001b[0mcv_result\u001b[0m\u001b[0;34m[\u001b[0m\u001b[0;34m'test-auc-mean'\u001b[0m\u001b[0;34m]\u001b[0m\u001b[0;34m.\u001b[0m\u001b[0miloc\u001b[0m\u001b[0;34m[\u001b[0m\u001b[0;34m-\u001b[0m\u001b[0;36m1\u001b[0m\u001b[0;34m]\u001b[0m\u001b[0;34m\u001b[0m\u001b[0;34m\u001b[0m\u001b[0m\n\u001b[1;32m     14\u001b[0m \u001b[0;34m\u001b[0m\u001b[0m\n",
      "\u001b[0;32m/opt/homebrew/Caskroom/miniforge/base/envs/cbm21/lib/python3.8/site-packages/xgboost/training.py\u001b[0m in \u001b[0;36mcv\u001b[0;34m(params, dtrain, num_boost_round, nfold, stratified, folds, metrics, obj, feval, maximize, early_stopping_rounds, fpreproc, as_pandas, verbose_eval, show_stdv, seed, callbacks, shuffle)\u001b[0m\n\u001b[1;32m    513\u001b[0m         \u001b[0;32mif\u001b[0m \u001b[0mcallbacks\u001b[0m\u001b[0;34m.\u001b[0m\u001b[0mbefore_iteration\u001b[0m\u001b[0;34m(\u001b[0m\u001b[0mbooster\u001b[0m\u001b[0;34m,\u001b[0m \u001b[0mi\u001b[0m\u001b[0;34m,\u001b[0m \u001b[0mdtrain\u001b[0m\u001b[0;34m,\u001b[0m \u001b[0;32mNone\u001b[0m\u001b[0;34m)\u001b[0m\u001b[0;34m:\u001b[0m\u001b[0;34m\u001b[0m\u001b[0;34m\u001b[0m\u001b[0m\n\u001b[1;32m    514\u001b[0m             \u001b[0;32mbreak\u001b[0m\u001b[0;34m\u001b[0m\u001b[0;34m\u001b[0m\u001b[0m\n\u001b[0;32m--> 515\u001b[0;31m         \u001b[0mbooster\u001b[0m\u001b[0;34m.\u001b[0m\u001b[0mupdate\u001b[0m\u001b[0;34m(\u001b[0m\u001b[0mi\u001b[0m\u001b[0;34m,\u001b[0m \u001b[0mobj\u001b[0m\u001b[0;34m)\u001b[0m\u001b[0;34m\u001b[0m\u001b[0;34m\u001b[0m\u001b[0m\n\u001b[0m\u001b[1;32m    516\u001b[0m \u001b[0;34m\u001b[0m\u001b[0m\n\u001b[1;32m    517\u001b[0m         \u001b[0mshould_break\u001b[0m \u001b[0;34m=\u001b[0m \u001b[0mcallbacks\u001b[0m\u001b[0;34m.\u001b[0m\u001b[0mafter_iteration\u001b[0m\u001b[0;34m(\u001b[0m\u001b[0mbooster\u001b[0m\u001b[0;34m,\u001b[0m \u001b[0mi\u001b[0m\u001b[0;34m,\u001b[0m \u001b[0mdtrain\u001b[0m\u001b[0;34m,\u001b[0m \u001b[0;32mNone\u001b[0m\u001b[0;34m)\u001b[0m\u001b[0;34m\u001b[0m\u001b[0;34m\u001b[0m\u001b[0m\n",
      "\u001b[0;32m/opt/homebrew/Caskroom/miniforge/base/envs/cbm21/lib/python3.8/site-packages/xgboost/training.py\u001b[0m in \u001b[0;36mupdate\u001b[0;34m(self, iteration, obj)\u001b[0m\n\u001b[1;32m    262\u001b[0m         \u001b[0;34m'''Iterate through folds for update'''\u001b[0m\u001b[0;34m\u001b[0m\u001b[0;34m\u001b[0m\u001b[0m\n\u001b[1;32m    263\u001b[0m         \u001b[0;32mfor\u001b[0m \u001b[0mfold\u001b[0m \u001b[0;32min\u001b[0m \u001b[0mself\u001b[0m\u001b[0;34m.\u001b[0m\u001b[0mcvfolds\u001b[0m\u001b[0;34m:\u001b[0m\u001b[0;34m\u001b[0m\u001b[0;34m\u001b[0m\u001b[0m\n\u001b[0;32m--> 264\u001b[0;31m             \u001b[0mfold\u001b[0m\u001b[0;34m.\u001b[0m\u001b[0mupdate\u001b[0m\u001b[0;34m(\u001b[0m\u001b[0miteration\u001b[0m\u001b[0;34m,\u001b[0m \u001b[0mobj\u001b[0m\u001b[0;34m)\u001b[0m\u001b[0;34m\u001b[0m\u001b[0;34m\u001b[0m\u001b[0m\n\u001b[0m\u001b[1;32m    265\u001b[0m \u001b[0;34m\u001b[0m\u001b[0m\n\u001b[1;32m    266\u001b[0m     \u001b[0;32mdef\u001b[0m \u001b[0meval\u001b[0m\u001b[0;34m(\u001b[0m\u001b[0mself\u001b[0m\u001b[0;34m,\u001b[0m \u001b[0miteration\u001b[0m\u001b[0;34m,\u001b[0m \u001b[0mfeval\u001b[0m\u001b[0;34m)\u001b[0m\u001b[0;34m:\u001b[0m\u001b[0;34m\u001b[0m\u001b[0;34m\u001b[0m\u001b[0m\n",
      "\u001b[0;32m/opt/homebrew/Caskroom/miniforge/base/envs/cbm21/lib/python3.8/site-packages/xgboost/training.py\u001b[0m in \u001b[0;36mupdate\u001b[0;34m(self, iteration, fobj)\u001b[0m\n\u001b[1;32m    248\u001b[0m     \u001b[0;32mdef\u001b[0m \u001b[0mupdate\u001b[0m\u001b[0;34m(\u001b[0m\u001b[0mself\u001b[0m\u001b[0;34m,\u001b[0m \u001b[0miteration\u001b[0m\u001b[0;34m,\u001b[0m \u001b[0mfobj\u001b[0m\u001b[0;34m)\u001b[0m\u001b[0;34m:\u001b[0m\u001b[0;34m\u001b[0m\u001b[0;34m\u001b[0m\u001b[0m\n\u001b[1;32m    249\u001b[0m         \u001b[0;34m\"\"\"\"Update the boosters for one iteration\"\"\"\u001b[0m\u001b[0;34m\u001b[0m\u001b[0;34m\u001b[0m\u001b[0m\n\u001b[0;32m--> 250\u001b[0;31m         \u001b[0mself\u001b[0m\u001b[0;34m.\u001b[0m\u001b[0mbst\u001b[0m\u001b[0;34m.\u001b[0m\u001b[0mupdate\u001b[0m\u001b[0;34m(\u001b[0m\u001b[0mself\u001b[0m\u001b[0;34m.\u001b[0m\u001b[0mdtrain\u001b[0m\u001b[0;34m,\u001b[0m \u001b[0miteration\u001b[0m\u001b[0;34m,\u001b[0m \u001b[0mfobj\u001b[0m\u001b[0;34m)\u001b[0m\u001b[0;34m\u001b[0m\u001b[0;34m\u001b[0m\u001b[0m\n\u001b[0m\u001b[1;32m    251\u001b[0m \u001b[0;34m\u001b[0m\u001b[0m\n\u001b[1;32m    252\u001b[0m     \u001b[0;32mdef\u001b[0m \u001b[0meval\u001b[0m\u001b[0;34m(\u001b[0m\u001b[0mself\u001b[0m\u001b[0;34m,\u001b[0m \u001b[0miteration\u001b[0m\u001b[0;34m,\u001b[0m \u001b[0mfeval\u001b[0m\u001b[0;34m)\u001b[0m\u001b[0;34m:\u001b[0m\u001b[0;34m\u001b[0m\u001b[0;34m\u001b[0m\u001b[0m\n",
      "\u001b[0;32m/opt/homebrew/Caskroom/miniforge/base/envs/cbm21/lib/python3.8/site-packages/xgboost/core.py\u001b[0m in \u001b[0;36mupdate\u001b[0;34m(self, dtrain, iteration, fobj)\u001b[0m\n\u001b[1;32m   1278\u001b[0m \u001b[0;34m\u001b[0m\u001b[0m\n\u001b[1;32m   1279\u001b[0m         \u001b[0;32mif\u001b[0m \u001b[0mfobj\u001b[0m \u001b[0;32mis\u001b[0m \u001b[0;32mNone\u001b[0m\u001b[0;34m:\u001b[0m\u001b[0;34m\u001b[0m\u001b[0;34m\u001b[0m\u001b[0m\n\u001b[0;32m-> 1280\u001b[0;31m             _check_call(_LIB.XGBoosterUpdateOneIter(self.handle,\n\u001b[0m\u001b[1;32m   1281\u001b[0m                                                     \u001b[0mctypes\u001b[0m\u001b[0;34m.\u001b[0m\u001b[0mc_int\u001b[0m\u001b[0;34m(\u001b[0m\u001b[0miteration\u001b[0m\u001b[0;34m)\u001b[0m\u001b[0;34m,\u001b[0m\u001b[0;34m\u001b[0m\u001b[0;34m\u001b[0m\u001b[0m\n\u001b[1;32m   1282\u001b[0m                                                     dtrain.handle))\n",
      "\u001b[0;31mKeyboardInterrupt\u001b[0m: "
     ]
    }
   ],
   "source": [
    "#performing Bayesian optimization for 5 iterations with 8 steps of random exploration with an #acquisition function of expected improvement\n",
    "xgb_bo.maximize(n_iter=5, init_points=5)"
   ]
  },
  {
   "cell_type": "code",
   "execution_count": null,
   "metadata": {
    "id": "ebJXjFdP72rv",
    "tags": []
   },
   "outputs": [],
   "source": [
    "# best target so far 0.9976\n",
    "print(xgb_bo.max)"
   ]
  },
  {
   "cell_type": "markdown",
   "metadata": {},
   "source": [
    "we got: {'target': 0.997335, 'params': {'alpha': 5.753533575127802, 'gamma': 0.9381973111303026, 'learning_rate': 0.2632517674042119, 'max_depth': 15.56604307847495, 'n_estimators': 881.7816101314299}}\n"
   ]
  },
  {
   "cell_type": "markdown",
   "metadata": {
    "id": "zOauOey772r3",
    "tags": []
   },
   "source": [
    "# XGB models\n",
    "Now let's take the parameters selected by the bayesian optimization and apply them in our training and testing. "
   ]
  },
  {
   "cell_type": "code",
   "execution_count": 17,
   "metadata": {
    "id": "j8eiJzKwpwXJ"
   },
   "outputs": [],
   "source": [
    "max_params = {'target': 0.99752, 'params': {'alpha': 5.720697501807102, 'gamma': 0.2480179555980572, 'learning_rate': 0.3821212735587287, 'max_depth': 15.950825748044343, 'n_estimators': 860.9145453219445}}\n",
    "#max_params = {'target': 0.997335, 'params': {'alpha': 5.753533575127802, 'gamma': 0.9381973111303026, 'learning_rate': 0.2632517674042119, 'max_depth': 15.56604307847495, 'n_estimators': 881.7816101314299}}\n",
    "max_param = max_params['params']#xgb_bo.max['params']\n",
    "param= {'alpha': max_param['alpha'], 'gamma': max_param['gamma'], 'learning_rate': max_param['learning_rate'],\n",
    "        'max_depth': int(round(max_param['max_depth'],0)), 'n_estimators': int(round(max_param['n_estimators'],0))\n",
    "        , 'objective': 'binary:logistic','nthread' : 8}\n"
   ]
  },
  {
   "cell_type": "code",
   "execution_count": 18,
   "metadata": {
    "colab": {
     "base_uri": "https://localhost:8080/"
    },
    "id": "OiTX1iSx72r9",
    "outputId": "01ab4a24-aa9e-4f00-8322-31f0f63ac224"
   },
   "outputs": [
    {
     "name": "stdout",
     "output_type": "stream",
     "text": [
      "[14:05:12] WARNING: /Users/ktietz/demo/mc3/conda-bld/xgboost-split_1628682908089/work/src/learner.cc:541: \n",
      "Parameters: { n_estimators } might not be used.\n",
      "\n",
      "  This may not be accurate due to some parameters are only used in language bindings but\n",
      "  passed down to XGBoost core.  Or some parameters are not used but slip through this\n",
      "  verification. Please open an issue if you find above cases.\n",
      "\n",
      "\n",
      "[14:05:27] WARNING: /Users/ktietz/demo/mc3/conda-bld/xgboost-split_1628682908089/work/src/learner.cc:1061: Starting in XGBoost 1.3.0, the default evaluation metric used with the objective 'binary:logistic' was changed from 'error' to 'logloss'. Explicitly set eval_metric if you'd like to restore the old behavior.\n"
     ]
    }
   ],
   "source": [
    "#To train the algorithm using the parameters selected by bayesian optimization\n",
    "bst = xgb.train(param, dtrain)"
   ]
  },
  {
   "cell_type": "code",
   "execution_count": 19,
   "metadata": {
    "id": "G6U8lnP1jJzI"
   },
   "outputs": [],
   "source": [
    "#We apply our model on the training data that was trained on the training data, this helps us to control overfitting\n",
    "bst1= bst.predict(dtrain)\n",
    "bst_train = pd.DataFrame(data=bst.predict(dtrain),  columns=[\"xgb_preds\"])\n",
    "y_train=y_train.set_index(np.arange(0,bst_train.shape[0]))\n",
    "bst_train['issignal']=y_train['issignal']"
   ]
  },
  {
   "cell_type": "code",
   "execution_count": 20,
   "metadata": {},
   "outputs": [],
   "source": [
    "#bst = xgb.XGBClassifier(**param).fit(x_train, y_train) #this is the right way to use it but takes a lot of time"
   ]
  },
  {
   "cell_type": "code",
   "execution_count": 21,
   "metadata": {},
   "outputs": [],
   "source": [
    "#bst1= bst.predict(dtrain)"
   ]
  },
  {
   "cell_type": "code",
   "execution_count": 22,
   "metadata": {},
   "outputs": [
    {
     "data": {
      "text/plain": [
       "65"
      ]
     },
     "execution_count": 22,
     "metadata": {},
     "output_type": "execute_result"
    }
   ],
   "source": [
    "del dtrain \n",
    "gc.collect()"
   ]
  },
  {
   "cell_type": "code",
   "execution_count": 23,
   "metadata": {
    "id": "m2p8YPY1jRQ_"
   },
   "outputs": [],
   "source": [
    "# We apply our trained model on test data and store the predictions in a bst_test dataframe\n",
    "bst_test = pd.DataFrame(data=bst.predict(dtest1),  columns=[\"xgb_preds\"])\n",
    "y_test=y_test.set_index(np.arange(0,bst_test.shape[0]))\n",
    "# We also store the MC information in this dataFrame\n",
    "bst_test['issignal']=y_test['issignal']"
   ]
  },
  {
   "cell_type": "markdown",
   "metadata": {},
   "source": [
    "## Whole set\n",
    "We also select the selected variables from the 10k events data set"
   ]
  },
  {
   "cell_type": "code",
   "execution_count": 24,
   "metadata": {},
   "outputs": [
    {
     "name": "stdout",
     "output_type": "stream",
     "text": [
      "test set (background to signal ratio): 1858.5\n",
      "test set (both signal and background): 55509831\n"
     ]
    }
   ],
   "source": [
    "df_origin = tree_importer.tree_importer(allURQMD,'PlainTree',7)\n",
    "df_origin.columns = df_origin.columns.str.replace('Candidates_', '')\n",
    "df_origin.columns = df_origin.columns.str.replace('_', '')\n",
    "df_origin = df_origin.drop(columns=['xerror', 'yerror', 'zerror', 'daughter1id', 'daughter2id', 'pid', 'pTerr', 'etaerr', 'masserr', 'phierr']).rename(columns={'generation' : 'issignal'})\n",
    "df_clean = clean_df(df_origin)\n",
    "del df_origin\n",
    "gc.collect()\n",
    "#lets look at impoted tree\n",
    "df_clean.iloc[0:10,:]\n",
    "print('test set (background to signal ratio): ' \n",
    "      + str(round(len(df_clean.loc[df_clean['issignal'] == 0])/len(df_clean.loc[df_clean['issignal'] == 1]), 1))\n",
    "      + '\\ntest set (both signal and background): ' + str(len(df_clean)))"
   ]
  },
  {
   "cell_type": "code",
   "execution_count": 25,
   "metadata": {
    "tags": []
   },
   "outputs": [
    {
     "data": {
      "text/plain": [
       "9"
      ]
     },
     "execution_count": 25,
     "metadata": {},
     "output_type": "execute_result"
    }
   ],
   "source": [
    "x_whole = df_clean[cuts].copy()\n",
    "y_whole = pd.DataFrame(df_clean['issignal'], dtype='int')\n",
    "dtest = xgb.DMatrix(x_whole, label = y_whole)\n",
    "del x_whole\n",
    "gc.collect()"
   ]
  },
  {
   "cell_type": "code",
   "execution_count": 26,
   "metadata": {
    "colab": {
     "base_uri": "https://localhost:8080/",
     "height": 295
    },
    "id": "5Xm-sY3W72s9",
    "outputId": "878e260c-66bc-4571-f7ef-33a5a7084e09"
   },
   "outputs": [
    {
     "data": {
      "image/png": "[encoded data removed]",
      "text/plain": [
       "<Figure size 432x288 with 1 Axes>"
      ]
     },
     "metadata": {
      "needs_background": "light"
     },
     "output_type": "display_data"
    }
   ],
   "source": [
    "#The following graph will show us that which features are important for the model\n",
    "ax = xgb.plot_importance(bst)\n",
    "plt.rcParams['figure.figsize'] = [5, 3]\n",
    "plt.show()\n",
    "ax.figure.tight_layout() \n",
    "ax.figure.savefig(directory+'img/xgb_12agev/chi2geo/feature_importance.pdf')\n",
    "ax.figure.savefig(directory+'img/xgb_12agev/chi2geo/feature_importance.png')"
   ]
  },
  {
   "cell_type": "markdown",
   "metadata": {
    "id": "To2uJSUWAESb"
   },
   "source": [
    "## AUC and ROC\n",
    "\n",
    "The function roc_curve computes the receiver operating characteristic curve, or ROC curve. Quoting Wikipedia :\n",
    "\n",
    "“A receiver operating characteristic (ROC), or simply ROC curve, is a graphical plot which illustrates the performance of a binary classifier system as its discrimination threshold is varied. It is created by plotting the fraction of true positives out of the positives (TPR = true positive rate) vs. the fraction of false positives out of the negatives (FPR = false positive rate), at various threshold settings. TPR is also known as sensitivity, and FPR is one minus the specificity or true negative rate.”\n",
    "\n",
    "This function requires the true binary value and the target scores, which can either be probability estimates of the positive class, confidence values, or binary decisions.\n",
    "\n",
    "Similarly, the function roc_auc_score computes Area Under the Receiver Operating Characteristic Curve (ROC AUC) from prediction scores."
   ]
  },
  {
   "cell_type": "markdown",
   "metadata": {
    "id": "YV_FtX0MUVj-"
   },
   "source": [
    "To find the best threshold which results more signal to background ratio for lambda candidates we use the parameter S0 called the approximate median significance by the higgs boson  ML challenge (http://higgsml.lal.in2p3.fr/documentation,9.)"
   ]
  },
  {
   "cell_type": "code",
   "execution_count": 27,
   "metadata": {
    "id": "Z-jWtHorkGQ9"
   },
   "outputs": [],
   "source": [
    "def AMS(y_true, y_predict, y_true1, y_predict1):\n",
    "    roc_auc=roc_auc_score(y_true, y_predict)\n",
    "    fpr, tpr, thresholds = roc_curve(y_true, y_predict,drop_intermediate=False ,pos_label=1)\n",
    "    S0 = sqrt(2 * ((tpr + fpr) * log((1 + tpr/fpr)) - tpr))\n",
    "    S0 = S0[~np.isnan(S0)]\n",
    "    xi = argmax(S0)\n",
    "    S0_best_threshold = (thresholds[xi])\n",
    "\n",
    "    roc_auc1=roc_auc_score(y_true1, y_predict1)\n",
    "    fpr1, tpr1, thresholds1 = roc_curve(y_true1, y_predict1,drop_intermediate=False ,pos_label=1)\n",
    "    S01 = sqrt(2 * ((tpr1 + fpr1) * log((1 + tpr1/fpr1)) - tpr1))\n",
    "    S01 = S01[~np.isnan(S01)]\n",
    "    xi1 = argmax(S01)\n",
    "    S0_best_threshold1 = (thresholds[xi1])\n",
    "\n",
    "    #plotting\n",
    "    fig, axs = plt.subplots(figsize=(15, 10), dpi = 100)\n",
    "    plt.plot(fpr, tpr, linestyle=':',color='darkorange',label='ROC curve train (area = %0.4f)' % roc_auc)\n",
    "    plt.plot(fpr1, tpr1, color='green',label='ROC curve test (area = %0.4f)' % roc_auc1)\n",
    "    plt.plot([0, 1], [0, 1], color='navy', linestyle='--')\n",
    "    plt.scatter(fpr[xi], tpr[xi], marker='o', color='black', label= 'Best Threshold train set = '+\"%.4f\" % S0_best_threshold +'\\n AMS = '+ \"%.2f\" % S0[xi])\n",
    "    plt.scatter(fpr1[xi1], tpr1[xi1], marker='o', color='blue', label= 'Best Threshold test set = '+\"%.4f\" % S0_best_threshold1 +'\\n AMS = '+ \"%.2f\" % S01[xi1])\n",
    "    plt.xlabel('False Positive Rate', fontsize = 15)\n",
    "    plt.ylabel('True Positive Rate', fontsize = 15)\n",
    "    plt.legend(loc=\"lower right\", fontsize = 15)\n",
    "    plt.title('Receiver operating characteristic', fontsize = 15)\n",
    "    plt.xlim([-0.01, 1.0])\n",
    "    plt.ylim([0, 1.02])\n",
    "    \n",
    "    fig.tight_layout()\n",
    "    plt.show()\n",
    "    fig.savefig(directory+'img/xgb_12agev/chi2geo/ams.pdf')\n",
    "    fig.savefig(directory+'img/xgb_12agev/chi2geo/ams.png')\n",
    "\n",
    "    return S0_best_threshold, S0_best_threshold1"
   ]
  },
  {
   "cell_type": "code",
   "execution_count": 28,
   "metadata": {
    "colab": {
     "base_uri": "https://localhost:8080/",
     "height": 933
    },
    "id": "JvOr9TwvkIZe",
    "outputId": "e70284c8-182b-4a9f-bc40-660372557382"
   },
   "outputs": [
    {
     "name": "stderr",
     "output_type": "stream",
     "text": [
      "/var/folders/_8/1pnnpyz111s3q4bf02xypbgc0000gn/T/ipykernel_24452/3973879463.py:4: RuntimeWarning: invalid value encountered in true_divide\n",
      "  S0 = sqrt(2 * ((tpr + fpr) * log((1 + tpr/fpr)) - tpr))\n",
      "/var/folders/_8/1pnnpyz111s3q4bf02xypbgc0000gn/T/ipykernel_24452/3973879463.py:11: RuntimeWarning: invalid value encountered in true_divide\n",
      "  S01 = sqrt(2 * ((tpr1 + fpr1) * log((1 + tpr1/fpr1)) - tpr1))\n"
     ]
    },
    {
     "data": {
      "image/png": "[encoded data removed]",
      "text/plain": [
       "<Figure size 1500x1000 with 1 Axes>"
      ]
     },
     "metadata": {
      "needs_background": "light"
     },
     "output_type": "display_data"
    }
   ],
   "source": [
    "train_best, test_best = AMS(y_train, bst1, y_test, bst_test['xgb_preds'])"
   ]
  },
  {
   "cell_type": "code",
   "execution_count": 29,
   "metadata": {},
   "outputs": [
    {
     "data": {
      "image/png": "[encoded data removed]",
      "text/plain": [
       "<Figure size 864x576 with 1 Axes>"
      ]
     },
     "metadata": {
      "needs_background": "light"
     },
     "output_type": "display_data"
    }
   ],
   "source": [
    "def preds_prob(df,preds,true,df1,preds1, true1):\n",
    "    fig, ax = plt.subplots(figsize=(12, 8))\n",
    "    bins1=100\n",
    "    TP = df[(df[true]==1)]\n",
    "    TN = df[(df[true]==0)]\n",
    "    \n",
    "    plt.hist(TN[preds], bins=bins1,facecolor='blue',alpha = 0.3, label='background in train')\n",
    "    plt.hist(TP[preds], bins=bins1,facecolor='red',alpha = 0.3, label='signal in train')\n",
    "    \n",
    "    \n",
    "    TP = df1[(df1[true1]==1)]\n",
    "    TN = df1[(df1[true1]==0)]\n",
    "    \n",
    "    hist1, bins1 = np.histogram(TN[preds1], bins=bins1)\n",
    "    err1 = np.sqrt(hist1)\n",
    "    center1 = (bins1[:-1] + bins1[1:]) / 2\n",
    "    plt.errorbar(center1, hist1, yerr=err1, fmt='o',\n",
    "                 c='blue', label='background in test')\n",
    "    \n",
    "    hist, bins = np.histogram(TP[preds1], bins=bins1)\n",
    "    err = np.sqrt(hist)\n",
    "    center = (bins[:-1] + bins[1:]) / 2\n",
    "    plt.errorbar(center, hist, yerr=err, fmt='o',\n",
    "                 c='red', label='signal in test')\n",
    "    \n",
    "\n",
    "    \n",
    "    if df[true].unique().shape[0]>2:\n",
    "        TP2= df[df[true]>1]\n",
    "        plt.hist(TP2[preds], bins=bins1,facecolor='green',alpha = 0.3, label='secondaries in train')\n",
    "        TP2= df1[df1[true1]>1]\n",
    "        hist2, bins2 = np.histogram(TP2[preds1], bins=bins1)\n",
    "        center2 = (bins2[:-1] + bins2[1:]) / 2\n",
    "        err2 = np.sqrt(hist2)\n",
    "        plt.errorbar(center, hist2,yerr=err2, fmt='o',c='green',label='secondaries in test')\n",
    "\n",
    "    \n",
    "    ax.set_yscale('log')\n",
    "    ax.set_xlabel('Probability',fontsize=18)\n",
    "    plt.ylabel('Counts', fontsize=18)\n",
    "    #ax.set_xticks(np.arange(0,1.1,0.1))\n",
    "    plt.legend(fontsize=18)\n",
    "    plt.show()\n",
    "    fig.tight_layout()\n",
    "    fig.savefig(directory+'img/xgb_12agev/chi2geo/probability.pdf')\n",
    "preds_prob(bst_train,'xgb_preds', 'issignal',bst_test,'xgb_preds','issignal')"
   ]
  },
  {
   "cell_type": "markdown",
   "metadata": {
    "id": "DOjnbDBbpB8r"
   },
   "source": [
    "When the AUC, best threshold and approximate median significance for train and test are nearly the same, we save that model and use it. This means that our model is general enough. In my opinion, if the test S0 is above 3.0 then it is a good enough model."
   ]
  },
  {
   "cell_type": "markdown",
   "metadata": {},
   "source": [
    "## Applying the model on the 10k events data-set"
   ]
  },
  {
   "cell_type": "code",
   "execution_count": 30,
   "metadata": {},
   "outputs": [],
   "source": [
    "df_clean['xgb_preds'] = bst.predict(dtest)"
   ]
  },
  {
   "cell_type": "code",
   "execution_count": 31,
   "metadata": {},
   "outputs": [
    {
     "data": {
      "image/png": "[encoded data removed]",
      "text/plain": [
       "<Figure size 360x216 with 1 Axes>"
      ]
     },
     "metadata": {
      "needs_background": "light"
     },
     "output_type": "display_data"
    }
   ],
   "source": [
    "df_clean['xgb_preds'].hist(bins=300)\n",
    "plt.yscale('log')"
   ]
  },
  {
   "cell_type": "markdown",
   "metadata": {
    "id": "loqnFETE_1W1"
   },
   "source": [
    "## Confusion Matrix\n",
    "\n",
    "A **Confusion Matrix** $C$ is such that $C_{ij}$ is equal to the number of observations known to be in group $i$ and predicted to be in group $j$. Thus in binary classification, the count of true positives is $C_{00}$, false negatives $C_{01}$,false positives is $C_{10}$, and true neagtives is $C_{11}$.\n",
    "\n",
    "If $ y^{'}_{i} $ is the predicted value of the $ i$-th sample and $y_{i}$ is the corresponding true value, then the fraction of correct predictions over $ n_{samples}$ is defined as \n",
    "$$\n",
    "True \\: positives (y,y^{'}) =  \\sum_{i=1}^{n_{samples} } 1 (y^{'}_{i} = y_{i}=1)\n",
    "$$ \n",
    "\n",
    "The following function prints and plots the confusion matrix. Normalization can be applied by setting `normalize=True`."
   ]
  },
  {
   "cell_type": "code",
   "execution_count": 32,
   "metadata": {
    "id": "JQrDUlyr_07i"
   },
   "outputs": [],
   "source": [
    "def plot_confusion_matrix(cm, classes,\n",
    "                          normalize=False,\n",
    "                          title='Confusion matrix',\n",
    "                          cmap=plt.cm.Blues):\n",
    "    if normalize:\n",
    "        cm = cm.astype('float') / cm.sum(axis=1)[:, np.newaxis]\n",
    "        print(\"Normalized confusion matrix\")\n",
    "    else:\n",
    "        print('Confusion matrix, without normalization')\n",
    "\n",
    "    print(cm)\n",
    "\n",
    "    plt.imshow(cm, interpolation='nearest', cmap=cmap)\n",
    "    plt.title(title)\n",
    "    plt.colorbar()\n",
    "    tick_marks = np.arange(len(classes))\n",
    "    plt.xticks(tick_marks, classes, rotation=45)\n",
    "    plt.yticks(tick_marks, classes)\n",
    "\n",
    "    fmt = '.2f' if normalize else 'd'\n",
    "    thresh = cm.max() / 2.\n",
    "    for i, j in itertools.product(range(cm.shape[0]), range(cm.shape[1])):\n",
    "        plt.text(j, i, format(cm[i, j], fmt),\n",
    "                 horizontalalignment=\"center\",\n",
    "                 color=\"white\" if cm[i, j] > thresh else \"black\")\n",
    "\n",
    "    plt.tight_layout()\n",
    "    plt.ylabel('True label',fontsize = 15)\n",
    "    plt.xlabel('Predicted label',fontsize = 15)"
   ]
  },
  {
   "cell_type": "code",
   "execution_count": 33,
   "metadata": {},
   "outputs": [],
   "source": [
    "#calculate efficency and false tu tru signal ratio\n",
    "def confustion_stats(df, cm):\n",
    "    all_signals = len(df.loc[df['issignal'] == 1])\n",
    "    true_signal = cm[0][0]\n",
    "    false_signal = cm[1][0]        \n",
    "    reconstructed_signals = true_signal + false_signal\n",
    "    false_to_true_signals = false_signal / true_signal\n",
    "    efficiency = reconstructed_signals / all_signals * 100 #efficency in % for all\n",
    "    efficiency_true = true_signal / all_signals * 100 #efficency in % for all\n",
    "    print(\"Efficiency: \" + str(round(efficiency, 2)) + \"%\")\n",
    "    print(\"Efficiency of true signal candidates reconstruction: \" + str(round(efficiency_true, 2)) + \"%\")\n",
    "    print(\"False tu true reconstructed signal ratio: \" + str(round(false_to_true_signals, 2)))"
   ]
  },
  {
   "cell_type": "code",
   "execution_count": 34,
   "metadata": {
    "tags": []
   },
   "outputs": [],
   "source": [
    "test_best=0.988"
   ]
  },
  {
   "cell_type": "code",
   "execution_count": 35,
   "metadata": {
    "colab": {
     "base_uri": "https://localhost:8080/",
     "height": 636
    },
    "id": "QP6WiKgQ_8yG",
    "outputId": "83f8a707-7b05-4ab5-e50f-e9ef69c2cfcd"
   },
   "outputs": [
    {
     "name": "stdout",
     "output_type": "stream",
     "text": [
      "Confusion matrix, without normalization\n",
      "[[   26417     3435]\n",
      " [    1068 55478854]]\n"
     ]
    },
    {
     "data": {
      "image/png": "[encoded data removed]",
      "text/plain": [
       "<Figure size 720x576 with 2 Axes>"
      ]
     },
     "metadata": {
      "needs_background": "light"
     },
     "output_type": "display_data"
    }
   ],
   "source": [
    "#lets take the best threshold and look at the confusion matrix\n",
    "cut1 = test_best\n",
    "df_clean['xgb_preds1'] = ((df_clean['xgb_preds']>cut1)*1) #1==signal decided by probability\n",
    "cnf_matrix = confusion_matrix(y_whole, df_clean['xgb_preds1'], labels=[1,0])\n",
    "np.set_printoptions(precision=2)\n",
    "fig, axs = plt.subplots(figsize=(10, 8))\n",
    "axs.yaxis.set_label_coords(-0.04,.5)\n",
    "axs.xaxis.set_label_coords(0.5,-.005)\n",
    "plot_confusion_matrix(cnf_matrix, classes=['signal','background'], title='Confusion Matrix for XGB for cut > '+str(cut1))\n",
    "fig.savefig(directory+'img/xgb_12agev/chi2geo/confusion_matrix_extreme_gradient_boosting_whole_data.pdf')\n",
    "fig.savefig(directory+'img/xgb_12agev/chi2geo/confusion_matrix_extreme_gradient_boosting_whole_data.png')"
   ]
  },
  {
   "cell_type": "code",
   "execution_count": null,
   "metadata": {},
   "outputs": [],
   "source": [
    "confustion_stats(df_clean, cnf_matrix)"
   ]
  },
  {
   "cell_type": "markdown",
   "metadata": {},
   "source": [
    "with old params from gradient boosting, but new xgb\n",
    "Efficiency: 88.1%\n",
    "Efficiency of true signal candidates reconstruction: 85.3%\n",
    "False tu true reconstructed signal ratio: 0.03"
   ]
  },
  {
   "cell_type": "code",
   "execution_count": null,
   "metadata": {
    "id": "TtZSmZ8kAZg5"
   },
   "outputs": [],
   "source": [
    "# The following function will display the inavriant mass histogram of the original 10k event set along with the mass histoigram after we apply a cut\n",
    "# on the probability prediction of xgb\n",
    "def cut_visualization(cut, range1=(lowerMassCut, upperMassCut), bins1= 300 ):\n",
    "    mask1 = df_clean['xgb_preds']>cut\n",
    "    df3=df_clean[mask1]\n",
    "    \n",
    "    fig, ax2 = plt.subplots(figsize=(15, 10), dpi = 200)\n",
    "    color = 'tab:blue'\n",
    "    ax2.hist(df_clean['mass'],bins = bins1, range=range1, facecolor='blue',alpha = 0.35, label='before selection')\n",
    "    ax2.set_ylabel('Counts', fontsize = 15, color=color)\n",
    "    ax2.tick_params(axis='y', labelcolor=color)\n",
    "    ax2.legend( fontsize = 15, loc='upper left')\n",
    "    \n",
    "    color = 'tab:red'\n",
    "    ax1 = ax2.twinx()\n",
    "    ax1.hist(df3['mass'], bins = bins1, range=range1, facecolor='red',alpha = 0.35, label='XGB')\n",
    "    ax1.set_xlabel('Mass in GeV', fontsize = 15)\n",
    "    ax1.set_ylabel('Counts ', fontsize = 15, color=color)\n",
    "    ax1.tick_params(axis='y', labelcolor=color)\n",
    "    ax1.legend( fontsize = 15,loc='upper right' )\n",
    "\n",
    "    plt.title(\"The original sample's Invariant Mass along with mass after selection of XGB (with a cut > \"+str(cut)+')', fontsize = 15)\n",
    "    fig.tight_layout()\n",
    "    fig.savefig(directory+'img/xgb_12agev/chi2geo/whole_sample_invmass_with_ML.pdf')\n",
    "    fig.savefig(directory+'img/xgb_12agev/chi2geo/whole_sample_invmass_with_ML.png')"
   ]
  },
  {
   "cell_type": "code",
   "execution_count": null,
   "metadata": {
    "colab": {
     "base_uri": "https://localhost:8080/",
     "height": 1000
    },
    "id": "JOnsE6BTAfdx",
    "outputId": "f480f13b-c2ce-44c8-a639-cd849766ce80"
   },
   "outputs": [],
   "source": [
    "cut_visualization(test_best)"
   ]
  },
  {
   "cell_type": "markdown",
   "metadata": {
    "id": "zrItzy4C72uS"
   },
   "source": [
    "# Comparison with the manually optimized cuts of KFPF\n",
    "In the already existing Kalman Filter Particle Finder (KFPF) package for online reconstruction and selection of short-lived particles in CBM, these criteria have been manually optimized. These selection-cuts have been selected to maximize the signal to background ratio (S/B) of the $\\Lambda$ for a certain energy on a collisions generator. The selection criteria mainly depends on the collision energy, decay channel and detector configuration."
   ]
  },
  {
   "cell_type": "code",
   "execution_count": null,
   "metadata": {},
   "outputs": [],
   "source": [
    "#manually selected cuts\n",
    "manCut_loverdl = 30\n",
    "manCut_dca = 0.4\n",
    "manCut_chi2topo = 20\n",
    "manCut_chi2geo = 12"
   ]
  },
  {
   "cell_type": "code",
   "execution_count": null,
   "metadata": {
    "id": "JQrDUlyr_07i"
   },
   "outputs": [],
   "source": [
    "def plot_confusion_matrix(cm, classes,\n",
    "                          normalize=False,\n",
    "                          title='Confusion matrix',\n",
    "                          cmap=plt.cm.Blues):\n",
    "    if normalize:\n",
    "        cm = cm.astype('float') / cm.sum(axis=1)[:, np.newaxis]\n",
    "        print(\"Normalized confusion matrix\")\n",
    "    else:\n",
    "        print('Confusion matrix, without normalization')\n",
    "\n",
    "    print(cm)\n",
    "\n",
    "    plt.imshow(cm, interpolation='nearest', cmap=cmap)\n",
    "    plt.title(title)\n",
    "    plt.colorbar()\n",
    "    tick_marks = np.arange(len(classes))\n",
    "    plt.xticks(tick_marks, classes, rotation=45)\n",
    "    plt.yticks(tick_marks, classes)\n",
    "\n",
    "    fmt = '.2f' if normalize else 'd'\n",
    "    thresh = cm.max() / 2.\n",
    "    for i, j in itertools.product(range(cm.shape[0]), range(cm.shape[1])):\n",
    "        plt.text(j, i, format(cm[i, j], fmt),\n",
    "                 horizontalalignment=\"center\",\n",
    "                 color=\"white\" if cm[i, j] > thresh else \"black\")\n",
    "\n",
    "    plt.tight_layout()\n",
    "    plt.ylabel('True label',fontsize = 15)\n",
    "    plt.xlabel('Predicted label',fontsize = 15)"
   ]
  },
  {
   "cell_type": "code",
   "execution_count": null,
   "metadata": {
    "colab": {
     "base_uri": "https://localhost:8080/",
     "height": 636
    },
    "id": "A0CXPHGR72uS",
    "outputId": "c94f8fd1-0499-4f48-d284-4c639b5f7462"
   },
   "outputs": [],
   "source": [
    "new_check_set= df_clean.copy()\n",
    "new_check_set['new_signal']=0\n",
    "\n",
    "# mask1 = (new_check_set['loverdl'] > manCut_loverdl) & (new_check_set['distance'] < manCut_dca)\n",
    "\n",
    "# mask2 = (new_check_set['chi2topo'] < manCut_chi2topo) & (new_check_set['chi2geo'] < manCut_chi2geo) \n",
    "\n",
    "# new_check_set = new_check_set[(mask1) & (mask2)]\n",
    "\n",
    "mask1 = (new_check_set['chi2primfirst'] > 18.4) & (new_check_set['chi2primsecond'] > 18.4)\n",
    "\n",
    "mask2 = (new_check_set['loverdl'] > 5) & (new_check_set['distance'] < 1)\n",
    "\n",
    "mask3 = (new_check_set['chi2geo'] < 3) & (new_check_set['cosinefirst'] > 0) & (new_check_set['cosinesecond'] > 0)\n",
    "\n",
    "new_check_set = new_check_set[(mask1) & (mask2) & (mask3)]\n",
    "#After all these cuts, what is left is considered as signal, so we replace all the values in the 'new_signal'\n",
    "# column by 1\n",
    "new_check_set['new_signal'] = 1\n",
    "# new_anticheck_set['new_signal'] = 0\n",
    "cnf_matrix1 = confusion_matrix(new_check_set['issignal'], new_check_set['new_signal'], labels=[1,0])\n",
    "np.set_printoptions(precision=2)\n",
    "fig, axs = plt.subplots(figsize=(10, 8))\n",
    "axs.yaxis.set_label_coords(-0.04,.5)\n",
    "axs.xaxis.set_label_coords(0.5,-.005)\n",
    "plot_confusion_matrix(cnf_matrix1, classes=['signal','background'], title='Confusion Matrix for manually set cuts')\n",
    "fig.savefig(directory+'img/xgb_12agev/chi2geo/confusion_matrix_for_manually_set_cuts.pdf')\n",
    "fig.savefig(directory+'img/xgb_12agev/chi2geo/confusion_matrix_for_manually_set_cuts.png')"
   ]
  },
  {
   "cell_type": "code",
   "execution_count": null,
   "metadata": {},
   "outputs": [],
   "source": [
    "confustion_stats(df_clean, cnf_matrix1)"
   ]
  },
  {
   "cell_type": "code",
   "execution_count": null,
   "metadata": {
    "id": "ncr9MQSdD7WD"
   },
   "outputs": [],
   "source": [
    "cut3 = test_best\n",
    "mask1 = df_clean['xgb_preds']>cut3\n",
    "df3=df_clean[mask1]"
   ]
  },
  {
   "cell_type": "code",
   "execution_count": null,
   "metadata": {
    "colab": {
     "base_uri": "https://localhost:8080/",
     "height": 654
    },
    "id": "DwAD5im6lIj4",
    "outputId": "3660034f-8f9b-472b-aced-35746f9ad1ee"
   },
   "outputs": [],
   "source": [
    "# from matplotlib import gridspec\n",
    "\n",
    "range1= (lowerMassCut, upperMassCut)\n",
    "\n",
    "\n",
    "fig, axs = plt.subplots(2, 1,figsize=(15,10), sharex=True,  gridspec_kw={'width_ratios': [10],\n",
    "                           'height_ratios': [8,4]})\n",
    "\n",
    "ns, bins, patches=axs[0].hist((df3['mass']),bins = 300, range=range1, facecolor='red',alpha = 0.3)\n",
    "ns1, bins1, patches1=axs[0].hist((new_check_set['mass']),bins = 300, range=range1,facecolor='blue',alpha = 0.3)\n",
    "#plt.xlabel(\"Mass in GeV\", fontsize = 15)\n",
    "axs[0].set_ylabel(\"counts\", fontsize = 15)\n",
    "#axs[0].grid()\n",
    "axs[0].legend(('XGBoost Selected K-short','KFPF selected K-short'), fontsize = 15, loc='upper right')\n",
    "\n",
    "#plt.rcParams[\"legend.loc\"] = 'upper right'\n",
    "axs[0].set_title(\"The K-short Invariant Mass histogram with KFPF and XGB selection criteria on KFPF variables\", fontsize = 15)\n",
    "axs[0].grid()\n",
    "axs[0].tick_params(axis='both', which='major', labelsize=15)\n",
    "#fig.savefig(\"whole_sample_invmass_with_ML.png\")\n",
    "\n",
    "\n",
    "hist1, bin_edges1 = np.histogram(df3['mass'],range=(lowerMassCut, upperMassCut), bins=200)\n",
    "hist2, bin_edges2 = np.histogram(new_check_set['mass'],range=(lowerMassCut, upperMassCut), bins=200)\n",
    "\n",
    "#ratio checked with division by 0\n",
    "ratioBlue = [] #ratio smaller than 1\n",
    "ratioRed = [] # ratio bigger than 1\n",
    "for i in range(len(ns1)):\n",
    "    if (ns1[i] != 0):\n",
    "        ratio = ns[i] / ns1[i]\n",
    "        if (ratio < 1):\n",
    "            ratioBlue.append(ratio)\n",
    "            ratioRed.append(0)\n",
    "        else:\n",
    "            ratioBlue.append(0)\n",
    "            ratioRed.append(ratio)\n",
    "    else:\n",
    "        ratioBlue.append(0)\n",
    "        ratioRed.append(0)\n",
    "#col = []\n",
    "# for val in ratio:\n",
    "#     if val < 1:\n",
    "#         col.append('blue')\n",
    "#     else:\n",
    "#         col.append('red')        \n",
    "axs[1].bar(bins[:-1],     \n",
    "        ratioBlue, \n",
    "        width=0.001,\n",
    "        color = 'blue',\n",
    "        label='ratio < 1')\n",
    "axs[1].bar(bins[:-1],     \n",
    "        ratioRed, \n",
    "        width=0.001,\n",
    "        color = 'red',\n",
    "        label='ratio >= 1')\n",
    "axs[1].legend( loc='upper right')\n",
    "plt.xlabel(\"Mass in $\\dfrac{GeV}{c^2}$\", fontsize = 15)\n",
    "axs[1].set_ylabel(\"XGB / KFPF\", fontsize = 15)\n",
    "axs[1].grid()\n",
    "#axs[1].set_ylim([0.,2.5])\n",
    "axs[1].tick_params(axis='both', which='major', labelsize=15)\n",
    "\n",
    "plt.show()\n",
    "fig.tight_layout()\n",
    "fig.savefig(directory+'img/xgb_12agev/chi2geo/kaon_inv_mass_comparison.png')\n",
    "fig.savefig(directory+'img/xgb_12agev/chi2geo/kaon_inv_mass_comparison.pdf')"
   ]
  },
  {
   "cell_type": "code",
   "execution_count": null,
   "metadata": {
    "colab": {
     "base_uri": "https://localhost:8080/",
     "height": 654
    },
    "id": "DwAD5im6lIj4",
    "outputId": "3660034f-8f9b-472b-aced-35746f9ad1ee"
   },
   "outputs": [],
   "source": [
    "from matplotlib import gridspec\n",
    "\n",
    "range1= (0.4, 0.6)\n",
    "\n",
    "\n",
    "fig, axs = plt.subplots(2, 1,figsize=(15,10), sharex=True,  gridspec_kw={'width_ratios': [10],\n",
    "                           'height_ratios': [8,4]})\n",
    "\n",
    "ns, bins, patches=axs[0].hist((df3['mass']),bins = 100, range=range1, facecolor='red',alpha = 0.3)\n",
    "ns1, bins1, patches1=axs[0].hist((new_check_set['mass']),bins = 100, range=range1,facecolor='blue',alpha = 0.3)\n",
    "#plt.xlabel(\"Mass in GeV\", fontsize = 15)\n",
    "axs[0].set_ylabel(\"counts\", fontsize = 15)\n",
    "#axs[0].grid()\n",
    "axs[0].legend(('XGBoost Selected K-short','KFPF selected K-short'), fontsize = 15, loc='upper right')\n",
    "\n",
    "#plt.rcParams[\"legend.loc\"] = 'upper right'\n",
    "axs[0].set_title(\"The K-short Invariant Mass histogram with KFPF and XGB selection criteria on KFPF variables (close up)\", fontsize = 15)\n",
    "axs[0].grid()\n",
    "axs[0].tick_params(axis='both', which='major', labelsize=15)\n",
    "#fig.savefig(\"whole_sample_invmass_with_ML.png\")\n",
    "\n",
    "\n",
    "hist1, bin_edges1 = np.histogram(df3['mass'],range=(lowerMassCut, upperMassCut), bins=100)\n",
    "hist2, bin_edges2 = np.histogram(new_check_set['mass'],range=(lowerMassCut, upperMassCut), bins=100)\n",
    "\n",
    "#ratio checked with division by 0\n",
    "ratioBlue = [] #ratio smaller than 1\n",
    "ratioRed = [] # ratio bigger than 1\n",
    "for i in range(len(ns1)):\n",
    "    if (ns1[i] != 0):\n",
    "        ratio = ns[i] / ns1[i]\n",
    "        if (ratio < 1):\n",
    "            ratioBlue.append(ratio)\n",
    "            ratioRed.append(0)\n",
    "        else:\n",
    "            ratioBlue.append(0)\n",
    "            ratioRed.append(ratio)\n",
    "    else:\n",
    "        ratioBlue.append(0)\n",
    "        ratioRed.append(0)\n",
    "#col = []\n",
    "# for val in ratio:\n",
    "#     if val < 1:\n",
    "#         col.append('blue')\n",
    "#     else:\n",
    "#         col.append('red')        \n",
    "axs[1].bar(bins[:-1],     \n",
    "        ratioBlue, \n",
    "        width=0.001,\n",
    "        color = 'blue',\n",
    "        label='ratio < 1')\n",
    "axs[1].bar(bins[:-1],     \n",
    "        ratioRed, \n",
    "        width=0.001,\n",
    "        color = 'red',\n",
    "        label='ratio >= 1')\n",
    "axs[1].legend( loc='upper right')\n",
    "plt.xlabel(\"Mass in $\\dfrac{GeV}{c^2}$\", fontsize = 15)\n",
    "axs[1].set_ylabel(\"XGB / KFPF\", fontsize = 15)\n",
    "axs[1].grid()\n",
    "axs[1].set_ylim([0.,2.5])\n",
    "axs[1].tick_params(axis='both', which='major', labelsize=15)\n",
    "\n",
    "plt.show()\n",
    "fig.tight_layout()\n",
    "fig.savefig(directory+'img/xgb_12agev/chi2geo/kaon_inv_mass_comparison_closeup.png')\n",
    "fig.savefig(directory+'img/xgb_12agev/chi2geo/kaon_inv_mass_comparison_closeup.pdf')"
   ]
  },
  {
   "cell_type": "code",
   "execution_count": null,
   "metadata": {
    "colab": {
     "base_uri": "https://localhost:8080/",
     "height": 654
    },
    "id": "DwAD5im6lIj4",
    "outputId": "3660034f-8f9b-472b-aced-35746f9ad1ee"
   },
   "outputs": [],
   "source": [
    "# from matplotlib import gridspec\n",
    "\n",
    "range1= (lowerMassCut, upperMassCut)\n",
    "\n",
    "\n",
    "fig, axs = plt.subplots(2, 1,figsize=(15,10), sharex=True,  gridspec_kw={'width_ratios': [10],\n",
    "                           'height_ratios': [8,4]})\n",
    "\n",
    "ns, bins, patches=axs[0].hist((df3['mass']),bins = 300, range=range1, facecolor='red',alpha = 0.3)\n",
    "ns1, bins1, patches1=axs[0].hist((new_check_set['mass']),bins = 300, range=range1,facecolor='blue',alpha = 0.3)\n",
    "#plt.xlabel(\"Mass in GeV\", fontsize = 15)\n",
    "axs[0].set_ylabel(\"counts\", fontsize = 15)\n",
    "axs[0].set_yscale('log')\n",
    "axs[0].legend(('XGBoost Selected K-short','KFPF selected K-short'), fontsize = 15, loc='upper right')\n",
    "\n",
    "#plt.rcParams[\"legend.loc\"] = 'upper right'\n",
    "axs[0].set_title(\"The K-short Invariant Mass histogram with KFPF and XGB selection criteria on KFPF variables\", fontsize = 15)\n",
    "axs[0].grid()\n",
    "axs[0].tick_params(axis='both', which='major', labelsize=15)\n",
    "#fig.savefig(\"whole_sample_invmass_with_ML.png\")\n",
    "\n",
    "\n",
    "hist1, bin_edges1 = np.histogram(df3['mass'],range=(lowerMassCut, upperMassCut), bins=300)\n",
    "hist2, bin_edges2 = np.histogram(new_check_set['mass'],range=(lowerMassCut, upperMassCut), bins=300)\n",
    "\n",
    "#ratio checked with division by 0\n",
    "ratioBlue = [] #ratio smaller than 1\n",
    "ratioRed = [] # ratio bigger than 1\n",
    "for i in range(len(ns1)):\n",
    "    if (ns1[i] != 0):\n",
    "        ratio = ns[i] / ns1[i]\n",
    "        if (ratio < 1):\n",
    "            ratioBlue.append(ratio)\n",
    "            ratioRed.append(0)\n",
    "        else:\n",
    "            ratioBlue.append(0)\n",
    "            ratioRed.append(ratio)\n",
    "    else:\n",
    "        ratioBlue.append(0)\n",
    "        ratioRed.append(0)\n",
    "#col = []\n",
    "# for val in ratio:\n",
    "#     if val < 1:\n",
    "#         col.append('blue')\n",
    "#     else:\n",
    "#         col.append('red')        \n",
    "axs[1].bar(bins[:-1],     \n",
    "        ratioBlue, \n",
    "        width=0.001,\n",
    "        color = 'blue',\n",
    "        label='ratio < 1')\n",
    "axs[1].bar(bins[:-1],     \n",
    "        ratioRed, \n",
    "        width=0.001,\n",
    "        color = 'red',\n",
    "        label='ratio >= 1')\n",
    "axs[1].legend( loc='upper right')\n",
    "plt.xlabel(\"Mass in $\\dfrac{GeV}{c^2}$\", fontsize = 15)\n",
    "axs[1].set_ylabel(\"XGB / KFPF\", fontsize = 15)\n",
    "axs[1].set_ylim([0.,2.])\n",
    "axs[1].grid()\n",
    "axs[1].tick_params(axis='both', which='major', labelsize=15)\n",
    "\n",
    "plt.show()\n",
    "fig.tight_layout()\n",
    "fig.savefig(directory+'img/xgb_12agev/chi2geo/kaon_inv_mass_comparison.png')\n",
    "fig.savefig(directory+'img/xgb_12agev/chi2geo/kaon_inv_mass_comparison.pdf')"
   ]
  },
  {
   "cell_type": "code",
   "execution_count": null,
   "metadata": {},
   "outputs": [],
   "source": [
    "from matplotlib import gridspec\n",
    "\n",
    "mask1 = df_clean['xgb_preds']>test_best\n",
    "df3_base=df_clean[mask1]\n",
    "\n",
    "left = .44\n",
    "right = .55\n",
    "range1= (left, right)\n",
    "\n",
    "\n",
    "fig, axs = plt.subplots(2, 1,figsize=(15,10), sharex=True, gridspec_kw={'width_ratios': [10],\n",
    "                           'height_ratios': [8,4]})\n",
    "\n",
    "ns, bins, patches=axs[0].hist((df3_base['mass']),bins = 50,histtype='step', range=range1,Fill=False, color='red', facecolor='red', linewidth=2)\n",
    "ns1, bins1, patches1=axs[0].hist((new_check_set['mass']),bins = 50,histtype='step', Fill=False, range=range1,facecolor='blue',linewidth=2)\n",
    "#plt.xlabel(\"Mass in GeV\", fontsize = 15)\n",
    "axs[0].set_ylabel(\"log (counts)\", fontsize = 18)\n",
    "#axs[0].grid()\n",
    "axs[0].legend(('XGBoost Selected K-short','KFPF selected K-short'), fontsize = 18, loc='upper right')\n",
    "\n",
    "#plt.rcParams[\"legend.loc\"] = 'upper right'\n",
    "axs[0].set_title(\"The K-short Invariant Mass histogram with KFPF and XGB selection criteria on KFPF variables\", fontsize = 18)\n",
    "#axs[0].grid()\n",
    "axs[0].tick_params(axis='both', which='major', labelsize=18)\n",
    "axs[0].set_yscale('log')\n",
    "#fig.savefig(\"whole_sample_invmass_with_ML.png\")\n",
    "\n",
    "\n",
    "hist1, bin_edges1 = np.histogram(df3_base['mass'],range=(left, right), bins=50)\n",
    "hist2, bin_edges2 = np.histogram(new_check_set['mass'],range=(left, right), bins=50)\n",
    "\n",
    "\n",
    "#makes sense to have only positive values\n",
    "diff = (hist1 - hist2)\n",
    "#axs[1].bar((bins[:-1] + bins[1:]) / 2, # this is what makes it comparable\n",
    "# ns / ns1, # maybe check for div-by-zero!\n",
    "# width=0.001)\n",
    "axs[1].hlines(y=1, xmin=left, xmax=right, colors='r', linestyles='solid', label='')\n",
    "center = (bins[:-1] + bins[1:]) / 2\n",
    "plt.errorbar(center, ns / ns1, fmt='o',\n",
    "                 c='Blue', label='Background in predictions')\n",
    "\n",
    "\n",
    "    \n",
    "    \n",
    "plt.xlabel(\"Mass in $\\dfrac{GeV}{c^2}$\", fontsize = 18)\n",
    "axs[1].set_ylabel(\"XGB / KFPF\", fontsize = 18)\n",
    "#axs[1].grid()\n",
    "axs[1].tick_params(axis='both', which='major', labelsize=18)\n",
    "\n",
    "plt.show()\n",
    "fig.tight_layout()\n",
    "fig.savefig(directory+'img/xgb_12agev/chi2geo/circle_kshort_invmass_with_ML.png')"
   ]
  },
  {
   "cell_type": "code",
   "execution_count": null,
   "metadata": {},
   "outputs": [],
   "source": [
    "#del bst_test, df3, df3_base, dtest, dtest1, x_train, y_test, y_train, y_whole\n",
    "gc.collect()\n",
    "backgroundBefore = df_clean[df_clean['issignal']<1]\n",
    "signalBefore = df_clean[df_clean['issignal']==1]\n",
    "backgroundXgb = df_clean[df_clean['xgb_preds1']<1]\n",
    "signalXgb = df_clean[df_clean['xgb_preds1']==1]\n",
    "signalKfpf = new_check_set[new_check_set['issignal']==1]\n",
    "del df_clean, new_check_set\n",
    "gc.collect()"
   ]
  },
  {
   "cell_type": "code",
   "execution_count": null,
   "metadata": {
    "colab": {
     "base_uri": "https://localhost:8080/",
     "height": 654
    },
    "id": "DwAD5im6lIj4",
    "outputId": "3660034f-8f9b-472b-aced-35746f9ad1ee",
    "tags": []
   },
   "outputs": [],
   "source": [
    "pdf_params = PdfPages(directory+'img/xgb_12agev/chi2geo/params.pdf') \n",
    "def plotVariables(par, x_label, ranges):\n",
    "\n",
    "    fig, axs = plt.subplots(3, 1,figsize=(15,15))#, sharex=True)\n",
    "    bckgrBefore = backgroundBefore[par]\n",
    "    signBefore = signalBefore[par]\n",
    "    bckgrXgb = backgroundXgb[par]\n",
    "    signXgb = signalXgb[par]\n",
    "\n",
    "    def subAxis(df1, df2, i, title, ranges=ranges, leg1='background',  leg2='signal', bins=100):\n",
    "        axs[i].hist(df1,bins = bins, facecolor='blue',alpha = 0.6, histtype='step', fill=False, linewidth=2, range=ranges) \n",
    "        axs[i].hist(df2,bins = bins, facecolor='red', alpha = 0.7, histtype='step', fill=False, linewidth=2, range=ranges)\n",
    "        axs[i].grid()\n",
    "        axs[i].set_xlabel(x_label, fontsize = 15, loc='right')\n",
    "        axs[i].set_ylim(bottom=1)\n",
    "        axs[i].set_ylabel(\"counts\", fontsize = 15)\n",
    "        axs[i].set_yscale('log')\n",
    "        axs[i].legend((leg1,leg2), fontsize = 15, loc='upper right')\n",
    "        axs[i].set_title(title, fontsize = 15)\n",
    "\n",
    "    subAxis(bckgrBefore,signBefore, 0, 'before selection') \n",
    "    subAxis(bckgrXgb,signXgb, 1, 'XGB selection') \n",
    "    subAxis(signBefore,signXgb, 2, 'signal before and after XGB', leg1='signal before XGB', leg2='signal after XGB', bins=300) \n",
    "\n",
    "    fig.tight_layout()\n",
    "    fig.savefig(directory+'img/xgb_12agev/chi2geo/' + par + '.png')\n",
    "    fig.savefig(pdf_params,format='pdf')\n",
    "    fig.subplots_adjust(top=0.93) #for overall title\n",
    "    fig.suptitle(par, fontsize = 18)\n",
    "    plt.show()\n",
    "#loverdl\n",
    "par = 'loverdl'\n",
    "x_label = r'$\\dfrac{l}{\\Delta l}$'\n",
    "ranges = (0,10000)\n",
    "plotVariables(par, x_label, ranges)\n",
    "#distance\n",
    "par = 'distance'\n",
    "x_label = 'DCA'\n",
    "ranges = (0,5)\n",
    "plotVariables(par, x_label, ranges)\n",
    "#chi2topo\n",
    "par = 'chi2topo'\n",
    "x_label = r'$\\chi^2_{topo}$'\n",
    "ranges = (0,100)\n",
    "plotVariables(par, x_label, ranges)\n",
    "#chi2geo\n",
    "par = 'chi2geo'\n",
    "x_label = r'$\\chi^2_{geo}$'\n",
    "plotVariables(par, x_label, ranges)\n",
    "#chi2primfirst\n",
    "par = 'chi2primfirst'\n",
    "x_label = r'$\\chi^2_{prim} first$'\n",
    "plotVariables(par, x_label, ranges)\n",
    "#chi2primsecond\n",
    "par = 'chi2primsecond'\n",
    "x_label = r'$\\chi^2_{prim} second$'\n",
    "plotVariables(par, x_label, ranges)\n",
    "#mass\n",
    "par = 'mass'\n",
    "ranges = (lowerMassCut,upperMassCut)\n",
    "x_label = r'$mass$'\n",
    "plotVariables(par, x_label, ranges)\n",
    "#pZ\n",
    "par = 'pz'\n",
    "ranges = (pzLowerCut,10)\n",
    "x_label = r'$pZ$'\n",
    "plotVariables(par, x_label, ranges)\n",
    "#pZ\n",
    "par = 'p'\n",
    "ranges = (-1,10)\n",
    "x_label = r'$p$'\n",
    "plotVariables(par, x_label, ranges)\n",
    "#rapidity\n",
    "par = 'rapidity'\n",
    "ranges = (0,4)\n",
    "x_label = r'$rapidity$'\n",
    "plotVariables(par, x_label, ranges)\n",
    "#rapidity\n",
    "par = 'eta'\n",
    "ranges = (lowerEtaCut,upperEtaCut)\n",
    "x_label = r'$\\eta$'\n",
    "plotVariables(par, x_label, ranges)\n",
    "pdf_params.close()"
   ]
  },
  {
   "cell_type": "code",
   "execution_count": null,
   "metadata": {},
   "outputs": [],
   "source": [
    "trueSignalXgb = signalXgb[signalXgb['issignal']==1]\n",
    "fig, ax = plt.subplots(figsize=(12, 8))\n",
    "name = 'diff_m'\n",
    "xName = r'$m$ (GeV/$c^2$)'\n",
    "ranges = (lowerMassCut,upperMassCut)\n",
    "plt.title('Simulated K-short - XGB true positives', fontsize=18)\n",
    "plt.xlabel(xName, fontsize=18, loc='right')\n",
    "plt.ylabel(\"entries\", fontsize=18, loc='top')\n",
    "before, bins1 = np.histogram(signalBefore['mass'], bins=100, range=ranges)\n",
    "after, bins2  = np.histogram(trueSignalXgb['mass'], bins=100, range=ranges)\n",
    "bin_edges = np.linspace(lowerMassCut, upperMassCut, 100)\n",
    "plt.bar(bin_edges, (before-after), width=(upperMassCut-lowerMassCut)/100 )#fill=False)\n",
    "plt.annotate('not reconstructed signal= ' + str(sum(before-after)) +' K-shorts\\n ('+ str(round(sum(before-after)/sum(before)*100, 2)) + '%)', \n",
    "        xy=(0.6, 0.9),xycoords='axes fraction',fontsize = 14, bbox = dict(alpha = 0.5))\n",
    "#plt.hist(sign[~is_good_sign_mom]['p'], bins=100, label='signal')\n",
    "#plt.legend(loc='upper right')\n",
    "fig.tight_layout()\n",
    "fig.savefig(directory+'img/xgb_12agev/chi2geo/' + 'simulated-truepos' + '.png')"
   ]
  },
  {
   "cell_type": "code",
   "execution_count": null,
   "metadata": {},
   "outputs": [],
   "source": [
    "import matplotlib as mpl\n",
    "var_xaxis = signalBefore['rapidity']\n",
    "var_yaxis = signalBefore['pT']\n",
    "#get name with variable from the xnames list\n",
    "xName = r'rapidity'\n",
    "yName = r'$pT $(GeV/c)'\n",
    "ranges = [[.7, 2.5],[0, 2]]\n",
    "fig, axs = plt.subplots(figsize=(15, 10))\n",
    "plt.hist2d(var_xaxis,var_yaxis, bins=80, norm=mpl.colors.LogNorm())\n",
    "hBefore, xedges, yedges = np.histogram2d(var_xaxis, var_yaxis, bins=60, range = ranges) #for efficiency graph\n",
    "plt.xlabel(xName, fontsize=15, loc='right')\n",
    "plt.ylabel(yName, fontsize=15, loc='top')\n",
    "title=\"2D histogram of \"+var_xaxis.name +\" on the x-axis and \"+var_yaxis.name+\" on the y-axis (all signal K-shorts from MC)\"\n",
    "plt.title(title, fontsize=15)\n",
    "#axs.tick_params(labelsize=18)\n",
    "fig.tight_layout()\n",
    "plt.colorbar() #shows legend\n",
    "fig.savefig(directory+'img/xgb_12agev/chi2geo/' + 'pt-rapidity_before' + '.png')"
   ]
  },
  {
   "cell_type": "code",
   "execution_count": null,
   "metadata": {},
   "outputs": [],
   "source": [
    "import matplotlib as mpl\n",
    "var_xaxis = signalKfpf['rapidity']\n",
    "var_yaxis = signalKfpf['pT']\n",
    "#get name with variable from the xnames list\n",
    "fig, axs = plt.subplots(figsize=(15, 10))\n",
    "plt.hist2d(var_xaxis,var_yaxis, bins=80, norm=mpl.colors.LogNorm())\n",
    "hAfterKfpf, _, _ = np.histogram2d(var_xaxis, var_yaxis, bins=60, range = ranges) #for efficiency graph\n",
    "plt.xlabel(xName, fontsize=15, loc='right')\n",
    "plt.ylabel(yName, fontsize=15, loc='top')\n",
    "title=\"2D histogram of \"+var_xaxis.name +\" on the x-axis and \"+var_yaxis.name+\" on the y-axis (after KFPF selection)\"\n",
    "plt.title(title, fontsize=15)\n",
    "#axs.tick_params(labelsize=18)\n",
    "fig.tight_layout()\n",
    "plt.colorbar() #shows legend\n",
    "fig.savefig(directory+'img/xgb_12agev/chi2geo/' + 'pt-rapidity_kfpf' + '.png')"
   ]
  },
  {
   "cell_type": "code",
   "execution_count": null,
   "metadata": {},
   "outputs": [],
   "source": [
    "var_xaxis = trueSignalXgb['rapidity']\n",
    "var_yaxis = trueSignalXgb['pT']\n",
    "fig, axs = plt.subplots(figsize=(15, 10))\n",
    "plt.hist2d(var_xaxis,var_yaxis, bins=80, norm=mpl.colors.LogNorm())\n",
    "hAfter, _, _ = np.histogram2d(var_xaxis, var_yaxis, bins=80, range = ranges)#for efficiency graph\n",
    "plt.xlabel(xName, fontsize=15, loc='right')\n",
    "plt.ylabel(yName, fontsize=15, loc='top')\n",
    "title=\"2D histogram of \"+var_xaxis.name +\" on the x-axis and \"+var_yaxis.name+\" on the y-axis (after XGB selection)\"\n",
    "plt.title(title, fontsize=15)\n",
    "axs.tick_params(labelsize=18)\n",
    "fig.tight_layout()\n",
    "plt.colorbar() #shows legend\n",
    "fig.savefig(directory+'img/xgb_12agev/chi2geo/' + 'pt-rapidity_after' + '.png')"
   ]
  },
  {
   "cell_type": "code",
   "execution_count": null,
   "metadata": {},
   "outputs": [],
   "source": [
    "cuts = ['rapidity', 'pT']\n",
    "def difference_df(df_orig, df_cut, cut):\n",
    "    return pd.concat([df_orig[cut], df_cut[cut]]).drop_duplicates(keep=False)\n",
    "difference = difference_df(signalBefore, trueSignalXgb, cuts)\n",
    "\n",
    "var_xaxis = difference['rapidity']\n",
    "var_yaxis = difference['pT']\n",
    "#get name with variable from the xnames list\n",
    "xName = r'rapidity'\n",
    "yName = r'$pT$(GeV/c)'\n",
    "fig, axs = plt.subplots(figsize=(15, 10))\n",
    "plt.hist2d(var_xaxis,var_yaxis, bins=80, norm=mpl.colors.LogNorm())\n",
    "plt.xlabel(xName, fontsize=15, loc='right')\n",
    "plt.ylabel(yName, fontsize=15, loc='top')\n",
    "title=\"2D histogram of diiference of \"+var_xaxis.name +\" on the x-axis and \"+var_yaxis.name+\" on the y-axis (simulated -  XGB true positives)\"\n",
    "plt.title(title, fontsize=15)\n",
    "axs.tick_params(labelsize=18)\n",
    "fig.tight_layout()\n",
    "plt.colorbar() #shows legend\n",
    "fig.savefig(directory+'img/xgb_12agev/chi2geo/' + 'pt-rapidity_diff' + '.png')"
   ]
  },
  {
   "cell_type": "code",
   "execution_count": null,
   "metadata": {},
   "outputs": [],
   "source": [
    "efficiency = np.divide(hAfter, hBefore, out=np.zeros_like(hAfter), where=hBefore!=0)\n",
    "print(hBefore)\n",
    "print(efficiency)"
   ]
  },
  {
   "cell_type": "code",
   "execution_count": null,
   "metadata": {},
   "outputs": [],
   "source": [
    "#get name with variable from the xnames list\n",
    "xName = r'rapidity'\n",
    "yName = r'$pT$(GeV/c)'\n",
    "fig, axs = plt.subplots(figsize=(15, 10))\n",
    "efficiency = np.divide(hAfter, hBefore, out=np.zeros_like(hAfter), where=hBefore!=0) #efficiency\n",
    "plt.imshow(efficiency, extent=[xedges[0], xedges[-1], yedges[0], yedges[-1]],interpolation='nearest', aspect='auto')\n",
    "plt.xlabel(xName, fontsize=15, loc='right')\n",
    "plt.ylabel(yName, fontsize=15, loc='top')\n",
    "title=\"2D histogram of effiency of (XGB reconstructed K-shorts / reconstructable)\"\n",
    "plt.title(title, fontsize=15)\n",
    "#axs.tick_params(labelsize=18)\n",
    "fig.tight_layout()\n",
    "plt.colorbar() #shows legend\n",
    "fig.savefig(directory+'img/xgb_12agev/chi2geo/' + 'efficency2d' + '.png')"
   ]
  },
  {
   "cell_type": "code",
   "execution_count": null,
   "metadata": {},
   "outputs": [],
   "source": [
    "#get name with variable from the xnames list\n",
    "xName = r'rapidity'\n",
    "yName = r'$pT$(GeV/c)'\n",
    "efficiencyKfpf = np.divide(hAfterKfpf, hBefore, out=np.zeros_like(hAfterKfpf), where=hBefore!=0) #efficiency\n",
    "fig, axs = plt.subplots(figsize=(15, 10))\n",
    "plt.imshow(efficiencyKfpf, extent=[xedges[0], xedges[-1], yedges[0], yedges[-1]],interpolation='nearest', aspect='auto')\n",
    "plt.xlabel(xName, fontsize=15, loc='right')\n",
    "plt.ylabel(yName, fontsize=15, loc='top')\n",
    "title=\"2D histogram of effiency of (Kfpf reconstructed K-shorts / reconstructable)\"\n",
    "plt.title(title, fontsize=15)\n",
    "#axs.tick_params(labelsize=18)\n",
    "fig.tight_layout()\n",
    "plt.colorbar() #shows legend\n",
    "fig.savefig(directory+'img/xgb_12agev/chi2geo/' + 'efficency2d_kfpf' + '.png')"
   ]
  },
  {
   "cell_type": "code",
   "execution_count": null,
   "metadata": {},
   "outputs": [],
   "source": [
    "gc.collect()"
   ]
  },
  {
   "cell_type": "code",
   "execution_count": null,
   "metadata": {},
   "outputs": [],
   "source": []
  },
  {
   "cell_type": "markdown",
   "metadata": {
    "id": "T4qfipIF1f9C"
   },
   "source": [
    "# Importing the final predictor to root\n",
    "We will use the treelite library to transport the final predictor of our model to root"
   ]
  },
  {
   "cell_type": "raw",
   "metadata": {
    "colab": {
     "base_uri": "https://localhost:8080/"
    },
    "id": "EclXZNYd11Dc",
    "outputId": "0e3ba6c8-0ba4-4d77-fbd2-31beff07fcda"
   },
   "source": [
    "#install treelite \n",
    "import treelite\n",
    "#create an object out of your model, bst in our case\n",
    "model = treelite.Model.from_xgboost(bst)\n",
    "#use GCC compiler\n",
    "toolchain = 'gcc'\n",
    "#parallel_comp can be changed upto as many processors as one have\n",
    "model.export_lib(toolchain=toolchain, libpath='./mymodel.so',\n",
    "                 params={'parallel_comp': 8}, verbose=True)\n",
    "\n",
    "# Operating system of the target machine\n",
    "platform = 'unix'\n",
    "# C compiler to use to compile prediction code on the target machine\n",
    "toolchain = 'gcc'\n",
    "# Save the source package as a zip archive named mymodel.zip\n",
    "# Later, we'll use this package to produce the library mymodel.so.\n",
    "model.export_srcpkg(platform=platform, toolchain=toolchain,\n",
    "                    pkgpath='./mymodel.zip', libname='mymodel.so',\n",
    "                    verbose=True)"
   ]
  },
  {
   "cell_type": "raw",
   "metadata": {
    "colab": {
     "base_uri": "https://localhost:8080/"
    },
    "id": "Ha8m3Kub6UAt",
    "outputId": "8524aa6c-7c50-45ae-a3cf-42d9b8ab1cab"
   },
   "source": [
    "!unzip mymodel.zip"
   ]
  },
  {
   "cell_type": "raw",
   "metadata": {
    "colab": {
     "base_uri": "https://localhost:8080/"
    },
    "id": "o4DPuQAQAGVS",
    "outputId": "e25d713f-3048-4a04-b5d1-8352c7394609"
   },
   "source": [
    "#Build the source package (using GNU Make or NMake).\n",
    "%cd mymodel \n",
    "!make\n",
    "\n",
    "!ls"
   ]
  },
  {
   "cell_type": "raw",
   "metadata": {
    "id": "cXGt5x8fpZBu"
   },
   "source": [
    "If one wants to transfer this model to a different computer, target machine, then one should follow the following commands in command prompt"
   ]
  },
  {
   "cell_type": "raw",
   "metadata": {
    "id": "VoJldomSp-bu"
   },
   "source": [
    "sftp john@lxpool.gsi.de\n",
    "sftp> put mymodel.zip\n",
    "sftp> quit"
   ]
  },
  {
   "cell_type": "raw",
   "metadata": {
    "id": "IjOvqUdRqNvA"
   },
   "source": [
    "ssh john@lxpool.gsi.de\n",
    "unzip mymodel.zip\n",
    "cd mymodel\n",
    "make -j8\n",
    "\n"
   ]
  },
  {
   "cell_type": "raw",
   "metadata": {
    "id": "ZpKXRlds6jpD"
   },
   "source": [
    "The following C++ code can be the applied as a macro on some new data file"
   ]
  },
  {
   "cell_type": "raw",
   "metadata": {
    "colab": {
     "base_uri": "https://localhost:8080/"
    },
    "id": "4pYC2l_r6iuO",
    "outputId": "025d02e1-2310-4156-ea1e-6a9904498907"
   },
   "source": [
    "%%writefile test.cpp\n",
    "#include \"TROOT.h\"\n",
    "#include \"TFile.h\"\n",
    "#include \"TTree.h\"\n",
    "#include \"TH1F.h\"\n",
    "#include <vector>\n",
    "#include \"TString.h\"\n",
    "#include \"TMath.h\"\n",
    "#include \"TH1.h\"\n",
    "#include \"TF1.h\"\n",
    "#include \"TCanvas.h\"\n",
    "\n",
    "#include <stdio.h>\n",
    "#include <stdlib.h>\n",
    "#include \"main.c\"\n",
    "\n",
    "\n",
    "\n",
    "void python_to_root(){\n",
    "  TCanvas* c1 = new TCanvas();\n",
    "  //c1->Divide(2,1);\n",
    "  \n",
    "  //c1->cd(1);\n",
    "  \n",
    "  /* Open the root file*/\n",
    "  TFile *f = new TFile(\"/gdrive/My Drive/presentations/treelite/10k_events_PFSimplePlainTree.root\",\"UPDATE\");\n",
    "  TTree *t1 = (TTree*)f->Get(\"PlainTree\");\n",
    "  \n",
    "  \n",
    "  Float_t  LambdaCandidates_chi2primneg, LambdaCandidates_chi2primpos, LambdaCandidates_ldl, LambdaCandidates_distance, LambdaCandidates_chi2geo, LambdaCandidates_mass;\n",
    "  \n",
    "  t1->SetBranchAddress(\"LambdaCandidates_chi2primneg\",&LambdaCandidates_chi2primneg);\n",
    "  t1->SetBranchAddress(\"LambdaCandidates_chi2primpos\",&LambdaCandidates_chi2primpos);\n",
    "  t1->SetBranchAddress(\"LambdaCandidates_ldl\",&LambdaCandidates_ldl);\n",
    "  t1->SetBranchAddress(\"LambdaCandidates_distance\",&LambdaCandidates_distance);\n",
    "  t1->SetBranchAddress(\"LambdaCandidates_chi2geo\",&LambdaCandidates_chi2geo);\n",
    "  t1->SetBranchAddress(\"LambdaCandidates_mass\",&LambdaCandidates_mass);\n",
    "  \n",
    "  \n",
    "  std::vector<float> output{};\n",
    "  \n",
    "  const long n_entries = t1->GetEntries();\n",
    "  output.reserve(n_entries);\n",
    "\n",
    "  const size_t n_features = 5;\n",
    "  union Entry input[n_features];\n",
    "  \n",
    "  //let's create a new branch which will store the probability returened for each proton-pion pair by our model \n",
    "  Float_t probab;\n",
    "  TBranch *bpt = t1->Branch(\"probab\",&probab,\"probabilities\");\n",
    "  t1->SetBranchAddress(\"probab\",&probab);\n",
    "  \n",
    "  TH1F *h = new TH1F(\"h_prob\", \"This is the #Lambda invariant mass after the cut >0.918080\", 300, 1.04, 1.4);\n",
    "  h->GetXaxis()->SetTitle(\"[GeV]\");\n",
    "  \n",
    "  for (long i = 0; i < n_entries; i++)\n",
    "   {\n",
    "     t1->GetEntry(i);\n",
    "    \n",
    "    input[0].fvalue = LambdaCandidates_chi2primneg;\n",
    "    input[1].fvalue = LambdaCandidates_chi2primpos;\n",
    "    input[2].fvalue = LambdaCandidates_ldl;\n",
    "    input[3].fvalue = LambdaCandidates_distance;\n",
    "    input[4].fvalue = LambdaCandidates_chi2geo;\n",
    "    \n",
    "    output.push_back(predict(input, 0));\n",
    "    probab= output.at(i);\n",
    "   \n",
    "    if(probab > 0.918080){\n",
    "    h->Fill(LambdaCandidates_mass);}\n",
    "  }\n",
    "  \n",
    "  h->Draw();\n",
    "\n",
    "  \n",
    "  \n",
    "}\n"
   ]
  },
  {
   "cell_type": "raw",
   "metadata": {
    "id": "yjofU-aMx8O7"
   },
   "source": []
  },
  {
   "cell_type": "raw",
   "metadata": {
    "colab": {
     "base_uri": "https://localhost:8080/"
    },
    "id": "Nkyy2xmSxb2g",
    "outputId": "f6dfac3c-a3b8-47ce-9d0b-d8638f708199"
   },
   "source": [
    "# Installing root\n",
    "!mkdir -p APPS\n",
    "!pwd\n",
    "!cd APPS && wget https://root.cern/download/root_v6.22.00.Linux-ubuntu19-x86_64-gcc9.2.tar.gz \n",
    "!cd APPS && tar -xf root_v6.22.00.Linux-ubuntu19-x86_64-gcc9.2.tar.gz"
   ]
  },
  {
   "cell_type": "code",
   "execution_count": null,
   "metadata": {},
   "outputs": [],
   "source": []
  }
 ],
 "metadata": {
  "colab": {
   "collapsed_sections": [],
   "name": "Copy of XGB for Collaboration Meeting clean.ipynb",
   "provenance": []
  },
  "kernelspec": {
   "display_name": "Python 3 (ipykernel)",
   "language": "python",
   "name": "python3"
  },
  "language_info": {
   "codemirror_mode": {
    "name": "ipython",
    "version": 3
   },
   "file_extension": ".py",
   "mimetype": "text/x-python",
   "name": "python",
   "nbconvert_exporter": "python",
   "pygments_lexer": "ipython3",
   "version": "3.8.11"
  }
 },
 "nbformat": 4,
 "nbformat_minor": 4
}

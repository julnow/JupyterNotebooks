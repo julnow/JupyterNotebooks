{
 "cells": [
  {
   "cell_type": "markdown",
   "metadata": {},
   "source": [
    "Variables of filenames"
   ]
  },
  {
   "cell_type": "code",
   "execution_count": 13,
   "metadata": {},
   "outputs": [],
   "source": [
    "#PLAINTREE FILES NAMES\n",
    "directory='/Users/julnow/gsi/cbm/ML/JupyterNotebooks/'\n",
    "signalFileName = directory + 'PlainTree_20kSign.root'\n",
    "backgroundFileName = directory + 'PlainTree_5kBckgr.root'"
   ]
  },
  {
   "cell_type": "markdown",
   "metadata": {
    "id": "1RhMoxgD72ov"
   },
   "source": [
    "# Cuts Optimization using Extra Gradient Boosting\n",
    "\n",
    "\n",
    "Over the last years, **Machine Learning** tools have been successfully applied to problems in high-energy physics. For example, for the classification of physics objects. Supervised machine learning algorithms allow for significant improvements in classification problems by taking into account observable correlations and by learning the optimal selection from examples, e.g. from Monte Carlo simulations.\n",
    "\n",
    "\n",
    "# Importing the Libraries\n",
    "\n",
    "**Numpy** is a powerful library that makes working with python more efficient, so we will import it and use it as np in the code. **Pandas** is another useful library that is built on numpy and has two great objects *series* and *dataframework*. Pandas works great for *data ingestion* and also has *data visualization* features. From **Hipe4ml** we import **TreeHandler** and with the help of this function we will import our *Analysis Tree* to our notebook.\n",
    "\n",
    "**Matplotlib** comes handy in plotting data while the machine learning is performed by **XGBOOST**. We will import data splitter from **Scikit-learn** as *train_test_split*. **Evaluation metrics** such as *confusion matrix*, *Receiver operating characteristic (ROC)*, and *Area Under the Receiver Operating Characteristic Curve (ROC AUC)*  will be used to asses our models."
   ]
  },
  {
   "cell_type": "code",
   "execution_count": 14,
   "metadata": {
    "id": "wXUjK-nyW4xt"
   },
   "outputs": [
    {
     "name": "stdout",
     "output_type": "stream",
     "text": [
      "fatal: destination path 'CBM_ML_Lambda_Library' already exists and is not an empty directory.\n",
      "/Users/julnow/gsi/cbm/ML/JupyterNotebooks/CBM_ML_Lambda_Library/CBM_ML_Lambda_Library\n",
      "\u001b[33mhint: Pulling without specifying how to reconcile divergent branches is\u001b[m\n",
      "\u001b[33mhint: discouraged. You can squelch this message by running one of the following\u001b[m\n",
      "\u001b[33mhint: commands sometime before your next pull:\u001b[m\n",
      "\u001b[33mhint: \u001b[m\n",
      "\u001b[33mhint:   git config pull.rebase false  # merge (the default strategy)\u001b[m\n",
      "\u001b[33mhint:   git config pull.rebase true   # rebase\u001b[m\n",
      "\u001b[33mhint:   git config pull.ff only       # fast-forward only\u001b[m\n",
      "\u001b[33mhint: \u001b[m\n",
      "\u001b[33mhint: You can replace \"git config\" with \"git config --global\" to set a default\u001b[m\n",
      "\u001b[33mhint: preference for all repositories. You can also pass --rebase, --no-rebase,\u001b[m\n",
      "\u001b[33mhint: or --ff-only on the command line to override the configured default per\u001b[m\n",
      "\u001b[33mhint: invocation.\u001b[m\n",
      "From https://github.com/shahidzk1/CBM_ML_Lambda_Library\n",
      " * branch            main       -> FETCH_HEAD\n",
      "Already up to date.\n",
      "Requirement already satisfied: uproot in /opt/homebrew/Caskroom/miniforge/base/envs/cbm21/lib/python3.8/site-packages (from -r requirements.txt (line 1)) (4.0.11)\n",
      "Requirement already satisfied: matplotlib in /opt/homebrew/Caskroom/miniforge/base/envs/cbm21/lib/python3.8/site-packages (from -r requirements.txt (line 2)) (3.4.2)\n",
      "Requirement already satisfied: pandas in /opt/homebrew/Caskroom/miniforge/base/envs/cbm21/lib/python3.8/site-packages (from -r requirements.txt (line 3)) (1.3.1)\n",
      "Requirement already satisfied: numpy in /opt/homebrew/Caskroom/miniforge/base/envs/cbm21/lib/python3.8/site-packages (from -r requirements.txt (line 4)) (1.21.1)\n",
      "Requirement already satisfied: scikit-learn in /opt/homebrew/Caskroom/miniforge/base/envs/cbm21/lib/python3.8/site-packages (from -r requirements.txt (line 5)) (0.24.2)\n",
      "Requirement already satisfied: xgboost in /opt/homebrew/Caskroom/miniforge/base/envs/cbm21/lib/python3.8/site-packages (from -r requirements.txt (line 6)) (0.80)\n",
      "Requirement already satisfied: bayesian-optimization in /opt/homebrew/Caskroom/miniforge/base/envs/cbm21/lib/python3.8/site-packages (from -r requirements.txt (line 7)) (1.2.0)\n",
      "Requirement already satisfied: scipy>=0.14.0 in /opt/homebrew/Caskroom/miniforge/base/envs/cbm21/lib/python3.8/site-packages (from bayesian-optimization->-r requirements.txt (line 7)) (1.7.0)\n",
      "Requirement already satisfied: threadpoolctl>=2.0.0 in /opt/homebrew/Caskroom/miniforge/base/envs/cbm21/lib/python3.8/site-packages (from scikit-learn->-r requirements.txt (line 5)) (2.2.0)\n",
      "Requirement already satisfied: joblib>=0.11 in /opt/homebrew/Caskroom/miniforge/base/envs/cbm21/lib/python3.8/site-packages (from scikit-learn->-r requirements.txt (line 5)) (1.0.1)\n",
      "Requirement already satisfied: cycler>=0.10 in /opt/homebrew/Caskroom/miniforge/base/envs/cbm21/lib/python3.8/site-packages (from matplotlib->-r requirements.txt (line 2)) (0.10.0)\n",
      "Requirement already satisfied: kiwisolver>=1.0.1 in /opt/homebrew/Caskroom/miniforge/base/envs/cbm21/lib/python3.8/site-packages (from matplotlib->-r requirements.txt (line 2)) (1.3.1)\n",
      "Requirement already satisfied: pyparsing>=2.2.1 in /opt/homebrew/Caskroom/miniforge/base/envs/cbm21/lib/python3.8/site-packages (from matplotlib->-r requirements.txt (line 2)) (2.4.7)\n",
      "Requirement already satisfied: pillow>=6.2.0 in /opt/homebrew/Caskroom/miniforge/base/envs/cbm21/lib/python3.8/site-packages (from matplotlib->-r requirements.txt (line 2)) (8.3.1)\n",
      "Requirement already satisfied: python-dateutil>=2.7 in /opt/homebrew/Caskroom/miniforge/base/envs/cbm21/lib/python3.8/site-packages (from matplotlib->-r requirements.txt (line 2)) (2.8.2)\n",
      "Requirement already satisfied: six in /opt/homebrew/Caskroom/miniforge/base/envs/cbm21/lib/python3.8/site-packages (from cycler>=0.10->matplotlib->-r requirements.txt (line 2)) (1.15.0)\n",
      "Requirement already satisfied: pytz>=2017.3 in /opt/homebrew/Caskroom/miniforge/base/envs/cbm21/lib/python3.8/site-packages (from pandas->-r requirements.txt (line 3)) (2021.1)\n",
      "Requirement already satisfied: setuptools in /opt/homebrew/Caskroom/miniforge/base/envs/cbm21/lib/python3.8/site-packages (from uproot->-r requirements.txt (line 1)) (57.4.0)\n",
      "running install\n",
      "running bdist_egg\n",
      "running egg_info\n",
      "writing CBM_ML.egg-info/PKG-INFO\n",
      "writing dependency_links to CBM_ML.egg-info/dependency_links.txt\n",
      "writing top-level names to CBM_ML.egg-info/top_level.txt\n",
      "reading manifest file 'CBM_ML.egg-info/SOURCES.txt'\n",
      "adding license file 'LICENSE'\n",
      "writing manifest file 'CBM_ML.egg-info/SOURCES.txt'\n",
      "installing library code to build/bdist.macosx-11.1-arm64/egg\n",
      "running install_lib\n",
      "running build_py\n",
      "creating build/bdist.macosx-11.1-arm64/egg\n",
      "creating build/bdist.macosx-11.1-arm64/egg/CBM_ML\n",
      "copying build/lib/CBM_ML/KFPF_lambda_cuts.py -> build/bdist.macosx-11.1-arm64/egg/CBM_ML\n",
      "copying build/lib/CBM_ML/__init__.py -> build/bdist.macosx-11.1-arm64/egg/CBM_ML\n",
      "copying build/lib/CBM_ML/plot_tools.py -> build/bdist.macosx-11.1-arm64/egg/CBM_ML\n",
      "copying build/lib/CBM_ML/root_functions.py -> build/bdist.macosx-11.1-arm64/egg/CBM_ML\n",
      "copying build/lib/CBM_ML/tree_importer.py -> build/bdist.macosx-11.1-arm64/egg/CBM_ML\n",
      "byte-compiling build/bdist.macosx-11.1-arm64/egg/CBM_ML/KFPF_lambda_cuts.py to KFPF_lambda_cuts.cpython-38.pyc\n",
      "byte-compiling build/bdist.macosx-11.1-arm64/egg/CBM_ML/__init__.py to __init__.cpython-38.pyc\n",
      "byte-compiling build/bdist.macosx-11.1-arm64/egg/CBM_ML/plot_tools.py to plot_tools.cpython-38.pyc\n",
      "byte-compiling build/bdist.macosx-11.1-arm64/egg/CBM_ML/root_functions.py to root_functions.cpython-38.pyc\n",
      "byte-compiling build/bdist.macosx-11.1-arm64/egg/CBM_ML/tree_importer.py to tree_importer.cpython-38.pyc\n",
      "creating build/bdist.macosx-11.1-arm64/egg/EGG-INFO\n",
      "copying CBM_ML.egg-info/PKG-INFO -> build/bdist.macosx-11.1-arm64/egg/EGG-INFO\n",
      "copying CBM_ML.egg-info/SOURCES.txt -> build/bdist.macosx-11.1-arm64/egg/EGG-INFO\n",
      "copying CBM_ML.egg-info/dependency_links.txt -> build/bdist.macosx-11.1-arm64/egg/EGG-INFO\n",
      "copying CBM_ML.egg-info/top_level.txt -> build/bdist.macosx-11.1-arm64/egg/EGG-INFO\n",
      "zip_safe flag not set; analyzing archive contents...\n",
      "creating 'dist/CBM_ML-0.1.0-py3.8.egg' and adding 'build/bdist.macosx-11.1-arm64/egg' to it\n",
      "removing 'build/bdist.macosx-11.1-arm64/egg' (and everything under it)\n",
      "Processing CBM_ML-0.1.0-py3.8.egg\n",
      "Removing /opt/homebrew/Caskroom/miniforge/base/envs/cbm21/lib/python3.8/site-packages/CBM_ML-0.1.0-py3.8.egg\n",
      "Copying CBM_ML-0.1.0-py3.8.egg to /opt/homebrew/Caskroom/miniforge/base/envs/cbm21/lib/python3.8/site-packages\n",
      "CBM-ML 0.1.0 is already the active version in easy-install.pth\n",
      "\n",
      "Installed /opt/homebrew/Caskroom/miniforge/base/envs/cbm21/lib/python3.8/site-packages/CBM_ML-0.1.0-py3.8.egg\n",
      "Processing dependencies for CBM-ML==0.1.0\n",
      "Finished processing dependencies for CBM-ML==0.1.0\n"
     ]
    }
   ],
   "source": [
    "!git clone https://github.com/shahidzk1/CBM_ML_Lambda_Library.git\n",
    "%cd CBM_ML_Lambda_Library\n",
    "!git pull origin main\n",
    "!pip install -r requirements.txt\n",
    "!python setup.py install"
   ]
  },
  {
   "cell_type": "code",
   "execution_count": 15,
   "metadata": {
    "id": "UXNBDcG472oy"
   },
   "outputs": [],
   "source": [
    "import numpy as np\n",
    "import pandas as pd\n",
    "import matplotlib.pyplot as plt\n",
    "from matplotlib.ticker import (MultipleLocator, AutoMinorLocator)\n",
    "#from hipe4ml.model_handler import ModelHandler\n",
    "#from hipe4ml.tree_handler import TreeHandler\n",
    "from matplotlib.patches import ConnectionPatch\n",
    "#from hipe4ml import plot_utils\n",
    "\n",
    "import xgboost as xgb\n",
    "from sklearn.model_selection import train_test_split\n",
    "\n",
    "from sklearn.metrics import confusion_matrix, roc_curve, roc_auc_score\n",
    "\n",
    "from sklearn.tree import plot_tree\n",
    "from sklearn.tree import export_graphviz\n",
    "\n",
    "from sklearn.model_selection import cross_val_score\n",
    "from scipy.stats import uniform\n",
    "\n",
    "from numpy import sqrt, log, argmax\n",
    "\n",
    "import weakref \n",
    "import itertools\n",
    "\n",
    "from CBM_ML import tree_importer,  KFPF_lambda_cuts, plot_tools\n",
    "from bayes_opt import BayesianOptimization\n",
    "\n",
    "import gc"
   ]
  },
  {
   "cell_type": "markdown",
   "metadata": {
    "id": "bjIxQFzU72pA"
   },
   "source": [
    "# Importing the data\n",
    "CBM has a modified version of the cern's root software and it contains the simulated setup of CBM. Normally, a model generated input file is passed through different macros. These macros represent the CBM setup and it is like taking particles and passing them through a detector. These particles are registered as hits in the setup. Then particles' tracks are reconstructed from these hits using cellular automaton and Kalman Filter mathematics.\n",
    "\n",
    "\n",
    "CBM uses the **tree** format of cern root to store information. To reduce the size of these root files a modified tree file was created by the name of Analysis tree. This Analysis tree file contains most of the information that we need for physics analysis. \n",
    "\n",
    "Lambda $(\\Lambda)$ is the most abundant strange baryon produced at FAIR energies. It weakly decays, with a branching ratio of $64 \\%$, into a proton and a negatively charged pion ($\\pi^-$). To reconstruct $\\Lambda$ all proton and $\\pi^-$ tracks are combined to make its invariant mass spectrum.\n",
    "\n",
    "In this example, we download three files that were converted to flat TTree format (simplest structure to be read by Python). The first one was generated with DCM-QGSM-SMM generator, passed through Geant4 with $p_{beam}$ = 12A Gev/c and minimum bias configuration, contains mostly signal candidates of $\\Lambda$ i.e. it contains protons and $\\pi^-$ which come from a $\\Lambda$ decay. The second one contains all proton and $\\pi^-$ 10k pairs in a 100 k events data set, generated by using URQMD generator with with $p_{beam}$ = 12A Gev/c and minimum bias configuration. The third one also contains 100 k events data set, generated by using DCM-QGSM-SMM generator with with $p_{beam}$ = 12A Gev/c and minimum bias configuration.\n",
    "\n"
   ]
  },
  {
   "cell_type": "markdown",
   "metadata": {
    "id": "KSmy1dEU72pz"
   },
   "source": [
    "The above data frame object has some columns/features and for them at the very last column (issignal) the true Monte Carlos information is available. This MC information tells us whether this reconstructed particle was originally produced as a decaying particle or not. So a value of 1 means that it is a true candidate and 0 means that it is not."
   ]
  },
  {
   "cell_type": "markdown",
   "metadata": {
    "id": "s4Ie_PTM72qH"
   },
   "source": [
    "# Selecting Background and Signal\n",
    "We have selected signal candidates only from the DCM model, therefore, we are treating it as simulated data. The URQMD data set will be treated as real experimental data.\n",
    "\n",
    "Our URQMD 100k events data, which looks more like what we will get from the final experiment, has a lot more background than signal. This problem of unequal ratio of classes (signal and background) in our data set (URQMD, 99.99% background and less than 1% signal) is called imbalance classification problem. \n",
    "\n",
    "One of the solutions to tackle this problem is resampling the data. Deleting instances from the over-represented class (in our case the background), under-sampling, is a resampling method. \n",
    "\n",
    "So for training and testing we will get signal candidates from the DCM signal and  background from URQMD (3 times signal size)."
   ]
  },
  {
   "cell_type": "code",
   "execution_count": 16,
   "metadata": {},
   "outputs": [],
   "source": [
    "#CUTS FOR MASS SELECTION\n",
    "#5 sigma region for signal\n",
    "lower5SigmaCutSign = 0.43485\n",
    "upper5SigmaCutSign = 0.56135\n",
    "#mean invariant mass\n",
    "invMass = 0.4981\n",
    "# \"5sigma\" (not acutal 5 sigma) region for background\n",
    "lower5SigmaCutBckgr = 0.1\n",
    "upper5SigmaCutBckgr = 2"
   ]
  },
  {
   "cell_type": "code",
   "execution_count": 17,
   "metadata": {
    "id": "wKnmnX_TwAig"
   },
   "outputs": [
    {
     "data": {
      "text/plain": [
       "2506"
      ]
     },
     "execution_count": 17,
     "metadata": {},
     "output_type": "execute_result"
    }
   ],
   "source": [
    "# We import three root files into our jupyter notebook\n",
    "#sign - before cleaning but after 5sigma seletion, signal - cleaned\n",
    "#so that we dont have to reimport everything with each change\n",
    "sign = tree_importer.tree_importer(signalFileName,'PlainTree',7)\n",
    "\n",
    "# We only select lambda candidates in the 5 sigma region around the kaon mass peak\n",
    "#we preserve the cleaned dataframe with a changed name\n",
    "sign = sign[(sign['Candidates_generation']==1) & (sign['Candidates_mass']>lower5SigmaCutSign) & (sign['Candidates_mass']<upper5SigmaCutSign)]\n",
    "\n",
    "# Similarly for the background, we select background candidates which are not in the 5 sigma region of the kaon peak\n",
    "bckgr = tree_importer.tree_importer(backgroundFileName,'PlainTree',7)\n",
    "#we preserve the cleaned dataframe with a changed name\n",
    "bckgr = bckgr[(bckgr['Candidates_generation'] < 1)\n",
    "                 & ((bckgr['Candidates_mass'] > lower5SigmaCutBckgr)\n",
    "                 & (bckgr['Candidates_mass'] < lower5SigmaCutSign) | (bckgr['Candidates_mass']>upper5SigmaCutSign) \n",
    "                    & (bckgr['Candidates_mass'] < upper5SigmaCutBckgr))].sample(n=3*(sign.shape[0]))\n",
    "\n",
    "#Also call the garbage collector of python to collect unused items to free memory\n",
    "gc.collect()"
   ]
  },
  {
   "cell_type": "code",
   "execution_count": 18,
   "metadata": {
    "tags": []
   },
   "outputs": [
    {
     "data": {
      "text/html": [
       "<div>\n",
       "<style scoped>\n",
       "    .dataframe tbody tr th:only-of-type {\n",
       "        vertical-align: middle;\n",
       "    }\n",
       "\n",
       "    .dataframe tbody tr th {\n",
       "        vertical-align: top;\n",
       "    }\n",
       "\n",
       "    .dataframe thead th {\n",
       "        text-align: right;\n",
       "    }\n",
       "</style>\n",
       "<table border=\"1\" class=\"dataframe\">\n",
       "  <thead>\n",
       "    <tr style=\"text-align: right;\">\n",
       "      <th></th>\n",
       "      <th>chi2geo</th>\n",
       "      <th>chi2primfirst</th>\n",
       "      <th>chi2primsecond</th>\n",
       "      <th>chi2topo</th>\n",
       "      <th>cosinefirst</th>\n",
       "      <th>cosinesecond</th>\n",
       "      <th>cosinetopo</th>\n",
       "      <th>distance</th>\n",
       "      <th>eta</th>\n",
       "      <th>l</th>\n",
       "      <th>...</th>\n",
       "      <th>pT</th>\n",
       "      <th>phi</th>\n",
       "      <th>px</th>\n",
       "      <th>py</th>\n",
       "      <th>pz</th>\n",
       "      <th>rapidity</th>\n",
       "      <th>x</th>\n",
       "      <th>y</th>\n",
       "      <th>z</th>\n",
       "      <th>issignal</th>\n",
       "    </tr>\n",
       "  </thead>\n",
       "  <tbody>\n",
       "    <tr>\n",
       "      <th>0</th>\n",
       "      <td>1.891688</td>\n",
       "      <td>1.962368e+06</td>\n",
       "      <td>3.017848e+06</td>\n",
       "      <td>0.938048</td>\n",
       "      <td>0.990561</td>\n",
       "      <td>0.924455</td>\n",
       "      <td>1.000000</td>\n",
       "      <td>0.013951</td>\n",
       "      <td>2.486938</td>\n",
       "      <td>7.397236</td>\n",
       "      <td>...</td>\n",
       "      <td>0.269387</td>\n",
       "      <td>-1.558258</td>\n",
       "      <td>0.003378</td>\n",
       "      <td>-0.269366</td>\n",
       "      <td>1.608406</td>\n",
       "      <td>1.766340</td>\n",
       "      <td>-0.051667</td>\n",
       "      <td>-1.166708</td>\n",
       "      <td>7.296682</td>\n",
       "      <td>1.0</td>\n",
       "    </tr>\n",
       "    <tr>\n",
       "      <th>1</th>\n",
       "      <td>7.539669</td>\n",
       "      <td>3.927906e+03</td>\n",
       "      <td>2.038832e+05</td>\n",
       "      <td>103.285400</td>\n",
       "      <td>0.985466</td>\n",
       "      <td>0.928299</td>\n",
       "      <td>0.998588</td>\n",
       "      <td>0.022819</td>\n",
       "      <td>2.094620</td>\n",
       "      <td>1.386346</td>\n",
       "      <td>...</td>\n",
       "      <td>0.373378</td>\n",
       "      <td>0.968337</td>\n",
       "      <td>0.211583</td>\n",
       "      <td>0.307643</td>\n",
       "      <td>1.493373</td>\n",
       "      <td>1.604629</td>\n",
       "      <td>0.376725</td>\n",
       "      <td>0.412234</td>\n",
       "      <td>1.773447</td>\n",
       "      <td>1.0</td>\n",
       "    </tr>\n",
       "    <tr>\n",
       "      <th>2</th>\n",
       "      <td>1.706541</td>\n",
       "      <td>7.728520e+03</td>\n",
       "      <td>4.239785e+02</td>\n",
       "      <td>0.606264</td>\n",
       "      <td>0.955050</td>\n",
       "      <td>0.999384</td>\n",
       "      <td>1.000000</td>\n",
       "      <td>0.030017</td>\n",
       "      <td>2.734314</td>\n",
       "      <td>1.283027</td>\n",
       "      <td>...</td>\n",
       "      <td>0.291869</td>\n",
       "      <td>-1.159367</td>\n",
       "      <td>0.116724</td>\n",
       "      <td>-0.267513</td>\n",
       "      <td>2.237798</td>\n",
       "      <td>2.062438</td>\n",
       "      <td>0.119157</td>\n",
       "      <td>-0.202402</td>\n",
       "      <td>1.272765</td>\n",
       "      <td>1.0</td>\n",
       "    </tr>\n",
       "    <tr>\n",
       "      <th>4</th>\n",
       "      <td>2.070187</td>\n",
       "      <td>2.158610e+07</td>\n",
       "      <td>4.508973e+06</td>\n",
       "      <td>1.449760</td>\n",
       "      <td>0.976016</td>\n",
       "      <td>0.987120</td>\n",
       "      <td>0.999998</td>\n",
       "      <td>0.003052</td>\n",
       "      <td>2.068460</td>\n",
       "      <td>10.053052</td>\n",
       "      <td>...</td>\n",
       "      <td>0.521730</td>\n",
       "      <td>-1.788829</td>\n",
       "      <td>-0.112855</td>\n",
       "      <td>-0.509378</td>\n",
       "      <td>2.031160</td>\n",
       "      <td>1.767285</td>\n",
       "      <td>-0.482202</td>\n",
       "      <td>-2.512969</td>\n",
       "      <td>9.732567</td>\n",
       "      <td>1.0</td>\n",
       "    </tr>\n",
       "    <tr>\n",
       "      <th>5</th>\n",
       "      <td>0.537335</td>\n",
       "      <td>1.793734e+05</td>\n",
       "      <td>1.617219e+05</td>\n",
       "      <td>3.097740</td>\n",
       "      <td>0.987572</td>\n",
       "      <td>0.995492</td>\n",
       "      <td>0.999998</td>\n",
       "      <td>0.029134</td>\n",
       "      <td>3.090779</td>\n",
       "      <td>32.053776</td>\n",
       "      <td>...</td>\n",
       "      <td>0.302186</td>\n",
       "      <td>2.902284</td>\n",
       "      <td>-0.293574</td>\n",
       "      <td>0.071627</td>\n",
       "      <td>3.316302</td>\n",
       "      <td>2.436012</td>\n",
       "      <td>-2.803859</td>\n",
       "      <td>0.580953</td>\n",
       "      <td>31.920332</td>\n",
       "      <td>1.0</td>\n",
       "    </tr>\n",
       "    <tr>\n",
       "      <th>6</th>\n",
       "      <td>0.257597</td>\n",
       "      <td>5.342024e+05</td>\n",
       "      <td>9.920105e+05</td>\n",
       "      <td>0.969224</td>\n",
       "      <td>0.925308</td>\n",
       "      <td>0.996354</td>\n",
       "      <td>0.999998</td>\n",
       "      <td>0.005320</td>\n",
       "      <td>1.954566</td>\n",
       "      <td>13.186787</td>\n",
       "      <td>...</td>\n",
       "      <td>0.524860</td>\n",
       "      <td>-3.008992</td>\n",
       "      <td>-0.520253</td>\n",
       "      <td>-0.069393</td>\n",
       "      <td>1.815813</td>\n",
       "      <td>1.649541</td>\n",
       "      <td>-3.583114</td>\n",
       "      <td>-0.511573</td>\n",
       "      <td>12.667512</td>\n",
       "      <td>1.0</td>\n",
       "    </tr>\n",
       "    <tr>\n",
       "      <th>7</th>\n",
       "      <td>2.127710</td>\n",
       "      <td>3.653666e+03</td>\n",
       "      <td>9.920105e+05</td>\n",
       "      <td>6.588306</td>\n",
       "      <td>0.925887</td>\n",
       "      <td>0.996342</td>\n",
       "      <td>0.999930</td>\n",
       "      <td>0.586026</td>\n",
       "      <td>1.961199</td>\n",
       "      <td>12.109749</td>\n",
       "      <td>...</td>\n",
       "      <td>0.521093</td>\n",
       "      <td>-3.003699</td>\n",
       "      <td>-0.516146</td>\n",
       "      <td>-0.071628</td>\n",
       "      <td>1.815266</td>\n",
       "      <td>1.650730</td>\n",
       "      <td>-3.338621</td>\n",
       "      <td>-0.394638</td>\n",
       "      <td>11.621171</td>\n",
       "      <td>1.0</td>\n",
       "    </tr>\n",
       "    <tr>\n",
       "      <th>8</th>\n",
       "      <td>0.103044</td>\n",
       "      <td>8.387899e+06</td>\n",
       "      <td>1.482735e+06</td>\n",
       "      <td>0.227272</td>\n",
       "      <td>0.933116</td>\n",
       "      <td>0.941300</td>\n",
       "      <td>0.999997</td>\n",
       "      <td>0.012125</td>\n",
       "      <td>3.510073</td>\n",
       "      <td>5.652082</td>\n",
       "      <td>...</td>\n",
       "      <td>0.066963</td>\n",
       "      <td>-0.268308</td>\n",
       "      <td>0.064567</td>\n",
       "      <td>-0.017752</td>\n",
       "      <td>1.119001</td>\n",
       "      <td>1.534259</td>\n",
       "      <td>0.373925</td>\n",
       "      <td>-0.139267</td>\n",
       "      <td>5.640086</td>\n",
       "      <td>1.0</td>\n",
       "    </tr>\n",
       "    <tr>\n",
       "      <th>9</th>\n",
       "      <td>0.023616</td>\n",
       "      <td>1.803456e+05</td>\n",
       "      <td>6.524398e+04</td>\n",
       "      <td>0.616352</td>\n",
       "      <td>0.984480</td>\n",
       "      <td>0.992189</td>\n",
       "      <td>0.999999</td>\n",
       "      <td>0.001906</td>\n",
       "      <td>3.053359</td>\n",
       "      <td>3.185786</td>\n",
       "      <td>...</td>\n",
       "      <td>0.260483</td>\n",
       "      <td>-0.457327</td>\n",
       "      <td>0.233715</td>\n",
       "      <td>-0.115017</td>\n",
       "      <td>2.753188</td>\n",
       "      <td>2.287027</td>\n",
       "      <td>0.310549</td>\n",
       "      <td>-0.140175</td>\n",
       "      <td>3.170335</td>\n",
       "      <td>1.0</td>\n",
       "    </tr>\n",
       "    <tr>\n",
       "      <th>10</th>\n",
       "      <td>0.077631</td>\n",
       "      <td>2.429541e+00</td>\n",
       "      <td>5.637176e-01</td>\n",
       "      <td>0.353259</td>\n",
       "      <td>0.979226</td>\n",
       "      <td>0.999809</td>\n",
       "      <td>0.999806</td>\n",
       "      <td>0.007593</td>\n",
       "      <td>1.471561</td>\n",
       "      <td>0.156857</td>\n",
       "      <td>...</td>\n",
       "      <td>1.095867</td>\n",
       "      <td>2.672994</td>\n",
       "      <td>-0.977734</td>\n",
       "      <td>0.494934</td>\n",
       "      <td>2.261026</td>\n",
       "      <td>1.386728</td>\n",
       "      <td>-0.021697</td>\n",
       "      <td>0.022588</td>\n",
       "      <td>0.140684</td>\n",
       "      <td>1.0</td>\n",
       "    </tr>\n",
       "  </tbody>\n",
       "</table>\n",
       "<p>10 rows × 23 columns</p>\n",
       "</div>"
      ],
      "text/plain": [
       "     chi2geo  chi2primfirst  chi2primsecond    chi2topo  cosinefirst  \\\n",
       "0   1.891688   1.962368e+06    3.017848e+06    0.938048     0.990561   \n",
       "1   7.539669   3.927906e+03    2.038832e+05  103.285400     0.985466   \n",
       "2   1.706541   7.728520e+03    4.239785e+02    0.606264     0.955050   \n",
       "4   2.070187   2.158610e+07    4.508973e+06    1.449760     0.976016   \n",
       "5   0.537335   1.793734e+05    1.617219e+05    3.097740     0.987572   \n",
       "6   0.257597   5.342024e+05    9.920105e+05    0.969224     0.925308   \n",
       "7   2.127710   3.653666e+03    9.920105e+05    6.588306     0.925887   \n",
       "8   0.103044   8.387899e+06    1.482735e+06    0.227272     0.933116   \n",
       "9   0.023616   1.803456e+05    6.524398e+04    0.616352     0.984480   \n",
       "10  0.077631   2.429541e+00    5.637176e-01    0.353259     0.979226   \n",
       "\n",
       "    cosinesecond  cosinetopo  distance       eta          l  ...        pT  \\\n",
       "0       0.924455    1.000000  0.013951  2.486938   7.397236  ...  0.269387   \n",
       "1       0.928299    0.998588  0.022819  2.094620   1.386346  ...  0.373378   \n",
       "2       0.999384    1.000000  0.030017  2.734314   1.283027  ...  0.291869   \n",
       "4       0.987120    0.999998  0.003052  2.068460  10.053052  ...  0.521730   \n",
       "5       0.995492    0.999998  0.029134  3.090779  32.053776  ...  0.302186   \n",
       "6       0.996354    0.999998  0.005320  1.954566  13.186787  ...  0.524860   \n",
       "7       0.996342    0.999930  0.586026  1.961199  12.109749  ...  0.521093   \n",
       "8       0.941300    0.999997  0.012125  3.510073   5.652082  ...  0.066963   \n",
       "9       0.992189    0.999999  0.001906  3.053359   3.185786  ...  0.260483   \n",
       "10      0.999809    0.999806  0.007593  1.471561   0.156857  ...  1.095867   \n",
       "\n",
       "         phi        px        py        pz  rapidity         x         y  \\\n",
       "0  -1.558258  0.003378 -0.269366  1.608406  1.766340 -0.051667 -1.166708   \n",
       "1   0.968337  0.211583  0.307643  1.493373  1.604629  0.376725  0.412234   \n",
       "2  -1.159367  0.116724 -0.267513  2.237798  2.062438  0.119157 -0.202402   \n",
       "4  -1.788829 -0.112855 -0.509378  2.031160  1.767285 -0.482202 -2.512969   \n",
       "5   2.902284 -0.293574  0.071627  3.316302  2.436012 -2.803859  0.580953   \n",
       "6  -3.008992 -0.520253 -0.069393  1.815813  1.649541 -3.583114 -0.511573   \n",
       "7  -3.003699 -0.516146 -0.071628  1.815266  1.650730 -3.338621 -0.394638   \n",
       "8  -0.268308  0.064567 -0.017752  1.119001  1.534259  0.373925 -0.139267   \n",
       "9  -0.457327  0.233715 -0.115017  2.753188  2.287027  0.310549 -0.140175   \n",
       "10  2.672994 -0.977734  0.494934  2.261026  1.386728 -0.021697  0.022588   \n",
       "\n",
       "            z  issignal  \n",
       "0    7.296682       1.0  \n",
       "1    1.773447       1.0  \n",
       "2    1.272765       1.0  \n",
       "4    9.732567       1.0  \n",
       "5   31.920332       1.0  \n",
       "6   12.667512       1.0  \n",
       "7   11.621171       1.0  \n",
       "8    5.640086       1.0  \n",
       "9    3.170335       1.0  \n",
       "10   0.140684       1.0  \n",
       "\n",
       "[10 rows x 23 columns]"
      ]
     },
     "execution_count": 18,
     "metadata": {},
     "output_type": "execute_result"
    }
   ],
   "source": [
    "#we remove name prefixes 'Candidates'\n",
    "bckgr.columns = bckgr.columns.str.replace('Candidates_', '')\n",
    "bckgr.columns = bckgr.columns.str.replace('_', '')\n",
    "sign.columns = sign.columns.str.replace('Candidates_', '')\n",
    "sign.columns = sign.columns.str.replace('_', '')\n",
    "#we also get rid of coordinates errors\n",
    "sign = sign.drop(columns=['xerror', 'yerror', 'zerror', 'daughter1id', 'daughter2id', 'pid', 'pTerr', 'etaerr', 'masserr', 'phierr']).rename(columns={'generation' : 'issignal'})\n",
    "bckgr = bckgr.drop(columns=['xerror', 'yerror', 'zerror', 'daughter1id', 'daughter2id', 'pid', 'pTerr', 'etaerr', 'masserr', 'phierr']).rename(columns={'generation' : 'issignal'})\n",
    "#let's check the name prefixes \n",
    "sign.iloc[0:10,:]"
   ]
  },
  {
   "cell_type": "markdown",
   "metadata": {
    "id": "0WHuzi6GxB1L"
   },
   "source": [
    "# Data Cleaning\n",
    "Sometimes a data set contains entries which are outliers or does not make sense. For example, infinite values or NaN entries. We clean the data by removing these entries. \n",
    "\n",
    "Similarly, CBM is a fixed target experiment so there are certain conditions which the data has to satisfy before it is considered as reliable data.So we apply certain limits on the data sets.\n",
    "\n",
    "The values of these cuts are described: https://drive.google.com/file/d/1tb0FBRq4KgVu-VQZgpjA8ONbIGVCNOnE/view?usp=sharing https://github.com/julnow/JupyterNotebooks/blob/kaon/CBM%20K-short%20data%20cleaning.pdf"
   ]
  },
  {
   "cell_type": "code",
   "execution_count": 19,
   "metadata": {},
   "outputs": [],
   "source": [
    "#CUTS USED FOR DATA CLEANING\n",
    "#mass cuts for both bckgr and sign\n",
    "lowerMassCut = 0.279\n",
    "upperMassCut = 1.5\n",
    "#distance cuts\n",
    "#DCA\n",
    "lowerDcaCut = 0\n",
    "upperDcaCut = 100\n",
    "#l distance\n",
    "lowerLCut = 0\n",
    "upperLCut = 80\n",
    "#loverdl\n",
    "lowerLdlCut = 0\n",
    "upperLdlCut = 5000\n",
    "#coordinate cuts\n",
    "absXCut = 50\n",
    "absYCut = 50\n",
    "lowerZCut = 0\n",
    "upperZCut = 80\n",
    "#momentums cuts\n",
    "pzLowerCut = 0\n",
    "pUpperCut = 20\n",
    "ptUpperCut = 3\n",
    "#chi2\n",
    "#geo\n",
    "lowerChi2GeoCut = 0\n",
    "upperChi2GeoCut = 1000\n",
    "#topo\n",
    "lowerChi2TopoCut = 0\n",
    "upperChi2TopoCut = 100000\n",
    "#prim first\n",
    "lowerChi2PrimFirstCut = 0\n",
    "upperChi2PrimFirstCut = 3e7\n",
    "#prim second\n",
    "lowerChi2PrimSecondCut = 0\n",
    "upperChi2PrimSecondCut = 3e7\n",
    "#pseudorapidity cuts\n",
    "lowerEtaCut = 1.5\n",
    "upperEtaCut = 3.82"
   ]
  },
  {
   "cell_type": "code",
   "execution_count": 21,
   "metadata": {
    "id": "LEmS1939xEDS",
    "tags": []
   },
   "outputs": [],
   "source": [
    "def clean_df(df):\n",
    "    # let's treat all the infinite, inf, values by nan and then we drop all the null entries\n",
    "    with pd.option_context('mode.use_inf_as_na', True):\n",
    "        df = df.dropna()\n",
    "    #Experimental constraints\n",
    "    is_good_mom = (df['pz'] > pzLowerCut) & (df['p']<pUpperCut) & (df['pT']<ptUpperCut)\n",
    "    is_good_coord = (abs(df['x']) < absXCut) & (abs(df['y']) < absYCut) & (df['z']>lowerZCut) & (df['z']<upperZCut)\n",
    "    is_good_params = (df['distance'] > lowerDcaCut) & (df['distance'] < upperDcaCut) & (df['chi2geo']>lowerChi2GeoCut) & (df['chi2geo'] < upperChi2GeoCut) & (df['chi2topo'] > lowerChi2TopoCut) & (df['chi2topo'] < upperChi2TopoCut) & (df['eta']>lowerEtaCut) & (df['eta']<upperEtaCut)& (df['l']>lowerLCut) & (df['l']<upperLCut) & (df['loverdl']>lowerLdlCut) & (df['loverdl']<upperLdlCut)\n",
    "    is_good_daughters = (df['chi2primfirst']>lowerChi2PrimFirstCut) & (df['chi2primfirst'] < upperChi2PrimSecondCut) & (df['chi2primsecond']>lowerChi2PrimSecondCut) & (df['chi2primsecond']<upperChi2PrimFirstCut)\n",
    "    is_good_mass = (df['mass']>lowerMassCut) & (df['mass']<upperMassCut)\n",
    "\n",
    "    is_good_df = (is_good_mom) & (is_good_coord) & (is_good_params) & (is_good_daughters) & (is_good_mass)\n",
    "\n",
    "    return df[is_good_df]"
   ]
  },
  {
   "cell_type": "code",
   "execution_count": 22,
   "metadata": {
    "id": "RpWTegAtxF9F"
   },
   "outputs": [],
   "source": [
    "background = clean_df(bckgr)\n",
    "signal = clean_df(sign)\n",
    "del sign, bckgr"
   ]
  },
  {
   "cell_type": "code",
   "execution_count": 23,
   "metadata": {
    "id": "OUTTkp2072qI"
   },
   "outputs": [],
   "source": [
    "#Let's combine signal and background\n",
    "df_scaled = pd.concat([signal, background])\n",
    "# Let's shuffle the rows randomly\n",
    "df_scaled = df_scaled.sample(frac=1)"
   ]
  },
  {
   "cell_type": "code",
   "execution_count": 26,
   "metadata": {},
   "outputs": [],
   "source": [
    "#lets draw sign to background ratio\n",
    "def plt_sig_back(df):\n",
    "    range1 = (lowerMassCut, upperMassCut)\n",
    "    fig, axs = plt.subplots(figsize=(10, 6))\n",
    "    #df_scaled['mass'].plot.hist(bins = 300, range=range1,grid=True,sharey=True)\n",
    "    (df[df['issignal']==0])['mass'].plot.hist(bins = 300, facecolor='yellow',grid=True,range=range1, label='Background')\n",
    "    (df[df['issignal']==1])['mass'].plot.hist(bins = 300, facecolor='magenta',grid=True, range=range1, label ='Signal')\n",
    "    #plt.vlines(x=1.108,ymin=-1,ymax=48000, color='black', linestyle='-')\n",
    "    #plt.vlines(x=1.1227,ymin=-1,ymax=48000, color='black', linestyle='-')\n",
    "    plt.ylabel(\"Counts (log scale)\", fontsize=15)\n",
    "    plt.xlabel(\"Mass in GeV/$c^2$\", fontsize= 15)\n",
    "    plt.xticks(fontsize=15)\n",
    "    plt.yticks(fontsize=15)\n",
    "    #plt.title('Test and Train Lambda Invariant Mass', fontsize = 15)\n",
    "    plt.legend( fontsize = 15)\n",
    "    axs.tick_params(axis='both', which='major', labelsize=18)\n",
    "    plt.yscale(\"log\")\n",
    "    fig.tight_layout()\n",
    "    #fig.savefig(\"hists.png\")"
   ]
  },
  {
   "cell_type": "code",
   "execution_count": 27,
   "metadata": {
    "id": "AVQErryc72qc"
   },
   "outputs": [
    {
     "data": {
      "text/plain": [
       "3896"
      ]
     },
     "execution_count": 27,
     "metadata": {},
     "output_type": "execute_result"
    },
    {
     "data": {
      "image/png": "[encoded data removed]",
      "text/plain": [
       "<Figure size 720x432 with 1 Axes>"
      ]
     },
     "metadata": {
      "needs_background": "light"
     },
     "output_type": "display_data"
    }
   ],
   "source": [
    "plt_sig_back(df_scaled)\n",
    "gc.collect()"
   ]
  },
  {
   "cell_type": "markdown",
   "metadata": {
    "id": "KyveX9Lh72qk"
   },
   "source": [
    "# Creating Train and Test sets\n",
    "To make machine learning algorithms more efficient on unseen data we divide our data into two sets. One set is for training the algorithm and the other is for testing the algorithm. If we don't do this then the algorithm can overfit and we will not capture the general trends in the data. "
   ]
  },
  {
   "cell_type": "code",
   "execution_count": 28,
   "metadata": {
    "id": "VOEQTRhb72ql"
   },
   "outputs": [],
   "source": [
    "# The following columns will be used to predict whether a reconstructed candidate is a lambda particle or not\n",
    "cuts = [ 'loverdl', 'distance', 'chi2geo', 'chi2topo', 'chi2primfirst', 'chi2primsecond']\n",
    "\n",
    "\n",
    "x = df_scaled[cuts].copy()\n",
    "\n",
    "# The MC information is saved in this y variable\n",
    "y =pd.DataFrame(df_scaled['issignal'], dtype='int')\n",
    "\n",
    "x_train, x_test, y_train, y_test = train_test_split(x, y, test_size=0.2, random_state=324)\n",
    "\n",
    "#DMatrix is a internal data structure that used by XGBoost which is optimized for both memory efficiency and training speed. \n",
    "dtrain = xgb.DMatrix(x_train, label = y_train)\n",
    "dtest=xgb.DMatrix(x_test, label = y_test)"
   ]
  },
  {
   "cell_type": "markdown",
   "metadata": {
    "id": "1FihmBwJ72rE"
   },
   "source": [
    "## Bayesian optimization\n",
    "In order to find the best parameters of XGB for our data we use Bayesian optimization. Grid search and and random search could also do the same job but bayesian is more time efficient. For further reading visit [the git page](https://github.com/fmfn/BayesianOptimization) of the bayesian optimization used here.\n",
    "\n",
    "### Hyper parameters\n",
    "Some of the following hyper parameters will be tuned for our algorithm:\n",
    "\n",
    "\n",
    "*subsample* [default=1]\n",
    "Subsample ratio of the training instances. Setting it to 0.5 means that XGBoost would randomly sample half of the training data prior to growing trees. and this will prevent overfitting. Subsampling will occur once in every boosting iteration.\n",
    "range: (0,1]\n",
    "\n",
    "*eta* [default=0.3, alias: learning_rate]\n",
    "Step size shrinkage used in update to prevents overfitting. After each boosting step, we can directly get the weights of new features, and eta shrinks the feature weights to make the boosting process more conservative.\n",
    "range: [0,1]\n",
    "\n",
    "\n",
    "*gamma* [default=0, alias: min_split_loss]\n",
    "Minimum loss reduction required to make a further partition on a leaf node of the tree. The larger gamma is, the more conservative the algorithm will be.\n",
    "range: [0,∞]\n",
    "\n",
    "\n",
    "*alpha* [default=0, alias: reg_alpha]\n",
    "L1 regularization term on weights. Increasing this value will make model more conservative.\n",
    "\n",
    "*Lasso Regression* (Least Absolute Shrinkage and Selection Operator) adds “absolute value of magnitude” of coefficient as penalty term to the loss function."
   ]
  },
  {
   "cell_type": "code",
   "execution_count": 29,
   "metadata": {
    "id": "wL9CUKGT72rc"
   },
   "outputs": [],
   "source": [
    "#Bayesian Optimization function for xgboost\n",
    "#specify the parameters you want to tune as keyword arguments\n",
    "def bo_tune_xgb(max_depth, gamma, alpha, n_estimators ,learning_rate):\n",
    "    params = {'max_depth': int(max_depth),\n",
    "              'gamma': gamma,\n",
    "              'alpha':alpha,\n",
    "              'n_estimators': n_estimators,\n",
    "              'learning_rate':learning_rate,\n",
    "              'subsample': 0.8,\n",
    "              'eta': 0.3,\n",
    "              'eval_metric': 'auc', 'nthread' : 7}\n",
    "    cv_result = xgb.cv(params, dtrain, num_boost_round=10, nfold=5)\n",
    "    return  cv_result['test-auc-mean'].iloc[-1]"
   ]
  },
  {
   "cell_type": "code",
   "execution_count": 30,
   "metadata": {
    "id": "eN20_fJV72rg"
   },
   "outputs": [],
   "source": [
    "#Invoking the Bayesian Optimizer with the specified parameters to tune\n",
    "xgb_bo = BayesianOptimization(bo_tune_xgb, {'max_depth': (4, 10),\n",
    "                                             'gamma': (0, 1),\n",
    "                                            'alpha': (2,20),\n",
    "                                             'learning_rate':(0,1),\n",
    "                                             'n_estimators':(100,500)\n",
    "                                            })"
   ]
  },
  {
   "cell_type": "code",
   "execution_count": 31,
   "metadata": {
    "id": "OW00bW2i72rn"
   },
   "outputs": [
    {
     "name": "stdout",
     "output_type": "stream",
     "text": [
      "|   iter    |  target   |   alpha   |   gamma   | learni... | max_depth | n_esti... |\n",
      "-------------------------------------------------------------------------------------\n",
      "[10:36:28] src/tree/updater_prune.cc:74: tree pruning end, 1 roots, 20 extra nodes, 0 pruned nodes, max_depth=4\n",
      "[10:36:28] src/tree/updater_prune.cc:74: tree pruning end, 1 roots, 18 extra nodes, 0 pruned nodes, max_depth=4\n",
      "[10:36:28] src/tree/updater_prune.cc:74: tree pruning end, 1 roots, 18 extra nodes, 0 pruned nodes, max_depth=4\n",
      "[10:36:28] src/tree/updater_prune.cc:74: tree pruning end, 1 roots, 20 extra nodes, 0 pruned nodes, max_depth=4\n",
      "[10:36:28] src/tree/updater_prune.cc:74: tree pruning end, 1 roots, 20 extra nodes, 0 pruned nodes, max_depth=4\n",
      "[10:36:28] src/tree/updater_prune.cc:74: tree pruning end, 1 roots, 20 extra nodes, 0 pruned nodes, max_depth=4\n",
      "[10:36:28] src/tree/updater_prune.cc:74: tree pruning end, 1 roots, 18 extra nodes, 2 pruned nodes, max_depth=4\n",
      "[10:36:28] src/tree/updater_prune.cc:74: tree pruning end, 1 roots, 20 extra nodes, 0 pruned nodes, max_depth=4\n",
      "[10:36:28] src/tree/updater_prune.cc:74: tree pruning end, 1 roots, 20 extra nodes, 2 pruned nodes, max_depth=4\n",
      "[10:36:28] src/tree/updater_prune.cc:74: tree pruning end, 1 roots, 20 extra nodes, 0 pruned nodes, max_depth=4\n",
      "[10:36:28] src/tree/updater_prune.cc:74: tree pruning end, 1 roots, 20 extra nodes, 0 pruned nodes, max_depth=4\n",
      "[10:36:28] src/tree/updater_prune.cc:74: tree pruning end, 1 roots, 18 extra nodes, 0 pruned nodes, max_depth=4\n",
      "[10:36:28] src/tree/updater_prune.cc:74: tree pruning end, 1 roots, 18 extra nodes, 0 pruned nodes, max_depth=4\n",
      "[10:36:28] src/tree/updater_prune.cc:74: tree pruning end, 1 roots, 20 extra nodes, 0 pruned nodes, max_depth=4\n",
      "[10:36:28] src/tree/updater_prune.cc:74: tree pruning end, 1 roots, 18 extra nodes, 0 pruned nodes, max_depth=4\n",
      "[10:36:28] src/tree/updater_prune.cc:74: tree pruning end, 1 roots, 20 extra nodes, 2 pruned nodes, max_depth=4\n",
      "[10:36:28] src/tree/updater_prune.cc:74: tree pruning end, 1 roots, 20 extra nodes, 0 pruned nodes, max_depth=4\n",
      "[10:36:28] src/tree/updater_prune.cc:74: tree pruning end, 1 roots, 20 extra nodes, 0 pruned nodes, max_depth=4\n",
      "[10:36:28] src/tree/updater_prune.cc:74: tree pruning end, 1 roots, 20 extra nodes, 0 pruned nodes, max_depth=4\n",
      "[10:36:28] src/tree/updater_prune.cc:74: tree pruning end, 1 roots, 20 extra nodes, 0 pruned nodes, max_depth=4\n",
      "[10:36:28] src/tree/updater_prune.cc:74: tree pruning end, 1 roots, 18 extra nodes, 0 pruned nodes, max_depth=4\n",
      "[10:36:28] src/tree/updater_prune.cc:74: tree pruning end, 1 roots, 18 extra nodes, 2 pruned nodes, max_depth=4\n",
      "[10:36:28] src/tree/updater_prune.cc:74: tree pruning end, 1 roots, 20 extra nodes, 0 pruned nodes, max_depth=4\n",
      "[10:36:28] src/tree/updater_prune.cc:74: tree pruning end, 1 roots, 22 extra nodes, 0 pruned nodes, max_depth=4\n",
      "[10:36:28] src/tree/updater_prune.cc:74: tree pruning end, 1 roots, 20 extra nodes, 2 pruned nodes, max_depth=4\n",
      "[10:36:28] src/tree/updater_prune.cc:74: tree pruning end, 1 roots, 20 extra nodes, 0 pruned nodes, max_depth=4\n",
      "[10:36:28] src/tree/updater_prune.cc:74: tree pruning end, 1 roots, 22 extra nodes, 0 pruned nodes, max_depth=4\n",
      "[10:36:28] src/tree/updater_prune.cc:74: tree pruning end, 1 roots, 20 extra nodes, 0 pruned nodes, max_depth=4\n",
      "[10:36:28] src/tree/updater_prune.cc:74: tree pruning end, 1 roots, 18 extra nodes, 0 pruned nodes, max_depth=4\n",
      "[10:36:28] src/tree/updater_prune.cc:74: tree pruning end, 1 roots, 20 extra nodes, 0 pruned nodes, max_depth=4\n",
      "[10:36:28] src/tree/updater_prune.cc:74: tree pruning end, 1 roots, 18 extra nodes, 0 pruned nodes, max_depth=4\n",
      "[10:36:28] src/tree/updater_prune.cc:74: tree pruning end, 1 roots, 20 extra nodes, 0 pruned nodes, max_depth=4\n",
      "[10:36:28] src/tree/updater_prune.cc:74: tree pruning end, 1 roots, 20 extra nodes, 0 pruned nodes, max_depth=4\n",
      "[10:36:28] src/tree/updater_prune.cc:74: tree pruning end, 1 roots, 20 extra nodes, 0 pruned nodes, max_depth=4\n",
      "[10:36:28] src/tree/updater_prune.cc:74: tree pruning end, 1 roots, 18 extra nodes, 0 pruned nodes, max_depth=4\n",
      "[10:36:28] src/tree/updater_prune.cc:74: tree pruning end, 1 roots, 22 extra nodes, 0 pruned nodes, max_depth=4\n",
      "[10:36:28] src/tree/updater_prune.cc:74: tree pruning end, 1 roots, 22 extra nodes, 2 pruned nodes, max_depth=4\n",
      "[10:36:28] src/tree/updater_prune.cc:74: tree pruning end, 1 roots, 20 extra nodes, 2 pruned nodes, max_depth=4\n",
      "[10:36:28] src/tree/updater_prune.cc:74: tree pruning end, 1 roots, 22 extra nodes, 0 pruned nodes, max_depth=4\n",
      "[10:36:28] src/tree/updater_prune.cc:74: tree pruning end, 1 roots, 18 extra nodes, 2 pruned nodes, max_depth=4\n",
      "[10:36:28] src/tree/updater_prune.cc:74: tree pruning end, 1 roots, 16 extra nodes, 0 pruned nodes, max_depth=4\n",
      "[10:36:28] src/tree/updater_prune.cc:74: tree pruning end, 1 roots, 20 extra nodes, 0 pruned nodes, max_depth=4\n",
      "[10:36:28] src/tree/updater_prune.cc:74: tree pruning end, 1 roots, 16 extra nodes, 2 pruned nodes, max_depth=4\n",
      "[10:36:28] src/tree/updater_prune.cc:74: tree pruning end, 1 roots, 18 extra nodes, 2 pruned nodes, max_depth=4\n",
      "[10:36:28] src/tree/updater_prune.cc:74: tree pruning end, 1 roots, 20 extra nodes, 0 pruned nodes, max_depth=4\n",
      "[10:36:28] src/tree/updater_prune.cc:74: tree pruning end, 1 roots, 18 extra nodes, 2 pruned nodes, max_depth=4\n",
      "[10:36:28] src/tree/updater_prune.cc:74: tree pruning end, 1 roots, 16 extra nodes, 2 pruned nodes, max_depth=4\n",
      "[10:36:28] src/tree/updater_prune.cc:74: tree pruning end, 1 roots, 20 extra nodes, 2 pruned nodes, max_depth=4\n",
      "[10:36:28] src/tree/updater_prune.cc:74: tree pruning end, 1 roots, 20 extra nodes, 0 pruned nodes, max_depth=4\n",
      "[10:36:28] src/tree/updater_prune.cc:74: tree pruning end, 1 roots, 20 extra nodes, 2 pruned nodes, max_depth=4\n",
      "| \u001b[0m 1       \u001b[0m | \u001b[0m 0.9931  \u001b[0m | \u001b[0m 7.73    \u001b[0m | \u001b[0m 0.4757  \u001b[0m | \u001b[0m 0.03753 \u001b[0m | \u001b[0m 4.938   \u001b[0m | \u001b[0m 486.5   \u001b[0m |\n",
      "[10:36:28] src/tree/updater_prune.cc:74: tree pruning end, 1 roots, 18 extra nodes, 4 pruned nodes, max_depth=4\n",
      "[10:36:28] src/tree/updater_prune.cc:74: tree pruning end, 1 roots, 16 extra nodes, 0 pruned nodes, max_depth=4\n",
      "[10:36:28] src/tree/updater_prune.cc:74: tree pruning end, 1 roots, 16 extra nodes, 0 pruned nodes, max_depth=4\n",
      "[10:36:28] src/tree/updater_prune.cc:74: tree pruning end, 1 roots, 18 extra nodes, 0 pruned nodes, max_depth=5\n",
      "[10:36:28] src/tree/updater_prune.cc:74: tree pruning end, 1 roots, 20 extra nodes, 4 pruned nodes, max_depth=5\n",
      "[10:36:28] src/tree/updater_prune.cc:74: tree pruning end, 1 roots, 12 extra nodes, 2 pruned nodes, max_depth=3\n",
      "[10:36:28] src/tree/updater_prune.cc:74: tree pruning end, 1 roots, 16 extra nodes, 2 pruned nodes, max_depth=4\n",
      "[10:36:28] src/tree/updater_prune.cc:74: tree pruning end, 1 roots, 14 extra nodes, 2 pruned nodes, max_depth=4\n",
      "[10:36:28] src/tree/updater_prune.cc:74: tree pruning end, 1 roots, 20 extra nodes, 0 pruned nodes, max_depth=5\n",
      "[10:36:28] src/tree/updater_prune.cc:74: tree pruning end, 1 roots, 14 extra nodes, 2 pruned nodes, max_depth=4\n",
      "[10:36:28] src/tree/updater_prune.cc:74: tree pruning end, 1 roots, 14 extra nodes, 4 pruned nodes, max_depth=4\n",
      "[10:36:28] src/tree/updater_prune.cc:74: tree pruning end, 1 roots, 14 extra nodes, 2 pruned nodes, max_depth=5\n",
      "[10:36:28] src/tree/updater_prune.cc:74: tree pruning end, 1 roots, 14 extra nodes, 2 pruned nodes, max_depth=5\n",
      "[10:36:28] src/tree/updater_prune.cc:74: tree pruning end, 1 roots, 12 extra nodes, 4 pruned nodes, max_depth=5\n",
      "[10:36:28] src/tree/updater_prune.cc:74: tree pruning end, 1 roots, 10 extra nodes, 2 pruned nodes, max_depth=3\n",
      "[10:36:28] src/tree/updater_prune.cc:74: tree pruning end, 1 roots, 14 extra nodes, 4 pruned nodes, max_depth=4\n",
      "[10:36:28] src/tree/updater_prune.cc:74: tree pruning end, 1 roots, 18 extra nodes, 6 pruned nodes, max_depth=5\n",
      "[10:36:28] src/tree/updater_prune.cc:74: tree pruning end, 1 roots, 12 extra nodes, 6 pruned nodes, max_depth=5\n",
      "[10:36:28] src/tree/updater_prune.cc:74: tree pruning end, 1 roots, 10 extra nodes, 12 pruned nodes, max_depth=5\n",
      "[10:36:28] src/tree/updater_prune.cc:74: tree pruning end, 1 roots, 12 extra nodes, 6 pruned nodes, max_depth=5\n",
      "[10:36:28] src/tree/updater_prune.cc:74: tree pruning end, 1 roots, 14 extra nodes, 8 pruned nodes, max_depth=5\n",
      "[10:36:28] src/tree/updater_prune.cc:74: tree pruning end, 1 roots, 12 extra nodes, 8 pruned nodes, max_depth=4\n",
      "[10:36:28] src/tree/updater_prune.cc:74: tree pruning end, 1 roots, 14 extra nodes, 6 pruned nodes, max_depth=5\n",
      "[10:36:28] src/tree/updater_prune.cc:74: tree pruning end, 1 roots, 8 extra nodes, 6 pruned nodes, max_depth=4\n",
      "[10:36:28] src/tree/updater_prune.cc:74: tree pruning end, 1 roots, 6 extra nodes, 12 pruned nodes, max_depth=3\n",
      "[10:36:28] src/tree/updater_prune.cc:74: tree pruning end, 1 roots, 0 extra nodes, 12 pruned nodes, max_depth=0\n",
      "[10:36:28] src/tree/updater_prune.cc:74: tree pruning end, 1 roots, 8 extra nodes, 10 pruned nodes, max_depth=4\n",
      "[10:36:28] src/tree/updater_prune.cc:74: tree pruning end, 1 roots, 0 extra nodes, 16 pruned nodes, max_depth=0\n",
      "[10:36:28] src/tree/updater_prune.cc:74: tree pruning end, 1 roots, 12 extra nodes, 14 pruned nodes, max_depth=4\n",
      "[10:36:28] src/tree/updater_prune.cc:74: tree pruning end, 1 roots, 2 extra nodes, 12 pruned nodes, max_depth=1\n",
      "[10:36:28] src/tree/updater_prune.cc:74: tree pruning end, 1 roots, 0 extra nodes, 16 pruned nodes, max_depth=0\n",
      "[10:36:28] src/tree/updater_prune.cc:74: tree pruning end, 1 roots, 8 extra nodes, 10 pruned nodes, max_depth=4\n",
      "[10:36:28] src/tree/updater_prune.cc:74: tree pruning end, 1 roots, 0 extra nodes, 14 pruned nodes, max_depth=0\n",
      "[10:36:28] src/tree/updater_prune.cc:74: tree pruning end, 1 roots, 0 extra nodes, 16 pruned nodes, max_depth=0\n",
      "[10:36:28] src/tree/updater_prune.cc:74: tree pruning end, 1 roots, 0 extra nodes, 18 pruned nodes, max_depth=0\n",
      "[10:36:28] src/tree/updater_prune.cc:74: tree pruning end, 1 roots, 0 extra nodes, 8 pruned nodes, max_depth=0\n",
      "[10:36:28] src/tree/updater_prune.cc:74: tree pruning end, 1 roots, 8 extra nodes, 14 pruned nodes, max_depth=4\n",
      "[10:36:28] src/tree/updater_prune.cc:74: tree pruning end, 1 roots, 0 extra nodes, 20 pruned nodes, max_depth=0\n",
      "[10:36:28] src/tree/updater_prune.cc:74: tree pruning end, 1 roots, 0 extra nodes, 20 pruned nodes, max_depth=0\n",
      "[10:36:28] src/tree/updater_prune.cc:74: tree pruning end, 1 roots, 8 extra nodes, 12 pruned nodes, max_depth=4\n",
      "[10:36:28] src/tree/updater_prune.cc:74: tree pruning end, 1 roots, 8 extra nodes, 12 pruned nodes, max_depth=4\n",
      "[10:36:28] src/tree/updater_prune.cc:74: tree pruning end, 1 roots, 0 extra nodes, 20 pruned nodes, max_depth=0\n",
      "[10:36:28] src/tree/updater_prune.cc:74: tree pruning end, 1 roots, 8 extra nodes, 14 pruned nodes, max_depth=4\n",
      "[10:36:28] src/tree/updater_prune.cc:74: tree pruning end, 1 roots, 0 extra nodes, 26 pruned nodes, max_depth=0\n",
      "[10:36:28] src/tree/updater_prune.cc:74: tree pruning end, 1 roots, 0 extra nodes, 14 pruned nodes, max_depth=0\n",
      "[10:36:28] src/tree/updater_prune.cc:74: tree pruning end, 1 roots, 0 extra nodes, 14 pruned nodes, max_depth=0\n",
      "[10:36:28] src/tree/updater_prune.cc:74: tree pruning end, 1 roots, 12 extra nodes, 6 pruned nodes, max_depth=4\n",
      "[10:36:29] src/tree/updater_prune.cc:74: tree pruning end, 1 roots, 10 extra nodes, 14 pruned nodes, max_depth=5\n",
      "[10:36:29] src/tree/updater_prune.cc:74: tree pruning end, 1 roots, 0 extra nodes, 14 pruned nodes, max_depth=0\n",
      "[10:36:29] src/tree/updater_prune.cc:74: tree pruning end, 1 roots, 0 extra nodes, 10 pruned nodes, max_depth=0\n",
      "| \u001b[95m 2       \u001b[0m | \u001b[95m 0.9966  \u001b[0m | \u001b[95m 15.57   \u001b[0m | \u001b[95m 0.7115  \u001b[0m | \u001b[95m 0.6435  \u001b[0m | \u001b[95m 9.508   \u001b[0m | \u001b[95m 191.9   \u001b[0m |\n",
      "[10:36:29] src/tree/updater_prune.cc:74: tree pruning end, 1 roots, 22 extra nodes, 2 pruned nodes, max_depth=5\n",
      "[10:36:29] src/tree/updater_prune.cc:74: tree pruning end, 1 roots, 18 extra nodes, 4 pruned nodes, max_depth=4\n",
      "[10:36:29] src/tree/updater_prune.cc:74: tree pruning end, 1 roots, 18 extra nodes, 0 pruned nodes, max_depth=4\n",
      "[10:36:29] src/tree/updater_prune.cc:74: tree pruning end, 1 roots, 24 extra nodes, 4 pruned nodes, max_depth=5\n",
      "[10:36:29] src/tree/updater_prune.cc:74: tree pruning end, 1 roots, 24 extra nodes, 0 pruned nodes, max_depth=5\n",
      "[10:36:29] src/tree/updater_prune.cc:74: tree pruning end, 1 roots, 18 extra nodes, 0 pruned nodes, max_depth=5\n",
      "[10:36:29] src/tree/updater_prune.cc:74: tree pruning end, 1 roots, 18 extra nodes, 10 pruned nodes, max_depth=5\n",
      "[10:36:29] src/tree/updater_prune.cc:74: tree pruning end, 1 roots, 22 extra nodes, 4 pruned nodes, max_depth=5\n",
      "[10:36:29] src/tree/updater_prune.cc:74: tree pruning end, 1 roots, 22 extra nodes, 4 pruned nodes, max_depth=5\n",
      "[10:36:29] src/tree/updater_prune.cc:74: tree pruning end, 1 roots, 20 extra nodes, 6 pruned nodes, max_depth=5\n",
      "[10:36:29] src/tree/updater_prune.cc:74: tree pruning end, 1 roots, 20 extra nodes, 4 pruned nodes, max_depth=5\n",
      "[10:36:29] src/tree/updater_prune.cc:74: tree pruning end, 1 roots, 18 extra nodes, 10 pruned nodes, max_depth=4\n",
      "[10:36:29] src/tree/updater_prune.cc:74: tree pruning end, 1 roots, 18 extra nodes, 6 pruned nodes, max_depth=4\n",
      "[10:36:29] src/tree/updater_prune.cc:74: tree pruning end, 1 roots, 16 extra nodes, 4 pruned nodes, max_depth=4\n",
      "[10:36:29] src/tree/updater_prune.cc:74: tree pruning end, 1 roots, 18 extra nodes, 4 pruned nodes, max_depth=5\n",
      "[10:36:29] src/tree/updater_prune.cc:74: tree pruning end, 1 roots, 16 extra nodes, 6 pruned nodes, max_depth=4\n",
      "[10:36:29] src/tree/updater_prune.cc:74: tree pruning end, 1 roots, 22 extra nodes, 4 pruned nodes, max_depth=5\n",
      "[10:36:29] src/tree/updater_prune.cc:74: tree pruning end, 1 roots, 14 extra nodes, 16 pruned nodes, max_depth=4\n",
      "[10:36:29] src/tree/updater_prune.cc:74: tree pruning end, 1 roots, 18 extra nodes, 8 pruned nodes, max_depth=5\n",
      "[10:36:29] src/tree/updater_prune.cc:74: tree pruning end, 1 roots, 20 extra nodes, 2 pruned nodes, max_depth=5\n",
      "[10:36:29] src/tree/updater_prune.cc:74: tree pruning end, 1 roots, 16 extra nodes, 8 pruned nodes, max_depth=5\n",
      "[10:36:29] src/tree/updater_prune.cc:74: tree pruning end, 1 roots, 16 extra nodes, 8 pruned nodes, max_depth=4\n",
      "[10:36:29] src/tree/updater_prune.cc:74: tree pruning end, 1 roots, 16 extra nodes, 6 pruned nodes, max_depth=4\n",
      "[10:36:29] src/tree/updater_prune.cc:74: tree pruning end, 1 roots, 16 extra nodes, 4 pruned nodes, max_depth=4\n",
      "[10:36:29] src/tree/updater_prune.cc:74: tree pruning end, 1 roots, 18 extra nodes, 4 pruned nodes, max_depth=5\n",
      "[10:36:29] src/tree/updater_prune.cc:74: tree pruning end, 1 roots, 14 extra nodes, 8 pruned nodes, max_depth=4\n",
      "[10:36:29] src/tree/updater_prune.cc:74: tree pruning end, 1 roots, 16 extra nodes, 6 pruned nodes, max_depth=5\n",
      "[10:36:29] src/tree/updater_prune.cc:74: tree pruning end, 1 roots, 18 extra nodes, 8 pruned nodes, max_depth=5\n",
      "[10:36:29] src/tree/updater_prune.cc:74: tree pruning end, 1 roots, 16 extra nodes, 10 pruned nodes, max_depth=4\n",
      "[10:36:29] src/tree/updater_prune.cc:74: tree pruning end, 1 roots, 18 extra nodes, 4 pruned nodes, max_depth=5\n",
      "[10:36:29] src/tree/updater_prune.cc:74: tree pruning end, 1 roots, 12 extra nodes, 10 pruned nodes, max_depth=3\n",
      "[10:36:29] src/tree/updater_prune.cc:74: tree pruning end, 1 roots, 16 extra nodes, 8 pruned nodes, max_depth=4\n",
      "[10:36:29] src/tree/updater_prune.cc:74: tree pruning end, 1 roots, 16 extra nodes, 6 pruned nodes, max_depth=5\n",
      "[10:36:29] src/tree/updater_prune.cc:74: tree pruning end, 1 roots, 16 extra nodes, 2 pruned nodes, max_depth=5\n",
      "[10:36:29] src/tree/updater_prune.cc:74: tree pruning end, 1 roots, 16 extra nodes, 8 pruned nodes, max_depth=5\n",
      "[10:36:29] src/tree/updater_prune.cc:74: tree pruning end, 1 roots, 18 extra nodes, 8 pruned nodes, max_depth=5\n",
      "[10:36:29] src/tree/updater_prune.cc:74: tree pruning end, 1 roots, 18 extra nodes, 10 pruned nodes, max_depth=5\n",
      "[10:36:29] src/tree/updater_prune.cc:74: tree pruning end, 1 roots, 16 extra nodes, 10 pruned nodes, max_depth=4\n",
      "[10:36:29] src/tree/updater_prune.cc:74: tree pruning end, 1 roots, 18 extra nodes, 8 pruned nodes, max_depth=5\n",
      "[10:36:29] src/tree/updater_prune.cc:74: tree pruning end, 1 roots, 14 extra nodes, 6 pruned nodes, max_depth=4\n",
      "[10:36:29] src/tree/updater_prune.cc:74: tree pruning end, 1 roots, 12 extra nodes, 10 pruned nodes, max_depth=3\n",
      "[10:36:29] src/tree/updater_prune.cc:74: tree pruning end, 1 roots, 14 extra nodes, 8 pruned nodes, max_depth=4\n",
      "[10:36:29] src/tree/updater_prune.cc:74: tree pruning end, 1 roots, 14 extra nodes, 12 pruned nodes, max_depth=5\n",
      "[10:36:29] src/tree/updater_prune.cc:74: tree pruning end, 1 roots, 10 extra nodes, 12 pruned nodes, max_depth=3\n",
      "[10:36:29] src/tree/updater_prune.cc:74: tree pruning end, 1 roots, 10 extra nodes, 14 pruned nodes, max_depth=3\n",
      "[10:36:29] src/tree/updater_prune.cc:74: tree pruning end, 1 roots, 14 extra nodes, 4 pruned nodes, max_depth=5\n",
      "[10:36:29] src/tree/updater_prune.cc:74: tree pruning end, 1 roots, 14 extra nodes, 8 pruned nodes, max_depth=5\n",
      "[10:36:29] src/tree/updater_prune.cc:74: tree pruning end, 1 roots, 14 extra nodes, 12 pruned nodes, max_depth=5\n",
      "[10:36:29] src/tree/updater_prune.cc:74: tree pruning end, 1 roots, 10 extra nodes, 8 pruned nodes, max_depth=3\n",
      "[10:36:29] src/tree/updater_prune.cc:74: tree pruning end, 1 roots, 16 extra nodes, 10 pruned nodes, max_depth=5\n",
      "| \u001b[0m 3       \u001b[0m | \u001b[0m 0.996   \u001b[0m | \u001b[0m 8.368   \u001b[0m | \u001b[0m 0.9807  \u001b[0m | \u001b[0m 0.2131  \u001b[0m | \u001b[0m 7.111   \u001b[0m | \u001b[0m 124.8   \u001b[0m |\n",
      "[10:36:29] src/tree/updater_prune.cc:74: tree pruning end, 1 roots, 16 extra nodes, 4 pruned nodes, max_depth=4\n",
      "[10:36:29] src/tree/updater_prune.cc:74: tree pruning end, 1 roots, 16 extra nodes, 0 pruned nodes, max_depth=4\n",
      "[10:36:29] src/tree/updater_prune.cc:74: tree pruning end, 1 roots, 16 extra nodes, 0 pruned nodes, max_depth=4\n",
      "[10:36:29] src/tree/updater_prune.cc:74: tree pruning end, 1 roots, 16 extra nodes, 2 pruned nodes, max_depth=4\n",
      "[10:36:29] src/tree/updater_prune.cc:74: tree pruning end, 1 roots, 16 extra nodes, 2 pruned nodes, max_depth=4\n",
      "[10:36:29] src/tree/updater_prune.cc:74: tree pruning end, 1 roots, 12 extra nodes, 2 pruned nodes, max_depth=3\n",
      "[10:36:29] src/tree/updater_prune.cc:74: tree pruning end, 1 roots, 14 extra nodes, 2 pruned nodes, max_depth=5\n",
      "[10:36:29] src/tree/updater_prune.cc:74: tree pruning end, 1 roots, 10 extra nodes, 2 pruned nodes, max_depth=4\n",
      "[10:36:29] src/tree/updater_prune.cc:74: tree pruning end, 1 roots, 16 extra nodes, 0 pruned nodes, max_depth=5\n",
      "[10:36:29] src/tree/updater_prune.cc:74: tree pruning end, 1 roots, 16 extra nodes, 4 pruned nodes, max_depth=5\n",
      "[10:36:29] src/tree/updater_prune.cc:74: tree pruning end, 1 roots, 10 extra nodes, 2 pruned nodes, max_depth=3\n",
      "[10:36:29] src/tree/updater_prune.cc:74: tree pruning end, 1 roots, 8 extra nodes, 6 pruned nodes, max_depth=4\n",
      "[10:36:29] src/tree/updater_prune.cc:74: tree pruning end, 1 roots, 14 extra nodes, 6 pruned nodes, max_depth=5\n",
      "[10:36:29] src/tree/updater_prune.cc:74: tree pruning end, 1 roots, 18 extra nodes, 2 pruned nodes, max_depth=5\n",
      "[10:36:29] src/tree/updater_prune.cc:74: tree pruning end, 1 roots, 6 extra nodes, 2 pruned nodes, max_depth=3\n",
      "[10:36:29] src/tree/updater_prune.cc:74: tree pruning end, 1 roots, 12 extra nodes, 6 pruned nodes, max_depth=4\n",
      "[10:36:29] src/tree/updater_prune.cc:74: tree pruning end, 1 roots, 16 extra nodes, 4 pruned nodes, max_depth=5\n",
      "[10:36:29] src/tree/updater_prune.cc:74: tree pruning end, 1 roots, 14 extra nodes, 6 pruned nodes, max_depth=4\n",
      "[10:36:29] src/tree/updater_prune.cc:74: tree pruning end, 1 roots, 10 extra nodes, 12 pruned nodes, max_depth=4\n",
      "[10:36:29] src/tree/updater_prune.cc:74: tree pruning end, 1 roots, 10 extra nodes, 6 pruned nodes, max_depth=4\n",
      "[10:36:29] src/tree/updater_prune.cc:74: tree pruning end, 1 roots, 10 extra nodes, 8 pruned nodes, max_depth=5\n",
      "[10:36:29] src/tree/updater_prune.cc:74: tree pruning end, 1 roots, 14 extra nodes, 4 pruned nodes, max_depth=4\n",
      "[10:36:29] src/tree/updater_prune.cc:74: tree pruning end, 1 roots, 14 extra nodes, 10 pruned nodes, max_depth=4\n",
      "[10:36:29] src/tree/updater_prune.cc:74: tree pruning end, 1 roots, 6 extra nodes, 8 pruned nodes, max_depth=3\n",
      "[10:36:29] src/tree/updater_prune.cc:74: tree pruning end, 1 roots, 10 extra nodes, 10 pruned nodes, max_depth=5\n",
      "[10:36:29] src/tree/updater_prune.cc:74: tree pruning end, 1 roots, 14 extra nodes, 8 pruned nodes, max_depth=4\n",
      "[10:36:29] src/tree/updater_prune.cc:74: tree pruning end, 1 roots, 0 extra nodes, 12 pruned nodes, max_depth=0\n",
      "[10:36:29] src/tree/updater_prune.cc:74: tree pruning end, 1 roots, 0 extra nodes, 12 pruned nodes, max_depth=0\n",
      "[10:36:29] src/tree/updater_prune.cc:74: tree pruning end, 1 roots, 10 extra nodes, 10 pruned nodes, max_depth=5\n",
      "[10:36:29] src/tree/updater_prune.cc:74: tree pruning end, 1 roots, 4 extra nodes, 14 pruned nodes, max_depth=2\n",
      "[10:36:29] src/tree/updater_prune.cc:74: tree pruning end, 1 roots, 0 extra nodes, 14 pruned nodes, max_depth=0\n",
      "[10:36:29] src/tree/updater_prune.cc:74: tree pruning end, 1 roots, 0 extra nodes, 12 pruned nodes, max_depth=0\n",
      "[10:36:29] src/tree/updater_prune.cc:74: tree pruning end, 1 roots, 12 extra nodes, 10 pruned nodes, max_depth=5\n",
      "[10:36:29] src/tree/updater_prune.cc:74: tree pruning end, 1 roots, 0 extra nodes, 20 pruned nodes, max_depth=0\n",
      "[10:36:29] src/tree/updater_prune.cc:74: tree pruning end, 1 roots, 0 extra nodes, 26 pruned nodes, max_depth=0\n",
      "[10:36:30] src/tree/updater_prune.cc:74: tree pruning end, 1 roots, 0 extra nodes, 16 pruned nodes, max_depth=0\n",
      "[10:36:30] src/tree/updater_prune.cc:74: tree pruning end, 1 roots, 0 extra nodes, 16 pruned nodes, max_depth=0\n",
      "[10:36:30] src/tree/updater_prune.cc:74: tree pruning end, 1 roots, 6 extra nodes, 14 pruned nodes, max_depth=3\n",
      "[10:36:30] src/tree/updater_prune.cc:74: tree pruning end, 1 roots, 0 extra nodes, 26 pruned nodes, max_depth=0\n",
      "[10:36:30] src/tree/updater_prune.cc:74: tree pruning end, 1 roots, 0 extra nodes, 12 pruned nodes, max_depth=0\n",
      "[10:36:30] src/tree/updater_prune.cc:74: tree pruning end, 1 roots, 8 extra nodes, 6 pruned nodes, max_depth=4\n",
      "[10:36:30] src/tree/updater_prune.cc:74: tree pruning end, 1 roots, 0 extra nodes, 8 pruned nodes, max_depth=0\n",
      "[10:36:30] src/tree/updater_prune.cc:74: tree pruning end, 1 roots, 0 extra nodes, 12 pruned nodes, max_depth=0\n",
      "[10:36:30] src/tree/updater_prune.cc:74: tree pruning end, 1 roots, 0 extra nodes, 20 pruned nodes, max_depth=0\n",
      "[10:36:30] src/tree/updater_prune.cc:74: tree pruning end, 1 roots, 0 extra nodes, 8 pruned nodes, max_depth=0\n",
      "[10:36:30] src/tree/updater_prune.cc:74: tree pruning end, 1 roots, 0 extra nodes, 10 pruned nodes, max_depth=0\n",
      "[10:36:30] src/tree/updater_prune.cc:74: tree pruning end, 1 roots, 0 extra nodes, 10 pruned nodes, max_depth=0\n",
      "[10:36:30] src/tree/updater_prune.cc:74: tree pruning end, 1 roots, 0 extra nodes, 8 pruned nodes, max_depth=0\n",
      "[10:36:30] src/tree/updater_prune.cc:74: tree pruning end, 1 roots, 0 extra nodes, 28 pruned nodes, max_depth=0\n",
      "[10:36:30] src/tree/updater_prune.cc:74: tree pruning end, 1 roots, 10 extra nodes, 16 pruned nodes, max_depth=5\n",
      "| \u001b[0m 4       \u001b[0m | \u001b[0m 0.9961  \u001b[0m | \u001b[0m 16.39   \u001b[0m | \u001b[0m 0.8288  \u001b[0m | \u001b[0m 0.7316  \u001b[0m | \u001b[0m 5.122   \u001b[0m | \u001b[0m 137.8   \u001b[0m |\n",
      "[10:36:30] src/tree/updater_prune.cc:74: tree pruning end, 1 roots, 32 extra nodes, 0 pruned nodes, max_depth=5\n",
      "[10:36:30] src/tree/updater_prune.cc:74: tree pruning end, 1 roots, 34 extra nodes, 0 pruned nodes, max_depth=5\n",
      "[10:36:30] src/tree/updater_prune.cc:74: tree pruning end, 1 roots, 30 extra nodes, 2 pruned nodes, max_depth=5\n",
      "[10:36:30] src/tree/updater_prune.cc:74: tree pruning end, 1 roots, 26 extra nodes, 2 pruned nodes, max_depth=5\n",
      "[10:36:30] src/tree/updater_prune.cc:74: tree pruning end, 1 roots, 26 extra nodes, 2 pruned nodes, max_depth=5\n",
      "[10:36:30] src/tree/updater_prune.cc:74: tree pruning end, 1 roots, 32 extra nodes, 2 pruned nodes, max_depth=5\n",
      "[10:36:30] src/tree/updater_prune.cc:74: tree pruning end, 1 roots, 30 extra nodes, 0 pruned nodes, max_depth=5\n",
      "[10:36:30] src/tree/updater_prune.cc:74: tree pruning end, 1 roots, 32 extra nodes, 0 pruned nodes, max_depth=5\n",
      "[10:36:30] src/tree/updater_prune.cc:74: tree pruning end, 1 roots, 34 extra nodes, 0 pruned nodes, max_depth=5\n",
      "[10:36:30] src/tree/updater_prune.cc:74: tree pruning end, 1 roots, 32 extra nodes, 2 pruned nodes, max_depth=5\n",
      "[10:36:30] src/tree/updater_prune.cc:74: tree pruning end, 1 roots, 28 extra nodes, 8 pruned nodes, max_depth=5\n",
      "[10:36:30] src/tree/updater_prune.cc:74: tree pruning end, 1 roots, 24 extra nodes, 6 pruned nodes, max_depth=5\n",
      "[10:36:30] src/tree/updater_prune.cc:74: tree pruning end, 1 roots, 32 extra nodes, 0 pruned nodes, max_depth=5\n",
      "[10:36:30] src/tree/updater_prune.cc:74: tree pruning end, 1 roots, 32 extra nodes, 0 pruned nodes, max_depth=5\n",
      "[10:36:30] src/tree/updater_prune.cc:74: tree pruning end, 1 roots, 26 extra nodes, 4 pruned nodes, max_depth=5\n",
      "[10:36:30] src/tree/updater_prune.cc:74: tree pruning end, 1 roots, 28 extra nodes, 2 pruned nodes, max_depth=5\n",
      "[10:36:30] src/tree/updater_prune.cc:74: tree pruning end, 1 roots, 26 extra nodes, 6 pruned nodes, max_depth=5\n",
      "[10:36:30] src/tree/updater_prune.cc:74: tree pruning end, 1 roots, 32 extra nodes, 8 pruned nodes, max_depth=5\n",
      "[10:36:30] src/tree/updater_prune.cc:74: tree pruning end, 1 roots, 30 extra nodes, 6 pruned nodes, max_depth=5\n",
      "[10:36:30] src/tree/updater_prune.cc:74: tree pruning end, 1 roots, 28 extra nodes, 14 pruned nodes, max_depth=5\n",
      "[10:36:30] src/tree/updater_prune.cc:74: tree pruning end, 1 roots, 24 extra nodes, 8 pruned nodes, max_depth=5\n",
      "[10:36:30] src/tree/updater_prune.cc:74: tree pruning end, 1 roots, 26 extra nodes, 10 pruned nodes, max_depth=5\n",
      "[10:36:30] src/tree/updater_prune.cc:74: tree pruning end, 1 roots, 20 extra nodes, 10 pruned nodes, max_depth=5\n",
      "[10:36:30] src/tree/updater_prune.cc:74: tree pruning end, 1 roots, 18 extra nodes, 8 pruned nodes, max_depth=5\n",
      "[10:36:30] src/tree/updater_prune.cc:74: tree pruning end, 1 roots, 18 extra nodes, 14 pruned nodes, max_depth=5\n",
      "[10:36:30] src/tree/updater_prune.cc:74: tree pruning end, 1 roots, 22 extra nodes, 12 pruned nodes, max_depth=5\n",
      "[10:36:30] src/tree/updater_prune.cc:74: tree pruning end, 1 roots, 16 extra nodes, 16 pruned nodes, max_depth=5\n",
      "[10:36:30] src/tree/updater_prune.cc:74: tree pruning end, 1 roots, 22 extra nodes, 6 pruned nodes, max_depth=5\n",
      "[10:36:30] src/tree/updater_prune.cc:74: tree pruning end, 1 roots, 24 extra nodes, 18 pruned nodes, max_depth=5\n",
      "[10:36:30] src/tree/updater_prune.cc:74: tree pruning end, 1 roots, 36 extra nodes, 16 pruned nodes, max_depth=5\n",
      "[10:36:30] src/tree/updater_prune.cc:74: tree pruning end, 1 roots, 16 extra nodes, 10 pruned nodes, max_depth=5\n",
      "[10:36:30] src/tree/updater_prune.cc:74: tree pruning end, 1 roots, 24 extra nodes, 14 pruned nodes, max_depth=5\n",
      "[10:36:30] src/tree/updater_prune.cc:74: tree pruning end, 1 roots, 16 extra nodes, 20 pruned nodes, max_depth=5\n",
      "[10:36:30] src/tree/updater_prune.cc:74: tree pruning end, 1 roots, 22 extra nodes, 14 pruned nodes, max_depth=5\n",
      "[10:36:30] src/tree/updater_prune.cc:74: tree pruning end, 1 roots, 6 extra nodes, 20 pruned nodes, max_depth=3\n",
      "[10:36:30] src/tree/updater_prune.cc:74: tree pruning end, 1 roots, 10 extra nodes, 14 pruned nodes, max_depth=4\n",
      "[10:36:30] src/tree/updater_prune.cc:74: tree pruning end, 1 roots, 26 extra nodes, 14 pruned nodes, max_depth=5\n",
      "[10:36:30] src/tree/updater_prune.cc:74: tree pruning end, 1 roots, 26 extra nodes, 16 pruned nodes, max_depth=5\n",
      "[10:36:30] src/tree/updater_prune.cc:74: tree pruning end, 1 roots, 16 extra nodes, 24 pruned nodes, max_depth=5\n",
      "[10:36:30] src/tree/updater_prune.cc:74: tree pruning end, 1 roots, 10 extra nodes, 16 pruned nodes, max_depth=5\n",
      "[10:36:30] src/tree/updater_prune.cc:74: tree pruning end, 1 roots, 14 extra nodes, 18 pruned nodes, max_depth=5\n",
      "[10:36:30] src/tree/updater_prune.cc:74: tree pruning end, 1 roots, 0 extra nodes, 28 pruned nodes, max_depth=0\n",
      "[10:36:30] src/tree/updater_prune.cc:74: tree pruning end, 1 roots, 24 extra nodes, 16 pruned nodes, max_depth=5\n",
      "[10:36:30] src/tree/updater_prune.cc:74: tree pruning end, 1 roots, 10 extra nodes, 40 pruned nodes, max_depth=4\n",
      "[10:36:30] src/tree/updater_prune.cc:74: tree pruning end, 1 roots, 14 extra nodes, 16 pruned nodes, max_depth=4\n",
      "[10:36:30] src/tree/updater_prune.cc:74: tree pruning end, 1 roots, 20 extra nodes, 20 pruned nodes, max_depth=5\n",
      "[10:36:30] src/tree/updater_prune.cc:74: tree pruning end, 1 roots, 14 extra nodes, 26 pruned nodes, max_depth=5\n",
      "[10:36:30] src/tree/updater_prune.cc:74: tree pruning end, 1 roots, 10 extra nodes, 14 pruned nodes, max_depth=5\n",
      "[10:36:30] src/tree/updater_prune.cc:74: tree pruning end, 1 roots, 28 extra nodes, 16 pruned nodes, max_depth=5\n",
      "[10:36:30] src/tree/updater_prune.cc:74: tree pruning end, 1 roots, 16 extra nodes, 30 pruned nodes, max_depth=5\n",
      "| \u001b[0m 5       \u001b[0m | \u001b[0m 0.9966  \u001b[0m | \u001b[0m 4.194   \u001b[0m | \u001b[0m 0.07828 \u001b[0m | \u001b[0m 0.7029  \u001b[0m | \u001b[0m 5.558   \u001b[0m | \u001b[0m 277.8   \u001b[0m |\n",
      "[10:36:30] src/tree/updater_prune.cc:74: tree pruning end, 1 roots, 26 extra nodes, 0 pruned nodes, max_depth=4\n",
      "[10:36:30] src/tree/updater_prune.cc:74: tree pruning end, 1 roots, 24 extra nodes, 4 pruned nodes, max_depth=4\n",
      "[10:36:30] src/tree/updater_prune.cc:74: tree pruning end, 1 roots, 26 extra nodes, 2 pruned nodes, max_depth=4\n",
      "[10:36:30] src/tree/updater_prune.cc:74: tree pruning end, 1 roots, 26 extra nodes, 2 pruned nodes, max_depth=4\n",
      "[10:36:30] src/tree/updater_prune.cc:74: tree pruning end, 1 roots, 24 extra nodes, 2 pruned nodes, max_depth=4\n",
      "[10:36:30] src/tree/updater_prune.cc:74: tree pruning end, 1 roots, 20 extra nodes, 4 pruned nodes, max_depth=4\n",
      "[10:36:30] src/tree/updater_prune.cc:74: tree pruning end, 1 roots, 24 extra nodes, 2 pruned nodes, max_depth=4\n",
      "[10:36:30] src/tree/updater_prune.cc:74: tree pruning end, 1 roots, 26 extra nodes, 2 pruned nodes, max_depth=4\n",
      "[10:36:30] src/tree/updater_prune.cc:74: tree pruning end, 1 roots, 22 extra nodes, 2 pruned nodes, max_depth=4\n",
      "[10:36:30] src/tree/updater_prune.cc:74: tree pruning end, 1 roots, 22 extra nodes, 2 pruned nodes, max_depth=4\n",
      "[10:36:30] src/tree/updater_prune.cc:74: tree pruning end, 1 roots, 18 extra nodes, 6 pruned nodes, max_depth=4\n",
      "[10:36:30] src/tree/updater_prune.cc:74: tree pruning end, 1 roots, 16 extra nodes, 8 pruned nodes, max_depth=4\n",
      "[10:36:30] src/tree/updater_prune.cc:74: tree pruning end, 1 roots, 20 extra nodes, 2 pruned nodes, max_depth=4\n",
      "[10:36:30] src/tree/updater_prune.cc:74: tree pruning end, 1 roots, 22 extra nodes, 6 pruned nodes, max_depth=4\n",
      "[10:36:30] src/tree/updater_prune.cc:74: tree pruning end, 1 roots, 20 extra nodes, 4 pruned nodes, max_depth=4\n",
      "[10:36:31] src/tree/updater_prune.cc:74: tree pruning end, 1 roots, 20 extra nodes, 4 pruned nodes, max_depth=4\n",
      "[10:36:31] src/tree/updater_prune.cc:74: tree pruning end, 1 roots, 18 extra nodes, 10 pruned nodes, max_depth=4\n",
      "[10:36:31] src/tree/updater_prune.cc:74: tree pruning end, 1 roots, 20 extra nodes, 4 pruned nodes, max_depth=4\n",
      "[10:36:31] src/tree/updater_prune.cc:74: tree pruning end, 1 roots, 18 extra nodes, 4 pruned nodes, max_depth=4\n",
      "[10:36:31] src/tree/updater_prune.cc:74: tree pruning end, 1 roots, 16 extra nodes, 6 pruned nodes, max_depth=4\n",
      "[10:36:31] src/tree/updater_prune.cc:74: tree pruning end, 1 roots, 18 extra nodes, 8 pruned nodes, max_depth=4\n",
      "[10:36:31] src/tree/updater_prune.cc:74: tree pruning end, 1 roots, 18 extra nodes, 6 pruned nodes, max_depth=4\n",
      "[10:36:31] src/tree/updater_prune.cc:74: tree pruning end, 1 roots, 20 extra nodes, 10 pruned nodes, max_depth=4\n",
      "[10:36:31] src/tree/updater_prune.cc:74: tree pruning end, 1 roots, 12 extra nodes, 10 pruned nodes, max_depth=4\n",
      "[10:36:31] src/tree/updater_prune.cc:74: tree pruning end, 1 roots, 14 extra nodes, 10 pruned nodes, max_depth=4\n",
      "[10:36:31] src/tree/updater_prune.cc:74: tree pruning end, 1 roots, 16 extra nodes, 12 pruned nodes, max_depth=4\n",
      "[10:36:31] src/tree/updater_prune.cc:74: tree pruning end, 1 roots, 14 extra nodes, 14 pruned nodes, max_depth=4\n",
      "[10:36:31] src/tree/updater_prune.cc:74: tree pruning end, 1 roots, 14 extra nodes, 16 pruned nodes, max_depth=4\n",
      "[10:36:31] src/tree/updater_prune.cc:74: tree pruning end, 1 roots, 22 extra nodes, 8 pruned nodes, max_depth=4\n",
      "[10:36:31] src/tree/updater_prune.cc:74: tree pruning end, 1 roots, 20 extra nodes, 8 pruned nodes, max_depth=4\n",
      "[10:36:31] src/tree/updater_prune.cc:74: tree pruning end, 1 roots, 12 extra nodes, 18 pruned nodes, max_depth=4\n",
      "[10:36:31] src/tree/updater_prune.cc:74: tree pruning end, 1 roots, 16 extra nodes, 14 pruned nodes, max_depth=4\n",
      "[10:36:31] src/tree/updater_prune.cc:74: tree pruning end, 1 roots, 12 extra nodes, 16 pruned nodes, max_depth=4\n",
      "[10:36:31] src/tree/updater_prune.cc:74: tree pruning end, 1 roots, 8 extra nodes, 22 pruned nodes, max_depth=4\n",
      "[10:36:31] src/tree/updater_prune.cc:74: tree pruning end, 1 roots, 6 extra nodes, 22 pruned nodes, max_depth=3\n",
      "[10:36:31] src/tree/updater_prune.cc:74: tree pruning end, 1 roots, 0 extra nodes, 28 pruned nodes, max_depth=0\n",
      "[10:36:31] src/tree/updater_prune.cc:74: tree pruning end, 1 roots, 8 extra nodes, 20 pruned nodes, max_depth=4\n",
      "[10:36:31] src/tree/updater_prune.cc:74: tree pruning end, 1 roots, 8 extra nodes, 20 pruned nodes, max_depth=4\n",
      "[10:36:31] src/tree/updater_prune.cc:74: tree pruning end, 1 roots, 2 extra nodes, 14 pruned nodes, max_depth=1\n",
      "[10:36:31] src/tree/updater_prune.cc:74: tree pruning end, 1 roots, 14 extra nodes, 12 pruned nodes, max_depth=4\n",
      "[10:36:31] src/tree/updater_prune.cc:74: tree pruning end, 1 roots, 8 extra nodes, 20 pruned nodes, max_depth=4\n",
      "[10:36:31] src/tree/updater_prune.cc:74: tree pruning end, 1 roots, 0 extra nodes, 28 pruned nodes, max_depth=0\n",
      "[10:36:31] src/tree/updater_prune.cc:74: tree pruning end, 1 roots, 0 extra nodes, 28 pruned nodes, max_depth=0\n",
      "[10:36:31] src/tree/updater_prune.cc:74: tree pruning end, 1 roots, 0 extra nodes, 28 pruned nodes, max_depth=0\n",
      "[10:36:31] src/tree/updater_prune.cc:74: tree pruning end, 1 roots, 0 extra nodes, 28 pruned nodes, max_depth=0\n",
      "[10:36:31] src/tree/updater_prune.cc:74: tree pruning end, 1 roots, 0 extra nodes, 28 pruned nodes, max_depth=0\n",
      "[10:36:31] src/tree/updater_prune.cc:74: tree pruning end, 1 roots, 0 extra nodes, 28 pruned nodes, max_depth=0\n",
      "[10:36:31] src/tree/updater_prune.cc:74: tree pruning end, 1 roots, 0 extra nodes, 26 pruned nodes, max_depth=0\n",
      "[10:36:31] src/tree/updater_prune.cc:74: tree pruning end, 1 roots, 0 extra nodes, 28 pruned nodes, max_depth=0\n",
      "[10:36:31] src/tree/updater_prune.cc:74: tree pruning end, 1 roots, 0 extra nodes, 28 pruned nodes, max_depth=0\n",
      "| \u001b[95m 6       \u001b[0m | \u001b[95m 0.9967  \u001b[0m | \u001b[95m 2.143   \u001b[0m | \u001b[95m 0.8366  \u001b[0m | \u001b[95m 0.4717  \u001b[0m | \u001b[95m 4.046   \u001b[0m | \u001b[95m 228.6   \u001b[0m |\n",
      "[10:36:31] src/tree/updater_prune.cc:74: tree pruning end, 1 roots, 18 extra nodes, 0 pruned nodes, max_depth=5\n",
      "[10:36:31] src/tree/updater_prune.cc:74: tree pruning end, 1 roots, 16 extra nodes, 0 pruned nodes, max_depth=4\n",
      "[10:36:31] src/tree/updater_prune.cc:74: tree pruning end, 1 roots, 14 extra nodes, 0 pruned nodes, max_depth=4\n",
      "[10:36:31] src/tree/updater_prune.cc:74: tree pruning end, 1 roots, 18 extra nodes, 0 pruned nodes, max_depth=5\n",
      "[10:36:31] src/tree/updater_prune.cc:74: tree pruning end, 1 roots, 16 extra nodes, 2 pruned nodes, max_depth=4\n",
      "[10:36:31] src/tree/updater_prune.cc:74: tree pruning end, 1 roots, 16 extra nodes, 0 pruned nodes, max_depth=4\n",
      "[10:36:31] src/tree/updater_prune.cc:74: tree pruning end, 1 roots, 16 extra nodes, 0 pruned nodes, max_depth=5\n",
      "[10:36:31] src/tree/updater_prune.cc:74: tree pruning end, 1 roots, 14 extra nodes, 0 pruned nodes, max_depth=4\n",
      "[10:36:31] src/tree/updater_prune.cc:74: tree pruning end, 1 roots, 20 extra nodes, 0 pruned nodes, max_depth=5\n",
      "[10:36:31] src/tree/updater_prune.cc:74: tree pruning end, 1 roots, 16 extra nodes, 0 pruned nodes, max_depth=4\n",
      "[10:36:31] src/tree/updater_prune.cc:74: tree pruning end, 1 roots, 12 extra nodes, 2 pruned nodes, max_depth=5\n",
      "[10:36:31] src/tree/updater_prune.cc:74: tree pruning end, 1 roots, 18 extra nodes, 0 pruned nodes, max_depth=5\n",
      "[10:36:31] src/tree/updater_prune.cc:74: tree pruning end, 1 roots, 18 extra nodes, 0 pruned nodes, max_depth=5\n",
      "[10:36:31] src/tree/updater_prune.cc:74: tree pruning end, 1 roots, 18 extra nodes, 0 pruned nodes, max_depth=5\n",
      "[10:36:31] src/tree/updater_prune.cc:74: tree pruning end, 1 roots, 18 extra nodes, 0 pruned nodes, max_depth=5\n",
      "[10:36:31] src/tree/updater_prune.cc:74: tree pruning end, 1 roots, 10 extra nodes, 0 pruned nodes, max_depth=4\n",
      "[10:36:31] src/tree/updater_prune.cc:74: tree pruning end, 1 roots, 16 extra nodes, 0 pruned nodes, max_depth=5\n",
      "[10:36:31] src/tree/updater_prune.cc:74: tree pruning end, 1 roots, 10 extra nodes, 0 pruned nodes, max_depth=4\n",
      "[10:36:31] src/tree/updater_prune.cc:74: tree pruning end, 1 roots, 12 extra nodes, 0 pruned nodes, max_depth=3\n",
      "[10:36:31] src/tree/updater_prune.cc:74: tree pruning end, 1 roots, 12 extra nodes, 0 pruned nodes, max_depth=4\n",
      "[10:36:31] src/tree/updater_prune.cc:74: tree pruning end, 1 roots, 10 extra nodes, 0 pruned nodes, max_depth=4\n",
      "[10:36:31] src/tree/updater_prune.cc:74: tree pruning end, 1 roots, 8 extra nodes, 0 pruned nodes, max_depth=4\n",
      "[10:36:31] src/tree/updater_prune.cc:74: tree pruning end, 1 roots, 18 extra nodes, 0 pruned nodes, max_depth=4\n",
      "[10:36:31] src/tree/updater_prune.cc:74: tree pruning end, 1 roots, 12 extra nodes, 0 pruned nodes, max_depth=4\n",
      "[10:36:31] src/tree/updater_prune.cc:74: tree pruning end, 1 roots, 8 extra nodes, 0 pruned nodes, max_depth=4\n",
      "[10:36:31] src/tree/updater_prune.cc:74: tree pruning end, 1 roots, 14 extra nodes, 0 pruned nodes, max_depth=4\n",
      "[10:36:31] src/tree/updater_prune.cc:74: tree pruning end, 1 roots, 14 extra nodes, 0 pruned nodes, max_depth=4\n",
      "[10:36:31] src/tree/updater_prune.cc:74: tree pruning end, 1 roots, 12 extra nodes, 0 pruned nodes, max_depth=4\n",
      "[10:36:31] src/tree/updater_prune.cc:74: tree pruning end, 1 roots, 8 extra nodes, 0 pruned nodes, max_depth=4\n",
      "[10:36:31] src/tree/updater_prune.cc:74: tree pruning end, 1 roots, 12 extra nodes, 0 pruned nodes, max_depth=4\n",
      "[10:36:31] src/tree/updater_prune.cc:74: tree pruning end, 1 roots, 16 extra nodes, 0 pruned nodes, max_depth=4\n",
      "[10:36:31] src/tree/updater_prune.cc:74: tree pruning end, 1 roots, 14 extra nodes, 2 pruned nodes, max_depth=4\n",
      "[10:36:31] src/tree/updater_prune.cc:74: tree pruning end, 1 roots, 18 extra nodes, 2 pruned nodes, max_depth=5\n",
      "[10:36:31] src/tree/updater_prune.cc:74: tree pruning end, 1 roots, 14 extra nodes, 4 pruned nodes, max_depth=5\n",
      "[10:36:31] src/tree/updater_prune.cc:74: tree pruning end, 1 roots, 12 extra nodes, 0 pruned nodes, max_depth=4\n",
      "[10:36:31] src/tree/updater_prune.cc:74: tree pruning end, 1 roots, 14 extra nodes, 0 pruned nodes, max_depth=5\n",
      "[10:36:31] src/tree/updater_prune.cc:74: tree pruning end, 1 roots, 14 extra nodes, 2 pruned nodes, max_depth=5\n",
      "[10:36:31] src/tree/updater_prune.cc:74: tree pruning end, 1 roots, 8 extra nodes, 4 pruned nodes, max_depth=3\n",
      "[10:36:31] src/tree/updater_prune.cc:74: tree pruning end, 1 roots, 10 extra nodes, 2 pruned nodes, max_depth=4\n",
      "[10:36:31] src/tree/updater_prune.cc:74: tree pruning end, 1 roots, 14 extra nodes, 0 pruned nodes, max_depth=5\n",
      "[10:36:31] src/tree/updater_prune.cc:74: tree pruning end, 1 roots, 6 extra nodes, 4 pruned nodes, max_depth=3\n",
      "[10:36:31] src/tree/updater_prune.cc:74: tree pruning end, 1 roots, 10 extra nodes, 4 pruned nodes, max_depth=5\n",
      "[10:36:31] src/tree/updater_prune.cc:74: tree pruning end, 1 roots, 12 extra nodes, 6 pruned nodes, max_depth=5\n",
      "[10:36:31] src/tree/updater_prune.cc:74: tree pruning end, 1 roots, 8 extra nodes, 0 pruned nodes, max_depth=3\n",
      "[10:36:31] src/tree/updater_prune.cc:74: tree pruning end, 1 roots, 14 extra nodes, 2 pruned nodes, max_depth=4\n",
      "[10:36:31] src/tree/updater_prune.cc:74: tree pruning end, 1 roots, 6 extra nodes, 4 pruned nodes, max_depth=2\n",
      "[10:36:31] src/tree/updater_prune.cc:74: tree pruning end, 1 roots, 10 extra nodes, 6 pruned nodes, max_depth=4\n",
      "[10:36:31] src/tree/updater_prune.cc:74: tree pruning end, 1 roots, 12 extra nodes, 8 pruned nodes, max_depth=6\n",
      "[10:36:31] src/tree/updater_prune.cc:74: tree pruning end, 1 roots, 12 extra nodes, 8 pruned nodes, max_depth=5\n",
      "[10:36:31] src/tree/updater_prune.cc:74: tree pruning end, 1 roots, 12 extra nodes, 2 pruned nodes, max_depth=4\n",
      "| \u001b[0m 7       \u001b[0m | \u001b[0m 0.9966  \u001b[0m | \u001b[0m 19.35   \u001b[0m | \u001b[0m 0.05928 \u001b[0m | \u001b[0m 0.4486  \u001b[0m | \u001b[0m 9.932   \u001b[0m | \u001b[0m 249.4   \u001b[0m |\n",
      "[10:36:31] src/tree/updater_prune.cc:74: tree pruning end, 1 roots, 14 extra nodes, 4 pruned nodes, max_depth=4\n",
      "[10:36:31] src/tree/updater_prune.cc:74: tree pruning end, 1 roots, 16 extra nodes, 0 pruned nodes, max_depth=4\n",
      "[10:36:31] src/tree/updater_prune.cc:74: tree pruning end, 1 roots, 14 extra nodes, 0 pruned nodes, max_depth=4\n",
      "[10:36:31] src/tree/updater_prune.cc:74: tree pruning end, 1 roots, 14 extra nodes, 4 pruned nodes, max_depth=4\n",
      "[10:36:31] src/tree/updater_prune.cc:74: tree pruning end, 1 roots, 14 extra nodes, 4 pruned nodes, max_depth=4\n",
      "[10:36:31] src/tree/updater_prune.cc:74: tree pruning end, 1 roots, 8 extra nodes, 2 pruned nodes, max_depth=3\n",
      "[10:36:31] src/tree/updater_prune.cc:74: tree pruning end, 1 roots, 12 extra nodes, 4 pruned nodes, max_depth=3\n",
      "[10:36:32] src/tree/updater_prune.cc:74: tree pruning end, 1 roots, 14 extra nodes, 2 pruned nodes, max_depth=4\n",
      "[10:36:32] src/tree/updater_prune.cc:74: tree pruning end, 1 roots, 16 extra nodes, 6 pruned nodes, max_depth=5\n",
      "[10:36:32] src/tree/updater_prune.cc:74: tree pruning end, 1 roots, 12 extra nodes, 2 pruned nodes, max_depth=3\n",
      "[10:36:32] src/tree/updater_prune.cc:74: tree pruning end, 1 roots, 14 extra nodes, 4 pruned nodes, max_depth=4\n",
      "[10:36:32] src/tree/updater_prune.cc:74: tree pruning end, 1 roots, 18 extra nodes, 0 pruned nodes, max_depth=5\n",
      "[10:36:32] src/tree/updater_prune.cc:74: tree pruning end, 1 roots, 16 extra nodes, 0 pruned nodes, max_depth=4\n",
      "[10:36:32] src/tree/updater_prune.cc:74: tree pruning end, 1 roots, 14 extra nodes, 2 pruned nodes, max_depth=4\n",
      "[10:36:32] src/tree/updater_prune.cc:74: tree pruning end, 1 roots, 20 extra nodes, 2 pruned nodes, max_depth=5\n",
      "[10:36:32] src/tree/updater_prune.cc:74: tree pruning end, 1 roots, 8 extra nodes, 0 pruned nodes, max_depth=3\n",
      "[10:36:32] src/tree/updater_prune.cc:74: tree pruning end, 1 roots, 14 extra nodes, 0 pruned nodes, max_depth=4\n",
      "[10:36:32] src/tree/updater_prune.cc:74: tree pruning end, 1 roots, 14 extra nodes, 2 pruned nodes, max_depth=4\n",
      "[10:36:32] src/tree/updater_prune.cc:74: tree pruning end, 1 roots, 8 extra nodes, 2 pruned nodes, max_depth=3\n",
      "[10:36:32] src/tree/updater_prune.cc:74: tree pruning end, 1 roots, 10 extra nodes, 6 pruned nodes, max_depth=4\n",
      "[10:36:32] src/tree/updater_prune.cc:74: tree pruning end, 1 roots, 6 extra nodes, 4 pruned nodes, max_depth=3\n",
      "[10:36:32] src/tree/updater_prune.cc:74: tree pruning end, 1 roots, 14 extra nodes, 4 pruned nodes, max_depth=5\n",
      "[10:36:32] src/tree/updater_prune.cc:74: tree pruning end, 1 roots, 12 extra nodes, 6 pruned nodes, max_depth=4\n",
      "[10:36:32] src/tree/updater_prune.cc:74: tree pruning end, 1 roots, 12 extra nodes, 0 pruned nodes, max_depth=4\n",
      "[10:36:32] src/tree/updater_prune.cc:74: tree pruning end, 1 roots, 10 extra nodes, 2 pruned nodes, max_depth=4\n",
      "[10:36:32] src/tree/updater_prune.cc:74: tree pruning end, 1 roots, 10 extra nodes, 2 pruned nodes, max_depth=4\n",
      "[10:36:32] src/tree/updater_prune.cc:74: tree pruning end, 1 roots, 6 extra nodes, 8 pruned nodes, max_depth=3\n",
      "[10:36:32] src/tree/updater_prune.cc:74: tree pruning end, 1 roots, 14 extra nodes, 4 pruned nodes, max_depth=5\n",
      "[10:36:32] src/tree/updater_prune.cc:74: tree pruning end, 1 roots, 6 extra nodes, 2 pruned nodes, max_depth=3\n",
      "[10:36:32] src/tree/updater_prune.cc:74: tree pruning end, 1 roots, 10 extra nodes, 2 pruned nodes, max_depth=3\n",
      "[10:36:32] src/tree/updater_prune.cc:74: tree pruning end, 1 roots, 14 extra nodes, 2 pruned nodes, max_depth=4\n",
      "[10:36:32] src/tree/updater_prune.cc:74: tree pruning end, 1 roots, 14 extra nodes, 2 pruned nodes, max_depth=4\n",
      "[10:36:32] src/tree/updater_prune.cc:74: tree pruning end, 1 roots, 10 extra nodes, 4 pruned nodes, max_depth=3\n",
      "[10:36:32] src/tree/updater_prune.cc:74: tree pruning end, 1 roots, 14 extra nodes, 6 pruned nodes, max_depth=4\n",
      "[10:36:32] src/tree/updater_prune.cc:74: tree pruning end, 1 roots, 12 extra nodes, 2 pruned nodes, max_depth=3\n",
      "[10:36:32] src/tree/updater_prune.cc:74: tree pruning end, 1 roots, 8 extra nodes, 2 pruned nodes, max_depth=3\n",
      "[10:36:32] src/tree/updater_prune.cc:74: tree pruning end, 1 roots, 8 extra nodes, 4 pruned nodes, max_depth=3\n",
      "[10:36:32] src/tree/updater_prune.cc:74: tree pruning end, 1 roots, 6 extra nodes, 2 pruned nodes, max_depth=3\n",
      "[10:36:32] src/tree/updater_prune.cc:74: tree pruning end, 1 roots, 14 extra nodes, 2 pruned nodes, max_depth=5\n",
      "[10:36:32] src/tree/updater_prune.cc:74: tree pruning end, 1 roots, 8 extra nodes, 8 pruned nodes, max_depth=3\n",
      "[10:36:32] src/tree/updater_prune.cc:74: tree pruning end, 1 roots, 6 extra nodes, 4 pruned nodes, max_depth=3\n",
      "[10:36:32] src/tree/updater_prune.cc:74: tree pruning end, 1 roots, 8 extra nodes, 10 pruned nodes, max_depth=4\n",
      "[10:36:32] src/tree/updater_prune.cc:74: tree pruning end, 1 roots, 12 extra nodes, 6 pruned nodes, max_depth=4\n",
      "[10:36:32] src/tree/updater_prune.cc:74: tree pruning end, 1 roots, 8 extra nodes, 10 pruned nodes, max_depth=3\n",
      "[10:36:32] src/tree/updater_prune.cc:74: tree pruning end, 1 roots, 12 extra nodes, 2 pruned nodes, max_depth=6\n",
      "[10:36:32] src/tree/updater_prune.cc:74: tree pruning end, 1 roots, 8 extra nodes, 4 pruned nodes, max_depth=3\n",
      "[10:36:32] src/tree/updater_prune.cc:74: tree pruning end, 1 roots, 10 extra nodes, 6 pruned nodes, max_depth=4\n",
      "[10:36:32] src/tree/updater_prune.cc:74: tree pruning end, 1 roots, 4 extra nodes, 14 pruned nodes, max_depth=2\n",
      "[10:36:32] src/tree/updater_prune.cc:74: tree pruning end, 1 roots, 6 extra nodes, 4 pruned nodes, max_depth=3\n",
      "[10:36:32] src/tree/updater_prune.cc:74: tree pruning end, 1 roots, 10 extra nodes, 6 pruned nodes, max_depth=5\n",
      "| \u001b[0m 8       \u001b[0m | \u001b[0m 0.9963  \u001b[0m | \u001b[0m 19.96   \u001b[0m | \u001b[0m 0.8009  \u001b[0m | \u001b[0m 0.3505  \u001b[0m | \u001b[0m 8.895   \u001b[0m | \u001b[0m 327.5   \u001b[0m |\n",
      "[10:36:32] src/tree/updater_prune.cc:74: tree pruning end, 1 roots, 66 extra nodes, 14 pruned nodes, max_depth=8\n",
      "[10:36:32] src/tree/updater_prune.cc:74: tree pruning end, 1 roots, 66 extra nodes, 16 pruned nodes, max_depth=7\n",
      "[10:36:32] src/tree/updater_prune.cc:74: tree pruning end, 1 roots, 58 extra nodes, 10 pruned nodes, max_depth=7\n",
      "[10:36:32] src/tree/updater_prune.cc:74: tree pruning end, 1 roots, 62 extra nodes, 10 pruned nodes, max_depth=8\n",
      "[10:36:32] src/tree/updater_prune.cc:74: tree pruning end, 1 roots, 78 extra nodes, 8 pruned nodes, max_depth=8\n",
      "[10:36:32] src/tree/updater_prune.cc:74: tree pruning end, 1 roots, 36 extra nodes, 10 pruned nodes, max_depth=6\n",
      "[10:36:32] src/tree/updater_prune.cc:74: tree pruning end, 1 roots, 54 extra nodes, 20 pruned nodes, max_depth=7\n",
      "[10:36:32] src/tree/updater_prune.cc:74: tree pruning end, 1 roots, 50 extra nodes, 14 pruned nodes, max_depth=8\n",
      "[10:36:32] src/tree/updater_prune.cc:74: tree pruning end, 1 roots, 44 extra nodes, 8 pruned nodes, max_depth=7\n",
      "[10:36:32] src/tree/updater_prune.cc:74: tree pruning end, 1 roots, 42 extra nodes, 10 pruned nodes, max_depth=6\n",
      "[10:36:32] src/tree/updater_prune.cc:74: tree pruning end, 1 roots, 42 extra nodes, 14 pruned nodes, max_depth=6\n",
      "[10:36:32] src/tree/updater_prune.cc:74: tree pruning end, 1 roots, 48 extra nodes, 18 pruned nodes, max_depth=7\n",
      "[10:36:32] src/tree/updater_prune.cc:74: tree pruning end, 1 roots, 44 extra nodes, 14 pruned nodes, max_depth=8\n",
      "[10:36:32] src/tree/updater_prune.cc:74: tree pruning end, 1 roots, 50 extra nodes, 18 pruned nodes, max_depth=7\n",
      "[10:36:32] src/tree/updater_prune.cc:74: tree pruning end, 1 roots, 38 extra nodes, 20 pruned nodes, max_depth=6\n",
      "[10:36:32] src/tree/updater_prune.cc:74: tree pruning end, 1 roots, 46 extra nodes, 8 pruned nodes, max_depth=8\n",
      "[10:36:32] src/tree/updater_prune.cc:74: tree pruning end, 1 roots, 46 extra nodes, 14 pruned nodes, max_depth=7\n",
      "[10:36:32] src/tree/updater_prune.cc:74: tree pruning end, 1 roots, 40 extra nodes, 12 pruned nodes, max_depth=6\n",
      "[10:36:32] src/tree/updater_prune.cc:74: tree pruning end, 1 roots, 54 extra nodes, 20 pruned nodes, max_depth=8\n",
      "[10:36:32] src/tree/updater_prune.cc:74: tree pruning end, 1 roots, 46 extra nodes, 14 pruned nodes, max_depth=8\n",
      "[10:36:32] src/tree/updater_prune.cc:74: tree pruning end, 1 roots, 40 extra nodes, 18 pruned nodes, max_depth=8\n",
      "[10:36:32] src/tree/updater_prune.cc:74: tree pruning end, 1 roots, 32 extra nodes, 18 pruned nodes, max_depth=6\n",
      "[10:36:32] src/tree/updater_prune.cc:74: tree pruning end, 1 roots, 34 extra nodes, 16 pruned nodes, max_depth=7\n",
      "[10:36:32] src/tree/updater_prune.cc:74: tree pruning end, 1 roots, 36 extra nodes, 20 pruned nodes, max_depth=9\n",
      "[10:36:32] src/tree/updater_prune.cc:74: tree pruning end, 1 roots, 38 extra nodes, 16 pruned nodes, max_depth=6\n",
      "[10:36:32] src/tree/updater_prune.cc:74: tree pruning end, 1 roots, 44 extra nodes, 24 pruned nodes, max_depth=8\n",
      "[10:36:32] src/tree/updater_prune.cc:74: tree pruning end, 1 roots, 46 extra nodes, 36 pruned nodes, max_depth=8\n",
      "[10:36:32] src/tree/updater_prune.cc:74: tree pruning end, 1 roots, 36 extra nodes, 30 pruned nodes, max_depth=9\n",
      "[10:36:32] src/tree/updater_prune.cc:74: tree pruning end, 1 roots, 40 extra nodes, 40 pruned nodes, max_depth=7\n",
      "[10:36:32] src/tree/updater_prune.cc:74: tree pruning end, 1 roots, 42 extra nodes, 32 pruned nodes, max_depth=9\n",
      "[10:36:32] src/tree/updater_prune.cc:74: tree pruning end, 1 roots, 52 extra nodes, 38 pruned nodes, max_depth=7\n",
      "[10:36:32] src/tree/updater_prune.cc:74: tree pruning end, 1 roots, 34 extra nodes, 36 pruned nodes, max_depth=7\n",
      "[10:36:32] src/tree/updater_prune.cc:74: tree pruning end, 1 roots, 36 extra nodes, 40 pruned nodes, max_depth=9\n",
      "[10:36:32] src/tree/updater_prune.cc:74: tree pruning end, 1 roots, 32 extra nodes, 72 pruned nodes, max_depth=6\n",
      "[10:36:32] src/tree/updater_prune.cc:74: tree pruning end, 1 roots, 34 extra nodes, 34 pruned nodes, max_depth=7\n",
      "[10:36:32] src/tree/updater_prune.cc:74: tree pruning end, 1 roots, 40 extra nodes, 68 pruned nodes, max_depth=8\n",
      "[10:36:32] src/tree/updater_prune.cc:74: tree pruning end, 1 roots, 42 extra nodes, 36 pruned nodes, max_depth=8\n",
      "[10:36:32] src/tree/updater_prune.cc:74: tree pruning end, 1 roots, 30 extra nodes, 62 pruned nodes, max_depth=6\n",
      "[10:36:32] src/tree/updater_prune.cc:74: tree pruning end, 1 roots, 46 extra nodes, 38 pruned nodes, max_depth=8\n",
      "[10:36:32] src/tree/updater_prune.cc:74: tree pruning end, 1 roots, 38 extra nodes, 44 pruned nodes, max_depth=8\n",
      "[10:36:32] src/tree/updater_prune.cc:74: tree pruning end, 1 roots, 30 extra nodes, 46 pruned nodes, max_depth=8\n",
      "[10:36:33] src/tree/updater_prune.cc:74: tree pruning end, 1 roots, 26 extra nodes, 70 pruned nodes, max_depth=5\n",
      "[10:36:33] src/tree/updater_prune.cc:74: tree pruning end, 1 roots, 60 extra nodes, 64 pruned nodes, max_depth=7\n",
      "[10:36:33] src/tree/updater_prune.cc:74: tree pruning end, 1 roots, 36 extra nodes, 68 pruned nodes, max_depth=7\n",
      "[10:36:33] src/tree/updater_prune.cc:74: tree pruning end, 1 roots, 38 extra nodes, 70 pruned nodes, max_depth=7\n",
      "[10:36:33] src/tree/updater_prune.cc:74: tree pruning end, 1 roots, 26 extra nodes, 86 pruned nodes, max_depth=7\n",
      "[10:36:33] src/tree/updater_prune.cc:74: tree pruning end, 1 roots, 34 extra nodes, 48 pruned nodes, max_depth=9\n",
      "[10:36:33] src/tree/updater_prune.cc:74: tree pruning end, 1 roots, 56 extra nodes, 68 pruned nodes, max_depth=8\n",
      "[10:36:33] src/tree/updater_prune.cc:74: tree pruning end, 1 roots, 36 extra nodes, 62 pruned nodes, max_depth=7\n",
      "[10:36:33] src/tree/updater_prune.cc:74: tree pruning end, 1 roots, 48 extra nodes, 58 pruned nodes, max_depth=9\n",
      "| \u001b[0m 9       \u001b[0m | \u001b[0m 0.9966  \u001b[0m | \u001b[0m 2.255   \u001b[0m | \u001b[0m 0.1207  \u001b[0m | \u001b[0m 0.4335  \u001b[0m | \u001b[0m 9.666   \u001b[0m | \u001b[0m 197.8   \u001b[0m |\n",
      "[10:36:33] src/tree/updater_prune.cc:74: tree pruning end, 1 roots, 48 extra nodes, 32 pruned nodes, max_depth=7\n",
      "[10:36:33] src/tree/updater_prune.cc:74: tree pruning end, 1 roots, 44 extra nodes, 30 pruned nodes, max_depth=7\n",
      "[10:36:33] src/tree/updater_prune.cc:74: tree pruning end, 1 roots, 40 extra nodes, 20 pruned nodes, max_depth=6\n",
      "[10:36:33] src/tree/updater_prune.cc:74: tree pruning end, 1 roots, 52 extra nodes, 14 pruned nodes, max_depth=7\n",
      "[10:36:33] src/tree/updater_prune.cc:74: tree pruning end, 1 roots, 50 extra nodes, 22 pruned nodes, max_depth=8\n",
      "[10:36:33] src/tree/updater_prune.cc:74: tree pruning end, 1 roots, 44 extra nodes, 18 pruned nodes, max_depth=7\n",
      "[10:36:33] src/tree/updater_prune.cc:74: tree pruning end, 1 roots, 56 extra nodes, 26 pruned nodes, max_depth=7\n",
      "[10:36:33] src/tree/updater_prune.cc:74: tree pruning end, 1 roots, 54 extra nodes, 24 pruned nodes, max_depth=7\n",
      "[10:36:33] src/tree/updater_prune.cc:74: tree pruning end, 1 roots, 40 extra nodes, 14 pruned nodes, max_depth=7\n",
      "[10:36:33] src/tree/updater_prune.cc:74: tree pruning end, 1 roots, 44 extra nodes, 14 pruned nodes, max_depth=6\n",
      "[10:36:33] src/tree/updater_prune.cc:74: tree pruning end, 1 roots, 42 extra nodes, 18 pruned nodes, max_depth=7\n",
      "[10:36:33] src/tree/updater_prune.cc:74: tree pruning end, 1 roots, 48 extra nodes, 12 pruned nodes, max_depth=7\n",
      "[10:36:33] src/tree/updater_prune.cc:74: tree pruning end, 1 roots, 54 extra nodes, 12 pruned nodes, max_depth=7\n",
      "[10:36:33] src/tree/updater_prune.cc:74: tree pruning end, 1 roots, 46 extra nodes, 12 pruned nodes, max_depth=7\n",
      "[10:36:33] src/tree/updater_prune.cc:74: tree pruning end, 1 roots, 46 extra nodes, 6 pruned nodes, max_depth=7\n",
      "[10:36:33] src/tree/updater_prune.cc:74: tree pruning end, 1 roots, 46 extra nodes, 30 pruned nodes, max_depth=7\n",
      "[10:36:33] src/tree/updater_prune.cc:74: tree pruning end, 1 roots, 52 extra nodes, 20 pruned nodes, max_depth=7\n",
      "[10:36:33] src/tree/updater_prune.cc:74: tree pruning end, 1 roots, 52 extra nodes, 22 pruned nodes, max_depth=7\n",
      "[10:36:33] src/tree/updater_prune.cc:74: tree pruning end, 1 roots, 50 extra nodes, 10 pruned nodes, max_depth=7\n",
      "[10:36:33] src/tree/updater_prune.cc:74: tree pruning end, 1 roots, 38 extra nodes, 16 pruned nodes, max_depth=6\n",
      "[10:36:33] src/tree/updater_prune.cc:74: tree pruning end, 1 roots, 48 extra nodes, 20 pruned nodes, max_depth=7\n",
      "[10:36:33] src/tree/updater_prune.cc:74: tree pruning end, 1 roots, 64 extra nodes, 18 pruned nodes, max_depth=8\n",
      "[10:36:33] src/tree/updater_prune.cc:74: tree pruning end, 1 roots, 38 extra nodes, 16 pruned nodes, max_depth=6\n",
      "[10:36:33] src/tree/updater_prune.cc:74: tree pruning end, 1 roots, 44 extra nodes, 14 pruned nodes, max_depth=7\n",
      "[10:36:33] src/tree/updater_prune.cc:74: tree pruning end, 1 roots, 46 extra nodes, 22 pruned nodes, max_depth=7\n",
      "[10:36:33] src/tree/updater_prune.cc:74: tree pruning end, 1 roots, 42 extra nodes, 20 pruned nodes, max_depth=7\n",
      "[10:36:33] src/tree/updater_prune.cc:74: tree pruning end, 1 roots, 36 extra nodes, 32 pruned nodes, max_depth=7\n",
      "[10:36:33] src/tree/updater_prune.cc:74: tree pruning end, 1 roots, 38 extra nodes, 26 pruned nodes, max_depth=6\n",
      "[10:36:33] src/tree/updater_prune.cc:74: tree pruning end, 1 roots, 44 extra nodes, 6 pruned nodes, max_depth=7\n",
      "[10:36:33] src/tree/updater_prune.cc:74: tree pruning end, 1 roots, 40 extra nodes, 32 pruned nodes, max_depth=7\n",
      "[10:36:33] src/tree/updater_prune.cc:74: tree pruning end, 1 roots, 32 extra nodes, 24 pruned nodes, max_depth=6\n",
      "[10:36:33] src/tree/updater_prune.cc:74: tree pruning end, 1 roots, 36 extra nodes, 8 pruned nodes, max_depth=6\n",
      "[10:36:33] src/tree/updater_prune.cc:74: tree pruning end, 1 roots, 40 extra nodes, 12 pruned nodes, max_depth=6\n",
      "[10:36:33] src/tree/updater_prune.cc:74: tree pruning end, 1 roots, 48 extra nodes, 14 pruned nodes, max_depth=7\n",
      "[10:36:33] src/tree/updater_prune.cc:74: tree pruning end, 1 roots, 32 extra nodes, 14 pruned nodes, max_depth=6\n",
      "[10:36:33] src/tree/updater_prune.cc:74: tree pruning end, 1 roots, 38 extra nodes, 18 pruned nodes, max_depth=7\n",
      "[10:36:33] src/tree/updater_prune.cc:74: tree pruning end, 1 roots, 26 extra nodes, 16 pruned nodes, max_depth=6\n",
      "[10:36:33] src/tree/updater_prune.cc:74: tree pruning end, 1 roots, 42 extra nodes, 16 pruned nodes, max_depth=6\n",
      "[10:36:33] src/tree/updater_prune.cc:74: tree pruning end, 1 roots, 44 extra nodes, 14 pruned nodes, max_depth=6\n",
      "[10:36:33] src/tree/updater_prune.cc:74: tree pruning end, 1 roots, 44 extra nodes, 28 pruned nodes, max_depth=7\n",
      "[10:36:33] src/tree/updater_prune.cc:74: tree pruning end, 1 roots, 30 extra nodes, 16 pruned nodes, max_depth=6\n",
      "[10:36:33] src/tree/updater_prune.cc:74: tree pruning end, 1 roots, 42 extra nodes, 12 pruned nodes, max_depth=7\n",
      "[10:36:33] src/tree/updater_prune.cc:74: tree pruning end, 1 roots, 36 extra nodes, 26 pruned nodes, max_depth=7\n",
      "[10:36:33] src/tree/updater_prune.cc:74: tree pruning end, 1 roots, 24 extra nodes, 24 pruned nodes, max_depth=6\n",
      "[10:36:33] src/tree/updater_prune.cc:74: tree pruning end, 1 roots, 32 extra nodes, 26 pruned nodes, max_depth=6\n",
      "[10:36:33] src/tree/updater_prune.cc:74: tree pruning end, 1 roots, 30 extra nodes, 12 pruned nodes, max_depth=6\n",
      "[10:36:33] src/tree/updater_prune.cc:74: tree pruning end, 1 roots, 40 extra nodes, 24 pruned nodes, max_depth=6\n",
      "[10:36:33] src/tree/updater_prune.cc:74: tree pruning end, 1 roots, 46 extra nodes, 14 pruned nodes, max_depth=8\n",
      "[10:36:33] src/tree/updater_prune.cc:74: tree pruning end, 1 roots, 40 extra nodes, 16 pruned nodes, max_depth=7\n",
      "[10:36:33] src/tree/updater_prune.cc:74: tree pruning end, 1 roots, 34 extra nodes, 24 pruned nodes, max_depth=6\n",
      "| \u001b[0m 10      \u001b[0m | \u001b[0m 0.9954  \u001b[0m | \u001b[0m 2.475   \u001b[0m | \u001b[0m 0.3157  \u001b[0m | \u001b[0m 0.1011  \u001b[0m | \u001b[0m 8.933   \u001b[0m | \u001b[0m 199.3   \u001b[0m |\n",
      "=====================================================================================\n"
     ]
    }
   ],
   "source": [
    "#performing Bayesian optimization for 5 iterations with 8 steps of random exploration with an #acquisition function of expected improvement\n",
    "xgb_bo.maximize(n_iter=5, init_points=5)"
   ]
  },
  {
   "cell_type": "markdown",
   "metadata": {
    "id": "zOauOey772r3"
   },
   "source": [
    "# XGB models\n",
    "Now let's take the parameters selected by the bayesian optimization and apply them in our training and testing. "
   ]
  },
  {
   "cell_type": "code",
   "execution_count": 32,
   "metadata": {
    "id": "j8eiJzKwpwXJ"
   },
   "outputs": [
    {
     "data": {
      "text/plain": [
       "44999"
      ]
     },
     "execution_count": 32,
     "metadata": {},
     "output_type": "execute_result"
    }
   ],
   "source": [
    "max_param = xgb_bo.max['params']\n",
    "param= {'alpha': max_param['alpha'], 'gamma': max_param['gamma'], 'learning_rate': max_param['learning_rate'], 'max_depth': int(round(max_param['max_depth'],0)), 'n_estimators': int(round(max_param['n_estimators'],0)), 'objective': 'reg:logistic'}\n",
    "gc.collect()"
   ]
  },
  {
   "cell_type": "code",
   "execution_count": 33,
   "metadata": {
    "id": "OiTX1iSx72r9"
   },
   "outputs": [
    {
     "name": "stdout",
     "output_type": "stream",
     "text": [
      "[10:36:58] src/tree/updater_prune.cc:74: tree pruning end, 1 roots, 28 extra nodes, 0 pruned nodes, max_depth=4\n",
      "[10:36:58] src/tree/updater_prune.cc:74: tree pruning end, 1 roots, 28 extra nodes, 0 pruned nodes, max_depth=4\n",
      "[10:36:58] src/tree/updater_prune.cc:74: tree pruning end, 1 roots, 24 extra nodes, 0 pruned nodes, max_depth=4\n",
      "[10:36:58] src/tree/updater_prune.cc:74: tree pruning end, 1 roots, 26 extra nodes, 0 pruned nodes, max_depth=4\n",
      "[10:36:58] src/tree/updater_prune.cc:74: tree pruning end, 1 roots, 24 extra nodes, 2 pruned nodes, max_depth=4\n",
      "[10:36:58] src/tree/updater_prune.cc:74: tree pruning end, 1 roots, 22 extra nodes, 2 pruned nodes, max_depth=4\n",
      "[10:36:58] src/tree/updater_prune.cc:74: tree pruning end, 1 roots, 28 extra nodes, 0 pruned nodes, max_depth=4\n",
      "[10:36:58] src/tree/updater_prune.cc:74: tree pruning end, 1 roots, 24 extra nodes, 2 pruned nodes, max_depth=4\n",
      "[10:36:58] src/tree/updater_prune.cc:74: tree pruning end, 1 roots, 22 extra nodes, 4 pruned nodes, max_depth=4\n",
      "[10:36:58] src/tree/updater_prune.cc:74: tree pruning end, 1 roots, 20 extra nodes, 0 pruned nodes, max_depth=4\n"
     ]
    }
   ],
   "source": [
    "#To train the algorithm using the parameters selected by bayesian optimization\n",
    "#Fit/train on training data\n",
    "bst = xgb.train(param, dtrain)\n",
    "\n",
    "#predicitions on training set\n",
    "bst_train= pd.DataFrame(data=bst.predict(dtrain, output_margin=False),  columns=[\"xgb_preds\"])\n",
    "y_train=y_train.set_index(np.arange(0,bst_train.shape[0]))\n",
    "bst_train['issignal']=y_train['issignal']"
   ]
  },
  {
   "cell_type": "code",
   "execution_count": 34,
   "metadata": {
    "id": "m2p8YPY1jRQ_"
   },
   "outputs": [],
   "source": [
    "#predictions on test set\n",
    "bst_test = pd.DataFrame(data=bst.predict(dtest, output_margin=False),  columns=[\"xgb_preds\"])\n",
    "y_test=y_test.set_index(np.arange(0,bst_test.shape[0]))\n",
    "bst_test['issignal']=y_test['issignal']"
   ]
  },
  {
   "cell_type": "code",
   "execution_count": 35,
   "metadata": {
    "id": "5Xm-sY3W72s9"
   },
   "outputs": [
    {
     "data": {
      "image/png": "[encoded data removed]",
      "text/plain": [
       "<Figure size 432x288 with 1 Axes>"
      ]
     },
     "metadata": {
      "needs_background": "light"
     },
     "output_type": "display_data"
    }
   ],
   "source": [
    "#The following graph will show us that which features are important for the model\n",
    "ax = xgb.plot_importance(bst)\n",
    "plt.rcParams['figure.figsize'] = [5, 3]\n",
    "plt.show()\n",
    "ax.figure.tight_layout() \n",
    "#ax.figure.savefig(\"hits.png\")"
   ]
  },
  {
   "cell_type": "markdown",
   "metadata": {
    "id": "To2uJSUWAESb"
   },
   "source": [
    "## AUC and ROC\n",
    "\n",
    "The function roc_curve computes the receiver operating characteristic curve, or ROC curve. Quoting Wikipedia :\n",
    "\n",
    "“A receiver operating characteristic (ROC), or simply ROC curve, is a graphical plot which illustrates the performance of a binary classifier system as its discrimination threshold is varied. It is created by plotting the fraction of true positives out of the positives (TPR = true positive rate) vs. the fraction of false positives out of the negatives (FPR = false positive rate), at various threshold settings. TPR is also known as sensitivity, and FPR is one minus the specificity or true negative rate.”\n",
    "\n",
    "This function requires the true binary value and the target scores, which can either be probability estimates of the positive class, confidence values, or binary decisions.\n",
    "\n",
    "Similarly, the function roc_auc_score computes Area Under the Receiver Operating Characteristic Curve (ROC AUC) from prediction scores."
   ]
  },
  {
   "cell_type": "markdown",
   "metadata": {
    "id": "YV_FtX0MUVj-"
   },
   "source": [
    "To find the best threshold which results more signal to background ratio for lambda candidates we use the parameter the approximate median significance by the higgs boson  ML challenge (http://higgsml.lal.in2p3.fr/documentation,9.)"
   ]
  },
  {
   "cell_type": "code",
   "execution_count": 36,
   "metadata": {
    "id": "JvOr9TwvkIZe"
   },
   "outputs": [
    {
     "name": "stderr",
     "output_type": "stream",
     "text": [
      "/Users/julnow/gsi/cbm/ML/JupyterNotebooks/CBM_ML_Lambda_Library/CBM_ML/plot_tools.py:19: RuntimeWarning: divide by zero encountered in true_divide\n",
      "  S0 = sqrt(2 * ((tpr + fpr) * log((1 + tpr/fpr)) - tpr))\n",
      "/Users/julnow/gsi/cbm/ML/JupyterNotebooks/CBM_ML_Lambda_Library/CBM_ML/plot_tools.py:19: RuntimeWarning: invalid value encountered in true_divide\n",
      "  S0 = sqrt(2 * ((tpr + fpr) * log((1 + tpr/fpr)) - tpr))\n",
      "/Users/julnow/gsi/cbm/ML/JupyterNotebooks/CBM_ML_Lambda_Library/CBM_ML/plot_tools.py:26: RuntimeWarning: divide by zero encountered in true_divide\n",
      "  S01 = sqrt(2 * ((tpr1 + fpr1) * log((1 + tpr1/fpr1)) - tpr1))\n",
      "/Users/julnow/gsi/cbm/ML/JupyterNotebooks/CBM_ML_Lambda_Library/CBM_ML/plot_tools.py:26: RuntimeWarning: invalid value encountered in true_divide\n",
      "  S01 = sqrt(2 * ((tpr1 + fpr1) * log((1 + tpr1/fpr1)) - tpr1))\n"
     ]
    },
    {
     "data": {
      "image/png": "[encoded data removed]",
      "text/plain": [
       "<Figure size 1200x800 with 1 Axes>"
      ]
     },
     "metadata": {
      "needs_background": "light"
     },
     "output_type": "display_data"
    },
    {
     "data": {
      "image/png": "[encoded data removed]",
      "text/plain": [
       "<Figure size 864x576 with 1 Axes>"
      ]
     },
     "metadata": {
      "needs_background": "light"
     },
     "output_type": "display_data"
    }
   ],
   "source": [
    "#ROC cures for the predictions on train and test sets\n",
    "train_best, test_best = plot_tools.AMS(y_train, bst_train['xgb_preds'],y_test, bst_test['xgb_preds'])\n",
    "\n",
    "#The first argument should be a data frame, the second a column in it, in the form 'preds'\n",
    "plot_tools.preds_prob(bst_test,'xgb_preds', 'issignal','test')"
   ]
  },
  {
   "cell_type": "markdown",
   "metadata": {
    "id": "DOjnbDBbpB8r"
   },
   "source": [
    "When the AUC, best threshold and approximate median significance for train and test are nearly the same, we save that model and use it. This means that our model is general enough. In my opinion, if the test S0 is above 3.0 then it is a good enough model."
   ]
  },
  {
   "cell_type": "code",
   "execution_count": 37,
   "metadata": {
    "id": "eq8qfnjB2M1y"
   },
   "outputs": [
    {
     "data": {
      "text/plain": [
       "22046"
      ]
     },
     "execution_count": 37,
     "metadata": {},
     "output_type": "execute_result"
    }
   ],
   "source": [
    "#To save some memory on colab we delete some unused variables\n",
    "del dtrain, dtest, x_train, x_test, y_train, y_test, df_scaled\n",
    "gc.collect()"
   ]
  },
  {
   "cell_type": "markdown",
   "metadata": {
    "id": "loqnFETE_1W1"
   },
   "source": [
    "## Confusion Matrix\n",
    "\n",
    "A **Confusion Matrix** $C$ is such that $C_{ij}$ is equal to the number of observations known to be in group $i$ and predicted to be in group $j$. Thus in binary classification, the count of true positives is $C_{00}$, false negatives $C_{01}$,false positives is $C_{10}$, and true neagtives is $C_{11}$.\n",
    "\n",
    "If $ y^{'}_{i} $ is the predicted value of the $ i$-th sample and $y_{i}$ is the corresponding true value, then the fraction of correct predictions over $ n_{samples}$ is defined as \n",
    "$$\n",
    "True \\: positives (y,y^{'}) =  \\sum_{i=1}^{n_{samples} } 1 (y^{'}_{i} = y_{i}=1)\n",
    "$$ \n",
    "\n",
    "The following function prints and plots the confusion matrix. Normalization can be applied by setting `normalize=True`."
   ]
  },
  {
   "cell_type": "code",
   "execution_count": 38,
   "metadata": {
    "id": "QP6WiKgQ_8yG"
   },
   "outputs": [
    {
     "ename": "NameError",
     "evalue": "name 'df_dcm' is not defined",
     "output_type": "error",
     "traceback": [
      "\u001b[0;31m---------------------------------------------------------------------------\u001b[0m",
      "\u001b[0;31mNameError\u001b[0m                                 Traceback (most recent call last)",
      "\u001b[0;32m/var/folders/_8/1pnnpyz111s3q4bf02xypbgc0000gn/T/ipykernel_1572/2031047089.py\u001b[0m in \u001b[0;36m<module>\u001b[0;34m\u001b[0m\n\u001b[1;32m      1\u001b[0m \u001b[0;31m#lets take the best threshold and look at the confusion matrix\u001b[0m\u001b[0;34m\u001b[0m\u001b[0;34m\u001b[0m\u001b[0;34m\u001b[0m\u001b[0m\n\u001b[1;32m      2\u001b[0m \u001b[0mcut1\u001b[0m \u001b[0;34m=\u001b[0m \u001b[0mtest_best\u001b[0m\u001b[0;34m\u001b[0m\u001b[0;34m\u001b[0m\u001b[0m\n\u001b[0;32m----> 3\u001b[0;31m \u001b[0mdf_dcm\u001b[0m\u001b[0;34m[\u001b[0m\u001b[0;34m'xgb_preds1'\u001b[0m\u001b[0;34m]\u001b[0m \u001b[0;34m=\u001b[0m \u001b[0;34m(\u001b[0m\u001b[0;34m(\u001b[0m\u001b[0mdf_dcm\u001b[0m\u001b[0;34m[\u001b[0m\u001b[0;34m'xgb_preds'\u001b[0m\u001b[0;34m]\u001b[0m\u001b[0;34m>\u001b[0m\u001b[0mcut1\u001b[0m\u001b[0;34m)\u001b[0m\u001b[0;34m*\u001b[0m\u001b[0;36m1\u001b[0m\u001b[0;34m)\u001b[0m\u001b[0;34m\u001b[0m\u001b[0;34m\u001b[0m\u001b[0m\n\u001b[0m\u001b[1;32m      4\u001b[0m \u001b[0mcnf_matrix\u001b[0m \u001b[0;34m=\u001b[0m \u001b[0mconfusion_matrix\u001b[0m\u001b[0;34m(\u001b[0m\u001b[0mdf_dcm\u001b[0m\u001b[0;34m[\u001b[0m\u001b[0;34m'issignal'\u001b[0m\u001b[0;34m]\u001b[0m\u001b[0;34m,\u001b[0m \u001b[0mdf_dcm\u001b[0m\u001b[0;34m[\u001b[0m\u001b[0;34m'xgb_preds1'\u001b[0m\u001b[0;34m]\u001b[0m\u001b[0;34m,\u001b[0m \u001b[0mlabels\u001b[0m\u001b[0;34m=\u001b[0m\u001b[0;34m[\u001b[0m\u001b[0;36m1\u001b[0m\u001b[0;34m,\u001b[0m\u001b[0;36m0\u001b[0m\u001b[0;34m]\u001b[0m\u001b[0;34m)\u001b[0m\u001b[0;34m\u001b[0m\u001b[0;34m\u001b[0m\u001b[0m\n\u001b[1;32m      5\u001b[0m \u001b[0mnp\u001b[0m\u001b[0;34m.\u001b[0m\u001b[0mset_printoptions\u001b[0m\u001b[0;34m(\u001b[0m\u001b[0mprecision\u001b[0m\u001b[0;34m=\u001b[0m\u001b[0;36m2\u001b[0m\u001b[0;34m)\u001b[0m\u001b[0;34m\u001b[0m\u001b[0;34m\u001b[0m\u001b[0m\n",
      "\u001b[0;31mNameError\u001b[0m: name 'df_dcm' is not defined"
     ]
    }
   ],
   "source": [
    "#lets take the best threshold and look at the confusion matrix\n",
    "cut1 = test_best\n",
    "df_dcm['xgb_preds1'] = ((df_dcm['xgb_preds']>cut1)*1)\n",
    "cnf_matrix = confusion_matrix(df_dcm['issignal'], df_dcm['xgb_preds1'], labels=[1,0])\n",
    "np.set_printoptions(precision=2)\n",
    "fig, axs = plt.subplots(figsize=(10, 8))\n",
    "axs.yaxis.set_label_coords(-0.04,.5)\n",
    "axs.xaxis.set_label_coords(0.5,-.005)\n",
    "plot_tools.plot_confusion_matrix(cnf_matrix, classes=['signal','background'], title='Confusion Matrix for XGB for cut > '+str(cut1))\n",
    "#plt.savefig('confusion_matrix_extreme_gradient_boosting_whole_data.png')"
   ]
  },
  {
   "cell_type": "code",
   "execution_count": null,
   "metadata": {
    "id": "JOnsE6BTAfdx"
   },
   "outputs": [],
   "source": [
    "plot_tools.cut_visualization(df_urqmd,'xgb_preds',test_best)"
   ]
  },
  {
   "cell_type": "markdown",
   "metadata": {
    "id": "N4-9czLA72uF"
   },
   "source": [
    "## Tree visualization"
   ]
  },
  {
   "cell_type": "code",
   "execution_count": null,
   "metadata": {
    "id": "0IMVwtuF72uI"
   },
   "outputs": [],
   "source": [
    "xgb.to_graphviz(bst, fmap='', num_trees=0, rankdir=None, yes_color=None, no_color=None, condition_node_params=None, leaf_node_params=None)"
   ]
  },
  {
   "cell_type": "markdown",
   "metadata": {
    "id": "zrItzy4C72uS"
   },
   "source": [
    "# Comparison with the manually optimized cuts of KFPF\n",
    "In the already existing Kalman Filter Particle Finder (KFPF) package for online reconstruction and selection of short-lived particles in CBM, these criteria have been manually optimized. These selection-cuts have been selected to maximize the signal to background ratio (S/B) of the $\\Lambda$ for a certain energy on a collisions generator. The selection criteria mainly depends on the collision energy, decay channel and detector configuration."
   ]
  },
  {
   "cell_type": "code",
   "execution_count": null,
   "metadata": {
    "id": "A0CXPHGR72uS"
   },
   "outputs": [],
   "source": [
    "new_check_set= df_urqmd.copy()\n",
    "new_check_set['new_signal']=0\n",
    "mask1 = (new_check_set['chi2primpos'] > 18.4) & (new_check_set['chi2primneg'] > 18.4)\n",
    "\n",
    "mask2 = (new_check_set['ldl'] > 5) & (new_check_set['distance'] < 1)\n",
    "\n",
    "mask3 = (new_check_set['chi2geo'] < 3) \n",
    "\n",
    "new_check_set = new_check_set[(mask1) & (mask2) & (mask3)] \n",
    "\n",
    "#After all these cuts, what is left is considered as signal, so we replace all the values in the 'new_signal'\n",
    "# column by 1\n",
    "new_check_set['new_signal'] = 1\n",
    "cnf_matrix = confusion_matrix(new_check_set['issignal'], new_check_set['new_signal'], labels=[1,0])\n",
    "np.set_printoptions(precision=2)\n",
    "fig, axs = plt.subplots(figsize=(10, 8))\n",
    "axs.yaxis.set_label_coords(-0.04,.5)\n",
    "axs.xaxis.set_label_coords(0.5,-.005)\n",
    "plot_tools.plot_confusion_matrix(cnf_matrix, classes=['signal','background'], title='Confusion Matrix for KFPF')"
   ]
  },
  {
   "cell_type": "code",
   "execution_count": null,
   "metadata": {
    "id": "ncr9MQSdD7WD"
   },
   "outputs": [],
   "source": [
    "cut3 = test_best\n",
    "mask1 = df_original['xgb_preds']>cut3\n",
    "df3=df_original[mask1]"
   ]
  },
  {
   "cell_type": "code",
   "execution_count": null,
   "metadata": {
    "id": "Ix0Bit94QwQH"
   },
   "outputs": [],
   "source": [
    "plot_tools.comaprison_XGB_KFPF(df3['mass'],new_check_set['mass'])"
   ]
  },
  {
   "cell_type": "code",
   "execution_count": null,
   "metadata": {
    "id": "7LZLqe9vwWoY"
   },
   "outputs": [],
   "source": [
    "del x,y,x_test,y_test,x_whole,y_whole,dtest,dtrain,dtest1,df3,df_clean,df_scaled\n",
    "gc.collect()"
   ]
  },
  {
   "cell_type": "code",
   "execution_count": null,
   "metadata": {
    "id": "tH5o4ymExEtz"
   },
   "outputs": [],
   "source": [
    "input_tree = uproot.open('/content/drive/MyDrive/10k_events_dcmqgsm.root:PlainTree').arrays(library='np')\n",
    "gc.collect()"
   ]
  },
  {
   "cell_type": "code",
   "execution_count": null,
   "metadata": {
    "id": "dYUbJzgxxTH7"
   },
   "outputs": [],
   "source": [
    "df_original= pd.DataFrame(data=input_tree)\n",
    "del input_tree\n",
    "gc.collect()"
   ]
  },
  {
   "cell_type": "markdown",
   "metadata": {
    "id": "T4qfipIF1f9C"
   },
   "source": [
    "# Importing the final predictor to root\n",
    "We will use the treelite library to transport the final predictor of our model to root"
   ]
  },
  {
   "cell_type": "code",
   "execution_count": null,
   "metadata": {
    "id": "EclXZNYd11Dc"
   },
   "outputs": [],
   "source": [
    "#install treelite \n",
    "!pip install treelite\n",
    "import treelite\n",
    "#create an object out of your model, bst in our case\n",
    "model = treelite.Model.from_xgboost(bst)\n",
    "#use GCC compiler\n",
    "toolchain = 'gcc'\n",
    "#parallel_comp can be changed upto as many processors as one have\n",
    "model.export_lib(toolchain=toolchain, libpath='./mymodel.so',\n",
    "                 params={'parallel_comp': 8}, verbose=True)\n",
    "\n",
    "# Operating system of the target machine\n",
    "platform = 'unix'\n",
    "# C compiler to use to compile prediction code on the target machine\n",
    "toolchain = 'gcc'\n",
    "# Save the source package as a zip archive named mymodel.zip\n",
    "# Later, we'll use this package to produce the library mymodel.so.\n",
    "model.export_srcpkg(platform=platform, toolchain=toolchain,\n",
    "                    pkgpath='./mymodel.zip', libname='mymodel.so',\n",
    "                    verbose=True)"
   ]
  },
  {
   "cell_type": "code",
   "execution_count": null,
   "metadata": {
    "id": "Ha8m3Kub6UAt"
   },
   "outputs": [],
   "source": [
    "!unzip mymodel.zip"
   ]
  },
  {
   "cell_type": "code",
   "execution_count": null,
   "metadata": {
    "id": "o4DPuQAQAGVS"
   },
   "outputs": [],
   "source": [
    "#Build the source package (using GNU Make or NMake).\n",
    "%cd mymodel \n",
    "!make\n",
    "\n",
    "!ls"
   ]
  },
  {
   "cell_type": "markdown",
   "metadata": {
    "id": "cXGt5x8fpZBu"
   },
   "source": [
    "If one wants to transfer this model to a different computer, target machine, then one should follow the following commands in command prompt"
   ]
  },
  {
   "cell_type": "code",
   "execution_count": null,
   "metadata": {
    "id": "VoJldomSp-bu"
   },
   "outputs": [],
   "source": [
    "sftp john@lxpool.gsi.de\n",
    "sftp> put mymodel.zip\n",
    "sftp> quit"
   ]
  },
  {
   "cell_type": "code",
   "execution_count": null,
   "metadata": {
    "id": "IjOvqUdRqNvA"
   },
   "outputs": [],
   "source": [
    "ssh john@lxpool.gsi.de\n",
    "unzip mymodel.zip\n",
    "cd mymodel\n",
    "make -j8\n",
    "\n"
   ]
  },
  {
   "cell_type": "markdown",
   "metadata": {
    "id": "ZpKXRlds6jpD"
   },
   "source": [
    "The following C++ code can be the applied as a macro on some new data file"
   ]
  },
  {
   "cell_type": "code",
   "execution_count": null,
   "metadata": {
    "id": "4pYC2l_r6iuO"
   },
   "outputs": [],
   "source": [
    "%%writefile test.cpp\n",
    "#include \"TROOT.h\"\n",
    "#include \"TFile.h\"\n",
    "#include \"TTree.h\"\n",
    "#include \"TH1F.h\"\n",
    "#include <vector>\n",
    "#include \"TString.h\"\n",
    "#include \"TMath.h\"\n",
    "#include \"TH1.h\"\n",
    "#include \"TF1.h\"\n",
    "#include \"TCanvas.h\"\n",
    "\n",
    "#include <stdio.h>\n",
    "#include <stdlib.h>\n",
    "#include \"main.c\"\n",
    "\n",
    "void python_to_root(){\n",
    "  TCanvas* c1 = new TCanvas();\n",
    "  //c1->Divide(2,1);\n",
    "  //c1->cd(1);\n",
    "  \n",
    "  /* Open the root file*/\n",
    "  TFile *f = new TFile(\"/gdrive/My Drive/presentations/treelite/10k_events_PFSimplePlainTree.root\",\"UPDATE\");\n",
    "  TTree *t1 = (TTree*)f->Get(\"PlainTree\");\n",
    "  \n",
    "  \n",
    "  Float_t  LambdaCandidates_chi2primneg, LambdaCandidates_chi2primpos, LambdaCandidates_ldl, LambdaCandidates_distance, LambdaCandidates_chi2geo, LambdaCandidates_mass;\n",
    "  \n",
    "  t1->SetBranchAddress(\"LambdaCandidates_chi2primneg\",&LambdaCandidates_chi2primneg);\n",
    "  t1->SetBranchAddress(\"LambdaCandidates_chi2primpos\",&LambdaCandidates_chi2primpos);\n",
    "  t1->SetBranchAddress(\"LambdaCandidates_ldl\",&LambdaCandidates_ldl);\n",
    "  t1->SetBranchAddress(\"LambdaCandidates_distance\",&LambdaCandidates_distance);\n",
    "  t1->SetBranchAddress(\"LambdaCandidates_chi2geo\",&LambdaCandidates_chi2geo);\n",
    "  t1->SetBranchAddress(\"LambdaCandidates_mass\",&LambdaCandidates_mass);\n",
    "  \n",
    "  \n",
    "  std::vector<float> output{};\n",
    "  \n",
    "  const long n_entries = t1->GetEntries();\n",
    "  output.reserve(n_entries);\n",
    "\n",
    "  const size_t n_features = 5;\n",
    "  union Entry input[n_features];\n",
    "  \n",
    "  //let's create a new branch which will store the probability returened for each proton-pion pair by our model \n",
    "  Float_t probab;\n",
    "  TBranch *bpt = t1->Branch(\"probab\",&probab,\"probabilities\");\n",
    "  t1->SetBranchAddress(\"probab\",&probab);\n",
    "  \n",
    "  TH1F *h = new TH1F(\"h_prob\", \"This is the #Lambda invariant mass after the cut >0.918080\", 300, 1.04, 1.4);\n",
    "  h->GetXaxis()->SetTitle(\"[GeV]\");\n",
    "  \n",
    "  for (long i = 0; i < n_entries; i++)\n",
    "   {\n",
    "     t1->GetEntry(i);\n",
    "    \n",
    "    input[0].fvalue = LambdaCandidates_chi2primneg;\n",
    "    input[1].fvalue = LambdaCandidates_chi2primpos;\n",
    "    input[2].fvalue = LambdaCandidates_ldl;\n",
    "    input[3].fvalue = LambdaCandidates_distance;\n",
    "    input[4].fvalue = LambdaCandidates_chi2geo;\n",
    "    \n",
    "    output.push_back(predict(input, 0));\n",
    "    probab= output.at(i);\n",
    "   \n",
    "    if(probab > 0.918080){\n",
    "    h->Fill(LambdaCandidates_mass);}\n",
    "  }\n",
    "  \n",
    "  h->Draw();\n",
    "\n",
    "  \n",
    "  \n",
    "}\n"
   ]
  },
  {
   "cell_type": "code",
   "execution_count": null,
   "metadata": {
    "id": "yjofU-aMx8O7"
   },
   "outputs": [],
   "source": []
  },
  {
   "cell_type": "code",
   "execution_count": null,
   "metadata": {
    "id": "Nkyy2xmSxb2g"
   },
   "outputs": [],
   "source": [
    "# Installing root\n",
    "!mkdir -p APPS\n",
    "!pwd\n",
    "!cd APPS && wget https://root.cern/download/root_v6.22.00.Linux-ubuntu19-x86_64-gcc9.2.tar.gz \n",
    "!cd APPS && tar -xf root_v6.22.00.Linux-ubuntu19-x86_64-gcc9.2.tar.gz"
   ]
  },
  {
   "cell_type": "markdown",
   "metadata": {
    "id": "zWxtCrtk7REs"
   },
   "source": [
    "# Running colab on locally\n",
    "https://research.google.com/colaboratory/local-runtimes.html"
   ]
  },
  {
   "cell_type": "code",
   "execution_count": null,
   "metadata": {
    "id": "RrsPK01b7U2W"
   },
   "outputs": [],
   "source": []
  }
 ],
 "metadata": {
  "colab": {
   "collapsed_sections": [],
   "name": "updated 21 june 2021 XGB for Collaboration Meeting clean.ipynb",
   "provenance": []
  },
  "kernelspec": {
   "display_name": "Python 3 (ipykernel)",
   "language": "python",
   "name": "python3"
  },
  "language_info": {
   "codemirror_mode": {
    "name": "ipython",
    "version": 3
   },
   "file_extension": ".py",
   "mimetype": "text/x-python",
   "name": "python",
   "nbconvert_exporter": "python",
   "pygments_lexer": "ipython3",
   "version": "3.8.11"
  }
 },
 "nbformat": 4,
 "nbformat_minor": 4
}
